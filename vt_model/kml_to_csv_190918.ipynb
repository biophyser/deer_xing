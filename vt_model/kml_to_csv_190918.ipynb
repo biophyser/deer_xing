{
 "cells": [
  {
   "cell_type": "code",
   "execution_count": 1,
   "metadata": {},
   "outputs": [],
   "source": [
    "from bs4 import BeautifulSoup\n",
    "import csv\n",
    "import os\n",
    "import matplotlib.pyplot as plt\n",
    "import pandas as pd\n",
    "import numpy as np\n",
    "from shapely.geometry import LineString"
   ]
  },
  {
   "cell_type": "code",
   "execution_count": 2,
   "metadata": {},
   "outputs": [],
   "source": [
    "def process_coord_string(coord_string):\n",
    "    \"\"\"\n",
    "    Take a coord string and spit out long/lat floats\n",
    "    \"\"\"\n",
    "    space_splits = coord_string.split(' ')\n",
    "    path_points = list()\n",
    "    for split in space_splits:\n",
    "        comma_split = split.split(',')\n",
    "        lat = float(comma_split[1]) # lat\n",
    "        lon = float(comma_split[0]) # long\n",
    "        path_points.append(tuple([lat, lon]))\n",
    "    return path_points"
   ]
  },
  {
   "cell_type": "code",
   "execution_count": 3,
   "metadata": {},
   "outputs": [],
   "source": [
    "def process_place(placemark):\n",
    "    \"\"\"Process placemark data from a KML file\"\"\"\n",
    "    place_dict = dict()\n",
    "    for i in placemark.find_all('SimpleData'):\n",
    "        place_dict[i['name']] = i.text\n",
    "        \n",
    "    try:\n",
    "        place_dict['lat_lon_list'] = process_coord_string(placemark.find('coordinates').string)\n",
    "        place_dict['line'] = LineString(place_dict['lat_lon_list'])\n",
    "        place_dict['mid_point'] = place_dict['line'].interpolate(0.5, normalized = True)\n",
    "    except:\n",
    "        place_dict['lat_lon_list'] = np.nan\n",
    "        place_dict['line'] = np.nan\n",
    "        place_dict['mid_point'] = np.nan\n",
    "\n",
    "    return place_dict"
   ]
  },
  {
   "cell_type": "markdown",
   "metadata": {},
   "source": [
    "# Parsing Coordinates in KML"
   ]
  },
  {
   "cell_type": "markdown",
   "metadata": {},
   "source": [
    "## Read file"
   ]
  },
  {
   "cell_type": "code",
   "execution_count": 2,
   "metadata": {},
   "outputs": [],
   "source": [
    "with  open('VT_Annual_Average_Daily_Traffic_AADT__2017.kml', encoding='utf8') as f:\n",
    "    s = BeautifulSoup(f, 'xml')"
   ]
  },
  {
   "cell_type": "markdown",
   "metadata": {},
   "source": [
    "# Parsing data in KML"
   ]
  },
  {
   "cell_type": "code",
   "execution_count": 6,
   "metadata": {},
   "outputs": [],
   "source": [
    "placemarks = s.find_all('Placemark')"
   ]
  },
  {
   "cell_type": "code",
   "execution_count": 7,
   "metadata": {},
   "outputs": [],
   "source": [
    "place = placemarks[100]"
   ]
  },
  {
   "cell_type": "markdown",
   "metadata": {},
   "source": [
    "## Testing Place Parsing"
   ]
  },
  {
   "cell_type": "code",
   "execution_count": 12,
   "metadata": {},
   "outputs": [],
   "source": [
    "place_dict = process_place(placemarks[500])"
   ]
  },
  {
   "cell_type": "code",
   "execution_count": 13,
   "metadata": {},
   "outputs": [],
   "source": [
    "place_dict = dict()\n",
    "for i in place.find_all('SimpleData'):\n",
    "    place_dict[i['name']] = i.text\n",
    "    #print(\"{}: {}\".format(i['name'], i.text))"
   ]
  },
  {
   "cell_type": "code",
   "execution_count": 14,
   "metadata": {},
   "outputs": [],
   "source": [
    "place_dict['lat_lon_list'] = process_coord_string(place.find('coordinates').string)\n",
    "place_dict['line'] = LineString(latlon)\n",
    "place_dict['mid_point'] = line.interpolate(0.5, normalized = True)"
   ]
  },
  {
   "cell_type": "code",
   "execution_count": 15,
   "metadata": {},
   "outputs": [
    {
     "data": {
      "image/png": "[encoded data removed]",
      "text/plain": [
       "<Figure size 432x288 with 1 Axes>"
      ]
     },
     "metadata": {
      "needs_background": "light"
     },
     "output_type": "display_data"
    }
   ],
   "source": [
    "x, y = place_dict['line'].xy\n",
    "plt.plot(x, y)\n",
    "x, y = place_dict['mid_point'].xy\n",
    "plt.plot(x, y, marker='o')\n",
    "None"
   ]
  },
  {
   "cell_type": "markdown",
   "metadata": {
    "jupyter": {
     "outputs_hidden": true
    }
   },
   "source": [
    "```python\n",
    "place_list = list()\n",
    "for n, place in enumerate(placemarks):\n",
    "    print(n, end=', ')\n",
    "    place_list.append(process_place(place))\n",
    "```"
   ]
  },
  {
   "cell_type": "markdown",
   "metadata": {},
   "source": [
    "## Place Parsing for reals"
   ]
  },
  {
   "cell_type": "code",
   "execution_count": 16,
   "metadata": {},
   "outputs": [],
   "source": [
    "place_list = [process_place(i) for i in placemarks]"
   ]
  },
  {
   "cell_type": "code",
   "execution_count": 17,
   "metadata": {},
   "outputs": [],
   "source": [
    "df = pd.DataFrame(place_list)"
   ]
  },
  {
   "cell_type": "code",
   "execution_count": 18,
   "metadata": {},
   "outputs": [
    {
     "data": {
      "text/plain": [
       "(3543, 29)"
      ]
     },
     "execution_count": 18,
     "metadata": {},
     "output_type": "execute_result"
    }
   ],
   "source": [
    "df.shape"
   ]
  },
  {
   "cell_type": "code",
   "execution_count": 19,
   "metadata": {},
   "outputs": [],
   "source": [
    "test = df.dropna(axis='rows', subset=['lat_lon_list', 'line', 'mid_point'])"
   ]
  },
  {
   "cell_type": "code",
   "execution_count": 20,
   "metadata": {},
   "outputs": [
    {
     "data": {
      "text/plain": [
       "Index(['OBJECTID', 'AADT', 'BeginMM', 'BeginRefName', 'BeginStation', 'CTCode',\n",
       "       'EndMM', 'EndRefName', 'EndRefNum', 'EndStation', 'ETE_ID',\n",
       "       'ETE_BeginMM', 'ETE_EndMM', 'FunctionalClass', 'RouteName', 'RouteType',\n",
       "       'SectionNum', 'StandardRouteCode', 'Status', 'TownName', 'Year',\n",
       "       'IsDivided', 'lat_lon_list', 'line', 'mid_point', 'ATRStation',\n",
       "       'ATRStatus', 'BeginRefNum', 'RouteNum'],\n",
       "      dtype='object')"
      ]
     },
     "execution_count": 20,
     "metadata": {},
     "output_type": "execute_result"
    }
   ],
   "source": [
    "test.columns"
   ]
  },
  {
   "cell_type": "markdown",
   "metadata": {},
   "source": [
    "### Saving placemarkers to a csv\n",
    "Might have to re-calculat"
   ]
  },
  {
   "cell_type": "markdown",
   "metadata": {},
   "source": [
    "```python\n",
    "test.to_csv('vt_2017_avg_daily_traffic_190919.csv')\n",
    "```"
   ]
  },
  {
   "cell_type": "code",
   "execution_count": 24,
   "metadata": {},
   "outputs": [
    {
     "data": {
      "image/png": "[encoded data removed]",
      "text/plain": [
       "<Figure size 432x720 with 1 Axes>"
      ]
     },
     "metadata": {
      "needs_background": "light"
     },
     "output_type": "display_data"
    }
   ],
   "source": [
    "colors = plt.get_cmap('copper', lut=test.AADT.max())\n",
    "plt.figure(figsize=(6,10))\n",
    "\n",
    "for index, row in test.iterrows():    \n",
    "    y, x = test.loc[index, 'line'].xy\n",
    "    plt.plot(x, y, color=colors(int(test.loc[index, 'AADT'])))\n",
    "plt.xlabel('Latitude')\n",
    "plt.ylabel('Longitude')\n",
    "plt.title('Vermont 2017 Average Daily Traffic')\n",
    "#plt.savefig('vt_2017_avg_daily_traffic.svg')"
   ]
  },
  {
   "cell_type": "markdown",
   "metadata": {},
   "source": [
    "# All roads in VT"
   ]
  },
  {
   "cell_type": "markdown",
   "metadata": {},
   "source": [
    "Note that this file loaded to be 12x the size of the original xml file."
   ]
  },
  {
   "cell_type": "code",
   "execution_count": 4,
   "metadata": {},
   "outputs": [],
   "source": [
    "with  open('VT_Road_Centerline.kml', encoding='utf8') as f:\n",
    "    centerline_soup = BeautifulSoup(f, 'xml')"
   ]
  },
  {
   "cell_type": "code",
   "execution_count": 5,
   "metadata": {},
   "outputs": [],
   "source": [
    "placemarks = centerline_soup.find_all('Placemark')"
   ]
  },
  {
   "cell_type": "code",
   "execution_count": 6,
   "metadata": {},
   "outputs": [],
   "source": [
    "place_list = [process_place(i) for i in placemarks]"
   ]
  },
  {
   "cell_type": "code",
   "execution_count": 7,
   "metadata": {},
   "outputs": [],
   "source": [
    "df = pd.DataFrame(place_list)"
   ]
  },
  {
   "cell_type": "code",
   "execution_count": 8,
   "metadata": {},
   "outputs": [
    {
     "data": {
      "text/plain": [
       "(76163, 70)"
      ]
     },
     "execution_count": 8,
     "metadata": {},
     "output_type": "execute_result"
    }
   ],
   "source": [
    "df.shape"
   ]
  },
  {
   "cell_type": "code",
   "execution_count": 9,
   "metadata": {},
   "outputs": [
    {
     "data": {
      "text/plain": [
       "21.496754163138583"
      ]
     },
     "execution_count": 9,
     "metadata": {},
     "output_type": "execute_result"
    }
   ],
   "source": [
    "76163 / 3543"
   ]
  },
  {
   "cell_type": "code",
   "execution_count": 16,
   "metadata": {},
   "outputs": [],
   "source": [
    "test = df.dropna(axis='rows', subset=['lat_lon_list', 'line', 'mid_point'])"
   ]
  },
  {
   "cell_type": "code",
   "execution_count": 17,
   "metadata": {},
   "outputs": [
    {
     "data": {
      "text/plain": [
       "(76163, 70)"
      ]
     },
     "execution_count": 17,
     "metadata": {},
     "output_type": "execute_result"
    }
   ],
   "source": [
    "test.shape"
   ]
  },
  {
   "cell_type": "code",
   "execution_count": 20,
   "metadata": {},
   "outputs": [
    {
     "data": {
      "text/plain": [
       "Index(['OBJECTID', 'AADT', 'BeginMM', 'BeginRefName', 'BeginStation', 'CTCode',\n",
       "       'EndMM', 'EndRefName', 'EndRefNum', 'EndStation', 'ETE_ID',\n",
       "       'ETE_BeginMM', 'ETE_EndMM', 'FunctionalClass', 'RouteName', 'RouteType',\n",
       "       'SectionNum', 'StandardRouteCode', 'Status', 'TownName', 'Year',\n",
       "       'IsDivided', 'lat_lon_list', 'line', 'mid_point', 'ATRStation',\n",
       "       'ATRStatus', 'BeginRefNum', 'RouteNum'],\n",
       "      dtype='object')"
      ]
     },
     "execution_count": 20,
     "metadata": {},
     "output_type": "execute_result"
    }
   ],
   "source": [
    "test.columns"
   ]
  },
  {
   "cell_type": "code",
   "execution_count": null,
   "metadata": {},
   "outputs": [],
   "source": [
    "#```python\n",
    "test.to_csv('vt_all_roads_190930.csv')\n",
    "#```"
   ]
  },
  {
   "cell_type": "markdown",
   "metadata": {},
   "source": [
    "21 minutes"
   ]
  },
  {
   "cell_type": "code",
   "execution_count": 10,
   "metadata": {},
   "outputs": [
    {
     "data": {
      "text/plain": [
       "0.042779291553133515"
      ]
     },
     "execution_count": 10,
     "metadata": {},
     "output_type": "execute_result"
    }
   ],
   "source": [
    "157 / 3670"
   ]
  },
  {
   "cell_type": "code",
   "execution_count": 11,
   "metadata": {},
   "outputs": [
    {
     "data": {
      "text/plain": [
       "7.0"
      ]
     },
     "execution_count": 11,
     "metadata": {},
     "output_type": "execute_result"
    }
   ],
   "source": [
    "21*20/60"
   ]
  },
  {
   "cell_type": "code",
   "execution_count": 13,
   "metadata": {},
   "outputs": [
    {
     "data": {
      "text/plain": [
       "6.125"
      ]
     },
     "execution_count": 13,
     "metadata": {},
     "output_type": "execute_result"
    }
   ],
   "source": [
    "(7*21)/24"
   ]
  },
  {
   "cell_type": "code",
   "execution_count": 14,
   "metadata": {},
   "outputs": [
    {
     "data": {
      "text/html": [
       "<div>\n",
       "<style scoped>\n",
       "    .dataframe tbody tr th:only-of-type {\n",
       "        vertical-align: middle;\n",
       "    }\n",
       "\n",
       "    .dataframe tbody tr th {\n",
       "        vertical-align: top;\n",
       "    }\n",
       "\n",
       "    .dataframe thead th {\n",
       "        text-align: right;\n",
       "    }\n",
       "</style>\n",
       "<table border=\"1\" class=\"dataframe\">\n",
       "  <thead>\n",
       "    <tr style=\"text-align: right;\">\n",
       "      <th></th>\n",
       "      <th>OBJECTID</th>\n",
       "      <th>SEGMENTID</th>\n",
       "      <th>ARCID</th>\n",
       "      <th>PD</th>\n",
       "      <th>PT</th>\n",
       "      <th>SN</th>\n",
       "      <th>ST</th>\n",
       "      <th>SD</th>\n",
       "      <th>GEONAMEID</th>\n",
       "      <th>PRIMARYNAME</th>\n",
       "      <th>...</th>\n",
       "      <th>last_edited_user</th>\n",
       "      <th>last_edited_date</th>\n",
       "      <th>created_user</th>\n",
       "      <th>created_date</th>\n",
       "      <th>ALIAS5</th>\n",
       "      <th>ALIAS1</th>\n",
       "      <th>ALIAS2</th>\n",
       "      <th>ALIAS3</th>\n",
       "      <th>ALIAS4</th>\n",
       "      <th>ROADCLOSED</th>\n",
       "    </tr>\n",
       "  </thead>\n",
       "  <tbody>\n",
       "    <tr>\n",
       "      <td>0</td>\n",
       "      <td>1</td>\n",
       "      <td>16773</td>\n",
       "      <td>296</td>\n",
       "      <td></td>\n",
       "      <td></td>\n",
       "      <td>SMOKESHIRE</td>\n",
       "      <td>RD</td>\n",
       "      <td></td>\n",
       "      <td>4768</td>\n",
       "      <td>SMOKESHIRE RD</td>\n",
       "      <td>...</td>\n",
       "      <td>NaN</td>\n",
       "      <td>NaN</td>\n",
       "      <td>NaN</td>\n",
       "      <td>NaN</td>\n",
       "      <td>NaN</td>\n",
       "      <td>NaN</td>\n",
       "      <td>NaN</td>\n",
       "      <td>NaN</td>\n",
       "      <td>NaN</td>\n",
       "      <td>NaN</td>\n",
       "    </tr>\n",
       "    <tr>\n",
       "      <td>1</td>\n",
       "      <td>2</td>\n",
       "      <td>254482</td>\n",
       "      <td>1604</td>\n",
       "      <td></td>\n",
       "      <td></td>\n",
       "      <td>MAIN</td>\n",
       "      <td>ST</td>\n",
       "      <td></td>\n",
       "      <td>1869</td>\n",
       "      <td>MAIN ST</td>\n",
       "      <td>...</td>\n",
       "      <td>HMSADMIN</td>\n",
       "      <td>2019-05-24T19:59:15.000Z</td>\n",
       "      <td>NaN</td>\n",
       "      <td>NaN</td>\n",
       "      <td>NaN</td>\n",
       "      <td>NaN</td>\n",
       "      <td>NaN</td>\n",
       "      <td>NaN</td>\n",
       "      <td>NaN</td>\n",
       "      <td>NaN</td>\n",
       "    </tr>\n",
       "    <tr>\n",
       "      <td>2</td>\n",
       "      <td>3</td>\n",
       "      <td>NaN</td>\n",
       "      <td>109</td>\n",
       "      <td>NaN</td>\n",
       "      <td>NaN</td>\n",
       "      <td>NaN</td>\n",
       "      <td>NaN</td>\n",
       "      <td>NaN</td>\n",
       "      <td>NaN</td>\n",
       "      <td>NaN</td>\n",
       "      <td>...</td>\n",
       "      <td>NaN</td>\n",
       "      <td>NaN</td>\n",
       "      <td>NaN</td>\n",
       "      <td>NaN</td>\n",
       "      <td>NaN</td>\n",
       "      <td>NaN</td>\n",
       "      <td>NaN</td>\n",
       "      <td>NaN</td>\n",
       "      <td>NaN</td>\n",
       "      <td>NaN</td>\n",
       "    </tr>\n",
       "    <tr>\n",
       "      <td>3</td>\n",
       "      <td>4</td>\n",
       "      <td>NaN</td>\n",
       "      <td>2</td>\n",
       "      <td>NaN</td>\n",
       "      <td>NaN</td>\n",
       "      <td>NaN</td>\n",
       "      <td>NaN</td>\n",
       "      <td>NaN</td>\n",
       "      <td>NaN</td>\n",
       "      <td>NaN</td>\n",
       "      <td>...</td>\n",
       "      <td>NaN</td>\n",
       "      <td>NaN</td>\n",
       "      <td>NaN</td>\n",
       "      <td>NaN</td>\n",
       "      <td>NaN</td>\n",
       "      <td>NaN</td>\n",
       "      <td>NaN</td>\n",
       "      <td>NaN</td>\n",
       "      <td>NaN</td>\n",
       "      <td>NaN</td>\n",
       "    </tr>\n",
       "    <tr>\n",
       "      <td>4</td>\n",
       "      <td>5</td>\n",
       "      <td>54238</td>\n",
       "      <td>57</td>\n",
       "      <td></td>\n",
       "      <td></td>\n",
       "      <td>GUILFORD CENTER</td>\n",
       "      <td>RD</td>\n",
       "      <td></td>\n",
       "      <td>8755</td>\n",
       "      <td>GUILFORD CENTER RD</td>\n",
       "      <td>...</td>\n",
       "      <td>HMSADMIN</td>\n",
       "      <td>2017-07-10T12:37:44.000Z</td>\n",
       "      <td>HMSADMIN</td>\n",
       "      <td>2017-03-15T19:11:58.000Z</td>\n",
       "      <td>NaN</td>\n",
       "      <td>NaN</td>\n",
       "      <td>NaN</td>\n",
       "      <td>NaN</td>\n",
       "      <td>NaN</td>\n",
       "      <td>NaN</td>\n",
       "    </tr>\n",
       "  </tbody>\n",
       "</table>\n",
       "<p>5 rows × 70 columns</p>\n",
       "</div>"
      ],
      "text/plain": [
       "  OBJECTID SEGMENTID ARCID   PD   PT               SN   ST   SD GEONAMEID  \\\n",
       "0        1     16773   296                 SMOKESHIRE   RD           4768   \n",
       "1        2    254482  1604                       MAIN   ST           1869   \n",
       "2        3       NaN   109  NaN  NaN              NaN  NaN  NaN       NaN   \n",
       "3        4       NaN     2  NaN  NaN              NaN  NaN  NaN       NaN   \n",
       "4        5     54238    57            GUILFORD CENTER   RD           8755   \n",
       "\n",
       "          PRIMARYNAME  ... last_edited_user          last_edited_date  \\\n",
       "0       SMOKESHIRE RD  ...              NaN                       NaN   \n",
       "1             MAIN ST  ...         HMSADMIN  2019-05-24T19:59:15.000Z   \n",
       "2                 NaN  ...              NaN                       NaN   \n",
       "3                 NaN  ...              NaN                       NaN   \n",
       "4  GUILFORD CENTER RD  ...         HMSADMIN  2017-07-10T12:37:44.000Z   \n",
       "\n",
       "  created_user              created_date ALIAS5 ALIAS1 ALIAS2 ALIAS3 ALIAS4  \\\n",
       "0          NaN                       NaN    NaN    NaN    NaN    NaN    NaN   \n",
       "1          NaN                       NaN    NaN    NaN    NaN    NaN    NaN   \n",
       "2          NaN                       NaN    NaN    NaN    NaN    NaN    NaN   \n",
       "3          NaN                       NaN    NaN    NaN    NaN    NaN    NaN   \n",
       "4     HMSADMIN  2017-03-15T19:11:58.000Z    NaN    NaN    NaN    NaN    NaN   \n",
       "\n",
       "  ROADCLOSED  \n",
       "0        NaN  \n",
       "1        NaN  \n",
       "2        NaN  \n",
       "3        NaN  \n",
       "4        NaN  \n",
       "\n",
       "[5 rows x 70 columns]"
      ]
     },
     "execution_count": 14,
     "metadata": {},
     "output_type": "execute_result"
    }
   ],
   "source": [
    "df.head()"
   ]
  },
  {
   "cell_type": "code",
   "execution_count": 21,
   "metadata": {},
   "outputs": [
    {
     "name": "stdout",
     "output_type": "stream",
     "text": [
      "OBJECTID:50001\n",
      "SEGMENTID:27266\n",
      "ARCID:193\n",
      "PD:\n",
      "PT:\n",
      "SN:FAIRWOOD\n",
      "ST:PKWY\n",
      "SD:E\n",
      "GEONAMEID:13098\n",
      "PRIMARYNAME:FAIRWOOD PKWY E\n",
      "SURFACETYPE:Paved\n",
      "ONEWAY:No\n",
      "RTNAME:TH-516\n",
      "RTNUMBER:516\n",
      "HWYSIGN:TH-516\n",
      "RPCCLASS:3\n",
      "AOTCLASS:Town Highway Class 3\n",
      "NUTS:N\n",
      "NHS:0\n",
      "FUNCL:7\n",
      "TWN_LR:L0807003516\n",
      "ETE_LR:-\n",
      "CTCODE:0807\n",
      "UA:1\n",
      "CTUA:0807-1\n",
      "CERTCODE:0807-0\n",
      "ARCMILES:0.068666\n",
      "AOTMILES:0.07\n",
      "AOTMILES_CALC:0\n",
      "UPDACT:-\n",
      "LOCMETH:1\n",
      "SRCORG:26\n",
      "SCENICHWY:0\n",
      "SCENICBYWAY:0\n",
      "ANCIENTROADYEAR:0\n",
      "TRUCKROUTE:0\n",
      "ISVISIBLE:1\n",
      "GlobalID:{E9C7DF10-6B41-4B55-9B98-36A368E28D1E}\n",
      "FIPS8:50015035\n",
      "RTNUMBER_N:516\n",
      "RDNAME:13098\n",
      "RDFLNAME:FAIRWOOD PKWY E\n",
      "ISVISIBLE_UC:0\n",
      "FUNCL_OLD:9\n",
      "Urban_Code:99999\n",
      "FAID:500150350193\n",
      "FED_AID:-\n",
      "Facility_Type:2\n",
      "PENT:N\n",
      "TOWNGEOID:5001546675\n",
      "StartNodeID:3311\n",
      "EndNodeID:6099\n",
      "Ownership:3\n",
      "lat_lon_list:[(44.556670913299016, -72.58117137363784), (44.55692608731772, -72.58085781746333), (44.55720527982974, -72.5805568783893), (44.557440080459074, -72.5802904889969)]\n",
      "line:LINESTRING (44.55667091329902 -72.58117137363784, 44.55692608731772 -72.58085781746333, 44.55720527982974 -72.5805568783893, 44.55744008045907 -72.58029048899689)\n",
      "mid_point:POINT (44.55704896335315 -72.58072537050028)\n",
      "FORMER_RTNAME:nan\n",
      "PROVISIONALYEAR:0\n",
      "SPEEDLIMIT:nan\n",
      "CERTYEAR:nan\n",
      "last_edited_user:nan\n",
      "last_edited_date:nan\n",
      "created_user:nan\n",
      "created_date:nan\n",
      "ALIAS5:nan\n",
      "ALIAS1:nan\n",
      "ALIAS2:nan\n",
      "ALIAS3:nan\n",
      "ALIAS4:nan\n",
      "ROADCLOSED:nan\n"
     ]
    }
   ],
   "source": [
    "for i, val in df.iloc[50000,:].items():\n",
    "    print('{}:{}'.format(i,val))"
   ]
  },
  {
   "cell_type": "code",
   "execution_count": 40,
   "metadata": {},
   "outputs": [
    {
     "data": {
      "text/plain": [
       "0       72489\n",
       "100      1095\n",
       "200       770\n",
       "800       497\n",
       "700       264\n",
       "1000      246\n",
       "900       206\n",
       "500       196\n",
       "300       196\n",
       "400       112\n",
       "600        92\n",
       "Name: SCENICBYWAY, dtype: int64"
      ]
     },
     "execution_count": 40,
     "metadata": {},
     "output_type": "execute_result"
    }
   ],
   "source": [
    "df.SCENICBYWAY.value_counts(dropna=False)"
   ]
  },
  {
   "cell_type": "code",
   "execution_count": 39,
   "metadata": {},
   "outputs": [
    {
     "data": {
      "text/plain": [
       "0       74902\n",
       "2010      375\n",
       "2012      345\n",
       "2007      296\n",
       "2008      101\n",
       "2015       47\n",
       "2011       41\n",
       "2009       17\n",
       "2006       12\n",
       "2013       11\n",
       "2017        6\n",
       "2016        6\n",
       "NaN         3\n",
       "2014        1\n",
       "Name: ANCIENTROADYEAR, dtype: int64"
      ]
     },
     "execution_count": 39,
     "metadata": {},
     "output_type": "execute_result"
    }
   ],
   "source": [
    "df.ANCIENTROADYEAR.value_counts(dropna=False)"
   ]
  },
  {
   "cell_type": "code",
   "execution_count": 38,
   "metadata": {},
   "outputs": [
    {
     "data": {
      "text/plain": [
       "0      71546\n",
       "300     2449\n",
       "100     1842\n",
       "500      109\n",
       "400      103\n",
       "600       99\n",
       "200       14\n",
       "NaN        1\n",
       "Name: TRUCKROUTE, dtype: int64"
      ]
     },
     "execution_count": 38,
     "metadata": {},
     "output_type": "execute_result"
    }
   ],
   "source": [
    "df.TRUCKROUTE.value_counts(dropna=False)"
   ]
  },
  {
   "cell_type": "code",
   "execution_count": 37,
   "metadata": {},
   "outputs": [
    {
     "data": {
      "text/plain": [
       "1    75477\n",
       "0      686\n",
       "Name: ISVISIBLE, dtype: int64"
      ]
     },
     "execution_count": 37,
     "metadata": {},
     "output_type": "execute_result"
    }
   ],
   "source": [
    "df.ISVISIBLE.value_counts(dropna=False)"
   ]
  },
  {
   "cell_type": "code",
   "execution_count": 34,
   "metadata": {},
   "outputs": [
    {
     "data": {
      "text/plain": [
       "9      27391\n",
       "0      21582\n",
       "19      7147\n",
       "7       6821\n",
       "6       2749\n",
       "8       2437\n",
       "1       1712\n",
       "17      1630\n",
       "2       1323\n",
       "16      1256\n",
       "14      1067\n",
       "11       432\n",
       "NaN      358\n",
       "12       258\n",
       "Name: FUNCL_OLD, dtype: int64"
      ]
     },
     "execution_count": 34,
     "metadata": {},
     "output_type": "execute_result"
    }
   ],
   "source": [
    "df.FUNCL_OLD.value_counts(dropna=False)"
   ]
  },
  {
   "cell_type": "code",
   "execution_count": 33,
   "metadata": {},
   "outputs": [
    {
     "data": {
      "text/plain": [
       "7    34185\n",
       "0    21789\n",
       "5     8436\n",
       "4     4069\n",
       "6     2686\n",
       "3     2580\n",
       "1     2158\n",
       "2      260\n",
       "Name: FUNCL, dtype: int64"
      ]
     },
     "execution_count": 33,
     "metadata": {},
     "output_type": "execute_result"
    }
   ],
   "source": [
    "df.FUNCL.value_counts(dropna=False)"
   ]
  },
  {
   "cell_type": "code",
   "execution_count": 32,
   "metadata": {},
   "outputs": [
    {
     "data": {
      "text/plain": [
       "3      44116\n",
       "26     15744\n",
       "1      10803\n",
       "4       4785\n",
       "11       366\n",
       "NaN      186\n",
       "64        95\n",
       "74        48\n",
       "63        17\n",
       "80         3\n",
       "Name: Ownership, dtype: int64"
      ]
     },
     "execution_count": 32,
     "metadata": {},
     "output_type": "execute_result"
    }
   ],
   "source": [
    "df.Ownership.value_counts(dropna=False)"
   ]
  },
  {
   "cell_type": "code",
   "execution_count": 31,
   "metadata": {},
   "outputs": [
    {
     "data": {
      "text/plain": [
       "1408-0    1408\n",
       "0403-0    1280\n",
       "0405-0    1272\n",
       "0202-0    1138\n",
       "0414-0    1061\n",
       "          ... \n",
       "0204-0       9\n",
       "0505-0       7\n",
       "0519-0       6\n",
       "0402-0       6\n",
       "0502-0       2\n",
       "Name: CERTCODE, Length: 269, dtype: int64"
      ]
     },
     "execution_count": 31,
     "metadata": {},
     "output_type": "execute_result"
    }
   ],
   "source": [
    "df.CERTCODE.value_counts(dropna=False)"
   ]
  },
  {
   "cell_type": "code",
   "execution_count": 30,
   "metadata": {},
   "outputs": [
    {
     "data": {
      "text/plain": [
       "NaN     57425\n",
       "0       15388\n",
       "2010      537\n",
       "2012      436\n",
       "2007      320\n",
       "2011      288\n",
       "2008      260\n",
       "2015      235\n",
       "2014      224\n",
       "2016      216\n",
       "2013      193\n",
       "2017      182\n",
       "2009      146\n",
       "2019      120\n",
       "2018      120\n",
       "9999       14\n",
       "1993        7\n",
       "2006        7\n",
       "1954        5\n",
       "1967        4\n",
       "1996        4\n",
       "1984        4\n",
       "1964        4\n",
       "1995        3\n",
       "1970        3\n",
       "1985        3\n",
       "1986        3\n",
       "2002        2\n",
       "1968        2\n",
       "1988        2\n",
       "1974        2\n",
       "1959        1\n",
       "1963        1\n",
       "1979        1\n",
       "1983        1\n",
       "Name: CERTYEAR, dtype: int64"
      ]
     },
     "execution_count": 30,
     "metadata": {},
     "output_type": "execute_result"
    }
   ],
   "source": [
    "df.CERTYEAR.value_counts(dropna=False)"
   ]
  },
  {
   "cell_type": "code",
   "execution_count": 29,
   "metadata": {},
   "outputs": [
    {
     "data": {
      "text/plain": [
       "0       52455\n",
       "NaN     23340\n",
       "1974      217\n",
       "1973      113\n",
       "1983        7\n",
       "2013        6\n",
       "1000        6\n",
       "2005        3\n",
       "2002        3\n",
       "2007        3\n",
       "2006        2\n",
       "1990        2\n",
       "2016        2\n",
       "1975        2\n",
       "1980        2\n",
       "Name: PROVISIONALYEAR, dtype: int64"
      ]
     },
     "execution_count": 29,
     "metadata": {},
     "output_type": "execute_result"
    }
   ],
   "source": [
    "df.PROVISIONALYEAR.value_counts(dropna=False)"
   ]
  },
  {
   "cell_type": "code",
   "execution_count": 28,
   "metadata": {},
   "outputs": [
    {
     "data": {
      "text/plain": [
       "99999    60144\n",
       "99998     9489\n",
       "11755     6530\n",
       "Name: Urban_Code, dtype: int64"
      ]
     },
     "execution_count": 28,
     "metadata": {},
     "output_type": "execute_result"
    }
   ],
   "source": [
    "df.Urban_Code.value_counts(dropna=False)"
   ]
  },
  {
   "cell_type": "code",
   "execution_count": 27,
   "metadata": {},
   "outputs": [
    {
     "data": {
      "text/plain": [
       "NaN    70149\n",
       "50      4009\n",
       "65      1117\n",
       "40       262\n",
       "55       244\n",
       "35       195\n",
       "30        66\n",
       "45        61\n",
       "0         52\n",
       "25         8\n",
       "Name: SPEEDLIMIT, dtype: int64"
      ]
     },
     "execution_count": 27,
     "metadata": {},
     "output_type": "execute_result"
    }
   ],
   "source": [
    "df.SPEEDLIMIT.value_counts(dropna=False)"
   ]
  },
  {
   "cell_type": "code",
   "execution_count": null,
   "metadata": {},
   "outputs": [],
   "source": []
  }
 ],
 "metadata": {
  "kernelspec": {
   "display_name": "inaturalist",
   "language": "python",
   "name": "inaturalist"
  },
  "language_info": {
   "codemirror_mode": {
    "name": "ipython",
    "version": 3
   },
   "file_extension": ".py",
   "mimetype": "text/x-python",
   "name": "python",
   "nbconvert_exporter": "python",
   "pygments_lexer": "ipython3",
   "version": "3.7.4"
  }
 },
 "nbformat": 4,
 "nbformat_minor": 4
}

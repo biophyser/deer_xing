{
 "cells": [
  {
   "cell_type": "code",
   "execution_count": 1,
   "metadata": {},
   "outputs": [],
   "source": [
    "import overpy"
   ]
  },
  {
   "cell_type": "markdown",
   "metadata": {},
   "source": [
    "# Example\n",
    "Find it [here](https://github.com/DinoTools/python-overpy)."
   ]
  },
  {
   "cell_type": "code",
   "execution_count": 48,
   "metadata": {},
   "outputs": [],
   "source": [
    "api = overpy.Overpass()\n",
    "\n",
    "# fetch all ways and nodes\n",
    "result = api.query(\"\"\"\n",
    "    way(50.746,7.154,50.748,7.157) [\"highway\"];\n",
    "    (._;>;);\n",
    "    out body;\n",
    "    \"\"\")"
   ]
  },
  {
   "cell_type": "markdown",
   "metadata": {},
   "source": [
    "# Road of interest\n",
    "This is to get information about the exact road that I'm looking at. It will most likely return a segment that is longer than I want, which is fine.\n",
    "\n",
    "I can pull things like type of highway, surface, and tiger parameters (are those zip codes in there?)."
   ]
  },
  {
   "cell_type": "code",
   "execution_count": 3,
   "metadata": {},
   "outputs": [],
   "source": [
    "#road_query = 'way[highway](around:5,44.15349716748267, -72.49253549908933);(._;>;);out body;'\n",
    "road_query = 'way(around:5, 44.230271753139036, -72.56361378170132) [\"highway\"];(._;>;);out meta;'"
   ]
  },
  {
   "cell_type": "code",
   "execution_count": 4,
   "metadata": {},
   "outputs": [],
   "source": [
    "road_result = api.query(road_query)"
   ]
  },
  {
   "cell_type": "code",
   "execution_count": 5,
   "metadata": {},
   "outputs": [
    {
     "data": {
      "text/plain": [
       "1"
      ]
     },
     "execution_count": 5,
     "metadata": {},
     "output_type": "execute_result"
    }
   ],
   "source": [
    "len(road_result.ways)"
   ]
  },
  {
   "cell_type": "code",
   "execution_count": 6,
   "metadata": {},
   "outputs": [
    {
     "data": {
      "text/plain": [
       "83"
      ]
     },
     "execution_count": 6,
     "metadata": {},
     "output_type": "execute_result"
    }
   ],
   "source": [
    "len(road_result.nodes)"
   ]
  },
  {
   "cell_type": "code",
   "execution_count": 7,
   "metadata": {},
   "outputs": [
    {
     "data": {
      "text/plain": [
       "{'highway': 'tertiary',\n",
       " 'name': 'Paine Turnpike North',\n",
       " 'surface': 'asphalt',\n",
       " 'tiger:cfcc': 'A41',\n",
       " 'tiger:county': 'Washington, VT',\n",
       " 'tiger:name_base': 'Paine',\n",
       " 'tiger:name_direction_suffix': 'N',\n",
       " 'tiger:name_type': 'Tpke',\n",
       " 'tiger:reviewed': 'no',\n",
       " 'tiger:zip_left': '05602',\n",
       " 'tiger:zip_left_1': '05602',\n",
       " 'tiger:zip_left_2': '05602',\n",
       " 'tiger:zip_right': '05602',\n",
       " 'tiger:zip_right_1': '05602'}"
      ]
     },
     "execution_count": 7,
     "metadata": {},
     "output_type": "execute_result"
    }
   ],
   "source": [
    "road_result.ways[0].tags"
   ]
  },
  {
   "cell_type": "code",
   "execution_count": 8,
   "metadata": {},
   "outputs": [
    {
     "data": {
      "text/plain": [
       "0"
      ]
     },
     "execution_count": 8,
     "metadata": {},
     "output_type": "execute_result"
    }
   ],
   "source": [
    "len(road_result.nodes[0].tags.keys())"
   ]
  },
  {
   "cell_type": "code",
   "execution_count": 9,
   "metadata": {},
   "outputs": [
    {
     "name": "stdout",
     "output_type": "stream",
     "text": [
      "Name: Paine Turnpike North\n",
      "  Highway: tertiary\n",
      "  Nodes:\n"
     ]
    }
   ],
   "source": [
    "for way in road_result.ways:\n",
    "    print(\"Name: %s\" % way.tags.get(\"name\", \"n/a\"))\n",
    "    print(\"  Highway: %s\" % way.tags.get(\"highway\", \"n/a\"))\n",
    "    print(\"  Nodes:\")\n",
    "    '''for node in way.nodes:\n",
    "        print(\"    Lat: %f, Lon: %f\" % (node.lat, node.lon))'''"
   ]
  },
  {
   "cell_type": "code",
   "execution_count": null,
   "metadata": {},
   "outputs": [],
   "source": []
  },
  {
   "cell_type": "code",
   "execution_count": null,
   "metadata": {},
   "outputs": [],
   "source": []
  },
  {
   "cell_type": "code",
   "execution_count": null,
   "metadata": {},
   "outputs": [],
   "source": []
  },
  {
   "cell_type": "markdown",
   "metadata": {},
   "source": [
    "# Road Area\n",
    "This one is going to be gnarly. I have to decide how to deal with multiple things of varying types. The issue is that I have to know *a prior* what the tags of these features are going to be. \n",
    "\n",
    "So far I haven't found a good way for `overpy` to return an overall feature name. Maybe I could combine `overpass` and `overpy`. I could do the request with `overpy` see if I can pull out feature names there and then parse the results with `overpy`. I like the way `overpy` deals with results, it's like a pre-preprocessing step.\n",
    "\n",
    "What I think is important:\n",
    "- Roads\n",
    "    - how many within the box?\n",
    "    - does the type of these roads matter?\n",
    "- Water\n",
    "    - How many in the box?\n",
    "    - Type matter?\n",
    "- Land use\n",
    "    - Farmland (include farmyard, orchard, vineyard)\n",
    "    - forest (there are other things like meadow)\n",
    "    - City (what are those features?)\n",
    "- Barriers\n",
    "    - Walls, fences, etc. (feature names needed)\n",
    "- "
   ]
  },
  {
   "cell_type": "code",
   "execution_count": 10,
   "metadata": {},
   "outputs": [],
   "source": [
    "area_query = 'nwr(poly:\"44.21942752883122 -72.56043380096837 44.229099324639975 -72.5561157214792 44.23530459506124 -72.55586883955655 \\\n",
    "                     44.237015175914344 -72.55395429014412 44.24820086817967 -72.56394830277897 44.240305872836885 -72.57175694223717 \\\n",
    "                     44.23556179577818 -72.57255065310554 44.23162010716889 -72.57106247361077 44.219529508340614 -72.57718734499564 \\\n",
    "                     44.21276642403039 -72.56379851791435 44.21942752883122 -72.56043380096837\");out;'"
   ]
  },
  {
   "cell_type": "code",
   "execution_count": 11,
   "metadata": {},
   "outputs": [],
   "source": [
    "area_result = api.query(area_query)"
   ]
  },
  {
   "cell_type": "code",
   "execution_count": 35,
   "metadata": {},
   "outputs": [
    {
     "data": {
      "text/plain": [
       "overpy.Result"
      ]
     },
     "execution_count": 35,
     "metadata": {},
     "output_type": "execute_result"
    }
   ],
   "source": [
    "type(area_result)"
   ]
  },
  {
   "cell_type": "code",
   "execution_count": 36,
   "metadata": {},
   "outputs": [
    {
     "data": {
      "text/plain": [
       "303"
      ]
     },
     "execution_count": 36,
     "metadata": {},
     "output_type": "execute_result"
    }
   ],
   "source": [
    "len(area_result.ways)"
   ]
  },
  {
   "cell_type": "code",
   "execution_count": 37,
   "metadata": {},
   "outputs": [
    {
     "data": {
      "text/plain": [
       "2319"
      ]
     },
     "execution_count": 37,
     "metadata": {},
     "output_type": "execute_result"
    }
   ],
   "source": [
    "len(area_result.nodes)"
   ]
  },
  {
   "cell_type": "code",
   "execution_count": 38,
   "metadata": {},
   "outputs": [
    {
     "data": {
      "text/plain": [
       "0"
      ]
     },
     "execution_count": 38,
     "metadata": {},
     "output_type": "execute_result"
    }
   ],
   "source": [
    "len(area_result.areas)"
   ]
  },
  {
   "cell_type": "code",
   "execution_count": 41,
   "metadata": {},
   "outputs": [
    {
     "data": {
      "text/plain": [
       "{'highway': 'service', 'surface': 'asphalt'}"
      ]
     },
     "execution_count": 41,
     "metadata": {},
     "output_type": "execute_result"
    }
   ],
   "source": [
    "area_result.ways[0].tags"
   ]
  },
  {
   "cell_type": "code",
   "execution_count": 21,
   "metadata": {},
   "outputs": [],
   "source": [
    "relation = area_result.relations[0]"
   ]
  },
  {
   "cell_type": "code",
   "execution_count": 34,
   "metadata": {},
   "outputs": [
    {
     "data": {
      "text/plain": [
       "{'_result': <overpy.Result at 0x7f269c4d9a10>,\n",
       " 'attributes': {},\n",
       " 'id': 19715377,\n",
       " 'tags': {'highway': 'service', 'surface': 'asphalt'},\n",
       " '_node_ids': [204888886, 204888887, 204888888],\n",
       " 'center_lat': None,\n",
       " 'center_lon': None}"
      ]
     },
     "execution_count": 34,
     "metadata": {},
     "output_type": "execute_result"
    }
   ],
   "source": [
    "area_result.ways[0].__dict__"
   ]
  },
  {
   "cell_type": "code",
   "execution_count": 27,
   "metadata": {},
   "outputs": [
    {
     "data": {
      "text/plain": [
       "{'_result': <overpy.Result at 0x7f269c4d9a10>,\n",
       " 'attributes': {},\n",
       " 'id': 8898132,\n",
       " 'tags': {'admin_level': '8',\n",
       "  'boundary': 'administrative',\n",
       "  'name': 'Berlin',\n",
       "  'type': 'boundary',\n",
       "  'wikidata': 'Q821245'},\n",
       " 'members': [<overpy.RelationWay ref=641779005 role=outer>,\n",
       "  <overpy.RelationWay ref=641779008 role=outer>,\n",
       "  <overpy.RelationWay ref=641779014 role=outer>,\n",
       "  <overpy.RelationWay ref=39209882 role=outer>,\n",
       "  <overpy.RelationWay ref=641778999 role=outer>,\n",
       "  <overpy.RelationWay ref=641779000 role=outer>,\n",
       "  <overpy.RelationWay ref=641707012 role=outer>,\n",
       "  <overpy.RelationWay ref=641779006 role=outer>,\n",
       "  <overpy.RelationWay ref=641707010 role=outer>,\n",
       "  <overpy.RelationNode ref=158855906 role=admin_centre>],\n",
       " 'center_lat': None,\n",
       " 'center_lon': None}"
      ]
     },
     "execution_count": 27,
     "metadata": {},
     "output_type": "execute_result"
    }
   ],
   "source": [
    "relation.__dict__"
   ]
  },
  {
   "cell_type": "code",
   "execution_count": 26,
   "metadata": {},
   "outputs": [
    {
     "name": "stdout",
     "output_type": "stream",
     "text": [
      "{'admin_level': '8', 'border_type': 'city', 'boundary': 'administrative', 'is_in': 'USA, Vermont', 'is_in:country': 'USA', 'is_in:country_code': 'US', 'is_in:iso_3166_2': 'US:VT', 'is_in:state': 'Vermont', 'is_in:state_code': 'VT', 'name': 'Montpelier', 'place': 'city', 'source': 'TIGER/Line® 2008 Place Shapefiles (http://www.census.gov/geo/www/tiger/)', 'tiger:CLASSFP': 'C5', 'tiger:CPI': 'Y', 'tiger:FUNCSTAT': 'A', 'tiger:LSAD': '25', 'tiger:MTFCC': 'G4110', 'tiger:NAME': 'Montpelier', 'tiger:NAMELSAD': 'Montpelier city', 'tiger:PCICBSA': 'N', 'tiger:PCINECTA': 'N', 'tiger:PLACEFP': '46000', 'tiger:PLACENS': '01462152', 'tiger:PLCIDFP': '5046000', 'tiger:STATEFP': '50', 'type': 'boundary', 'wikidata': 'Q26426', 'wikipedia': 'en:Montpelier, Vermont'}\n",
      "{'name': 'VT 62', 'network': 'US:VT', 'ref': '62', 'route': 'road', 'type': 'route'}\n",
      "{'building': 'yes', 'type': 'multipolygon'}\n",
      "{'natural': 'wood', 'type': 'multipolygon'}\n",
      "{'admin_level': '8', 'boundary': 'administrative', 'name': 'Berlin', 'type': 'boundary', 'wikidata': 'Q821245'}\n"
     ]
    }
   ],
   "source": [
    "for relation in area_result.relations:\n",
    "    print(relation.tags)"
   ]
  },
  {
   "cell_type": "code",
   "execution_count": null,
   "metadata": {},
   "outputs": [],
   "source": [
    "test_way = area_result.ways[2]"
   ]
  },
  {
   "cell_type": "code",
   "execution_count": null,
   "metadata": {},
   "outputs": [],
   "source": [
    "for way in area_result.ways:\n",
    "    print(\"Tags: %s\" % way.tags)"
   ]
  },
  {
   "cell_type": "code",
   "execution_count": null,
   "metadata": {},
   "outputs": [],
   "source": [
    "area_result.areas"
   ]
  },
  {
   "cell_type": "markdown",
   "metadata": {},
   "source": [
    "# Combining `overpass` and `overpy`"
   ]
  },
  {
   "cell_type": "code",
   "execution_count": 203,
   "metadata": {},
   "outputs": [],
   "source": [
    "import overpass\n",
    "import numpy as np"
   ]
  },
  {
   "cell_type": "code",
   "execution_count": 204,
   "metadata": {},
   "outputs": [],
   "source": [
    "api_pass = overpass.API()"
   ]
  },
  {
   "cell_type": "code",
   "execution_count": 205,
   "metadata": {},
   "outputs": [],
   "source": [
    "area_query = 'nwr(poly:\"44.21942752883122 -72.56043380096837 44.229099324639975 -72.5561157214792 44.23530459506124 -72.55586883955655 \\\n",
    "                     44.237015175914344 -72.55395429014412 44.24820086817967 -72.56394830277897 44.240305872836885 -72.57175694223717 \\\n",
    "                     44.23556179577818 -72.57255065310554 44.23162010716889 -72.57106247361077 44.219529508340614 -72.57718734499564 \\\n",
    "                     44.21276642403039 -72.56379851791435 44.21942752883122 -72.56043380096837\");out;'\n",
    "\n",
    "response = api_pass.get(area_query)"
   ]
  },
  {
   "cell_type": "code",
   "execution_count": 206,
   "metadata": {},
   "outputs": [
    {
     "data": {
      "text/plain": [
       "\u001b[0;31mSignature:\u001b[0m \u001b[0mapi_pass\u001b[0m\u001b[0;34m.\u001b[0m\u001b[0mget\u001b[0m\u001b[0;34m(\u001b[0m\u001b[0mquery\u001b[0m\u001b[0;34m,\u001b[0m \u001b[0mresponseformat\u001b[0m\u001b[0;34m=\u001b[0m\u001b[0;34m'geojson'\u001b[0m\u001b[0;34m,\u001b[0m \u001b[0mverbosity\u001b[0m\u001b[0;34m=\u001b[0m\u001b[0;34m'body'\u001b[0m\u001b[0;34m,\u001b[0m \u001b[0mbuild\u001b[0m\u001b[0;34m=\u001b[0m\u001b[0;32mTrue\u001b[0m\u001b[0;34m)\u001b[0m\u001b[0;34m\u001b[0m\u001b[0;34m\u001b[0m\u001b[0m\n",
       "\u001b[0;31mDocstring:\u001b[0m Pass in an Overpass query in Overpass QL.\n",
       "\u001b[0;31mFile:\u001b[0m      ~/.anaconda3/envs/inaturalist/lib/python3.7/site-packages/overpass/api.py\n",
       "\u001b[0;31mType:\u001b[0m      method\n"
      ]
     },
     "metadata": {},
     "output_type": "display_data"
    }
   ],
   "source": [
    "api_pass.get?"
   ]
  },
  {
   "cell_type": "code",
   "execution_count": 42,
   "metadata": {},
   "outputs": [
    {
     "data": {
      "text/plain": [
       "\u001b[0;31mSignature:\u001b[0m \u001b[0marea_result\u001b[0m\u001b[0;34m.\u001b[0m\u001b[0mfrom_json\u001b[0m\u001b[0;34m(\u001b[0m\u001b[0mdata\u001b[0m\u001b[0;34m,\u001b[0m \u001b[0mapi\u001b[0m\u001b[0;34m=\u001b[0m\u001b[0;32mNone\u001b[0m\u001b[0;34m)\u001b[0m\u001b[0;34m\u001b[0m\u001b[0;34m\u001b[0m\u001b[0m\n",
       "\u001b[0;31mDocstring:\u001b[0m\n",
       "Create a new instance and load data from json object.\n",
       "\n",
       ":param data: JSON data returned by the Overpass API\n",
       ":type data: Dict\n",
       ":param api:\n",
       ":type api: overpy.Overpass\n",
       ":return: New instance of Result object\n",
       ":rtype: overpy.Result\n",
       "\u001b[0;31mFile:\u001b[0m      ~/repos/python-overpy/overpy/__init__.py\n",
       "\u001b[0;31mType:\u001b[0m      method\n"
      ]
     },
     "metadata": {},
     "output_type": "display_data"
    }
   ],
   "source": [
    "area_result.test area_result.from_json"
   ]
  },
  {
   "cell_type": "code",
   "execution_count": 149,
   "metadata": {},
   "outputs": [],
   "source": [
    "from pandas.io.json import json_normalize\n",
    "df = json_normalize(response[\"features\"])"
   ]
  },
  {
   "cell_type": "code",
   "execution_count": 209,
   "metadata": {},
   "outputs": [
    {
     "data": {
      "text/plain": [
       "geojson.feature.FeatureCollection"
      ]
     },
     "execution_count": 209,
     "metadata": {},
     "output_type": "execute_result"
    }
   ],
   "source": [
    "type(response)"
   ]
  },
  {
   "cell_type": "markdown",
   "metadata": {},
   "source": [
    "# Try reading with `geopandas`"
   ]
  },
  {
   "cell_type": "code",
   "execution_count": 98,
   "metadata": {},
   "outputs": [],
   "source": [
    "import geopandas\n",
    "import pandas as pd"
   ]
  },
  {
   "cell_type": "code",
   "execution_count": 71,
   "metadata": {},
   "outputs": [
    {
     "data": {
      "text/plain": [
       "\u001b[0;31mInit signature:\u001b[0m \u001b[0mgeopandas\u001b[0m\u001b[0;34m.\u001b[0m\u001b[0mGeoDataFrame\u001b[0m\u001b[0;34m(\u001b[0m\u001b[0;34m*\u001b[0m\u001b[0margs\u001b[0m\u001b[0;34m,\u001b[0m \u001b[0;34m**\u001b[0m\u001b[0mkwargs\u001b[0m\u001b[0;34m)\u001b[0m\u001b[0;34m\u001b[0m\u001b[0;34m\u001b[0m\u001b[0m\n",
       "\u001b[0;31mDocstring:\u001b[0m     \n",
       "A GeoDataFrame object is a pandas.DataFrame that has a column\n",
       "with geometry. In addition to the standard DataFrame constructor arguments,\n",
       "GeoDataFrame also accepts the following keyword arguments:\n",
       "\n",
       "Parameters\n",
       "----------\n",
       "crs : str (optional)\n",
       "    Coordinate system\n",
       "geometry : str or array (optional)\n",
       "    If str, column to use as geometry. If array, will be set as 'geometry'\n",
       "    column on GeoDataFrame.\n",
       "\u001b[0;31mFile:\u001b[0m           ~/.anaconda3/envs/inaturalist/lib/python3.7/site-packages/geopandas/geodataframe.py\n",
       "\u001b[0;31mType:\u001b[0m           type\n",
       "\u001b[0;31mSubclasses:\u001b[0m     \n"
      ]
     },
     "metadata": {},
     "output_type": "display_data"
    }
   ],
   "source": [
    "geopandas.GeoDataFrame?"
   ]
  },
  {
   "cell_type": "code",
   "execution_count": 210,
   "metadata": {},
   "outputs": [],
   "source": [
    "geodf = geopandas.GeoDataFrame.from_features(response)"
   ]
  },
  {
   "cell_type": "code",
   "execution_count": 211,
   "metadata": {},
   "outputs": [],
   "source": [
    "#culled_df = df.dropna(axis='index', how='all', subset=df.columns[4:])\n",
    "culled_geodf = geodf.dropna(axis='index', how='all', subset=geodf.columns[1:])"
   ]
  },
  {
   "cell_type": "code",
   "execution_count": 189,
   "metadata": {},
   "outputs": [],
   "source": [
    "columns = [\n",
    "#'geometry', \n",
    "'power', \n",
    "'amenity', \n",
    "#'ele', \n",
    "#'gnis:county_id', \n",
    "#'gnis:created', \n",
    "#'gnis:feature_id', \n",
    "#'gnis:state_id', \n",
    "#'name', \n",
    "#'addr:state', \n",
    "#'gnis:county_name', \n",
    "#'gnis:import_uuid', \n",
    "#'gnis:reviewed', \n",
    "#'source', \n",
    "'building', \n",
    "#'addr:housenumber', \n",
    "#'addr:street', \n",
    "#'addr:city', \n",
    "#'addr:postcode', \n",
    "#'capacity', \n",
    "#'operator', \n",
    "#'phone', \n",
    "#'social_facility', \n",
    "#'social_facility:for', \n",
    "#'website', \n",
    "#'access', \n",
    "#'entrance', \n",
    "'highway', \n",
    "'surface', \n",
    "'service', \n",
    "#'ref', \n",
    "#'voltage', \n",
    "#'tiger:cfcc', \n",
    "#'tiger:county', \n",
    "#'tiger:reviewed', \n",
    "#'tiger:source', \n",
    "#'tiger:tlid', \n",
    "#'tiger:upload_uuid', \n",
    "#'oneway', \n",
    "#'tiger:name_base', \n",
    "#'tiger:name_type', \n",
    "#'tiger:zip_left', \n",
    "#'tiger:zip_right', \n",
    "#'expressway', \n",
    "#'lanes', \n",
    "#'maxspeed', \n",
    "#'tiger:name_direction_suffix', \n",
    "#'tiger:zip_left_1', \n",
    "#'tiger:zip_left_2', \n",
    "#'tiger:zip_right_1', \n",
    "'boundary', \n",
    "#'building:levels', \n",
    "#'shop', \n",
    "#'beds', \n",
    "#'emergency', \n",
    "'healthcare', \n",
    "#'old_name', \n",
    "#'opening_hours', \n",
    "#'wikidata', \n",
    "#'wikipedia', \n",
    "'parking', \n",
    "#'addr:country', \n",
    "#'denomination', \n",
    "#'religion', \n",
    "'landuse', \n",
    "#'military', \n",
    "#'healthcare:speciality', \n",
    "'aeroway', \n",
    "#'faa', \n",
    "'natural', \n",
    "#'water', \n",
    "'waterway', \n",
    "#'wetland', \n",
    "#'ref:walmart', \n",
    "]"
   ]
  },
  {
   "cell_type": "code",
   "execution_count": 196,
   "metadata": {},
   "outputs": [],
   "source": [
    "cols = [\n",
    "    'aeroway',\n",
    "    'amenity',\n",
    "    'barrier',\n",
    "    'boundary',\n",
    "    'building',\n",
    "    'healthcare',\n",
    "    'highway',\n",
    "    'landuse',\n",
    "    'leisure',\n",
    "    'man_made',\n",
    "    'natural',\n",
    "    'parking',\n",
    "    'power',\n",
    "    'railway',\n",
    "    'route',\n",
    "    'service',\n",
    "    'surface',\n",
    "    'tourism',\n",
    "    'waterway'\n",
    "]"
   ]
  },
  {
   "cell_type": "code",
   "execution_count": 212,
   "metadata": {},
   "outputs": [
    {
     "data": {
      "text/plain": [
       "service          76\n",
       "residential      50\n",
       "tertiary         14\n",
       "trunk            10\n",
       "unclassified      6\n",
       "tertiary_link     2\n",
       "track             2\n",
       "Name: highway, dtype: int64"
      ]
     },
     "execution_count": 212,
     "metadata": {},
     "output_type": "execute_result"
    }
   ],
   "source": [
    "culled_geodf['highway'].value_counts()"
   ]
  },
  {
   "cell_type": "code",
   "execution_count": 197,
   "metadata": {},
   "outputs": [
    {
     "data": {
      "text/plain": [
       "service          76\n",
       "residential      50\n",
       "tertiary         14\n",
       "trunk            10\n",
       "unclassified      6\n",
       "tertiary_link     2\n",
       "track             2\n",
       "Name: highway, dtype: int64"
      ]
     },
     "execution_count": 197,
     "metadata": {},
     "output_type": "execute_result"
    }
   ],
   "source": [
    "culled_geodf['highway'].value_counts()"
   ]
  },
  {
   "cell_type": "code",
   "execution_count": 198,
   "metadata": {},
   "outputs": [
    {
     "data": {
      "text/plain": [
       "geopandas.geodataframe.GeoDataFrame"
      ]
     },
     "execution_count": 198,
     "metadata": {},
     "output_type": "execute_result"
    }
   ],
   "source": [
    "type(culled_geodf)"
   ]
  },
  {
   "cell_type": "code",
   "execution_count": 106,
   "metadata": {},
   "outputs": [],
   "source": [
    "test_dict1 = {}\n",
    "for i in culled_geodf.columns[1:]:\n",
    "    #print(i)\n",
    "    test_dict1[i] = culled_geodf[i].unique()[~pd.isnull(culled_geodf[i].unique())]"
   ]
  },
  {
   "cell_type": "code",
   "execution_count": 201,
   "metadata": {},
   "outputs": [],
   "source": [
    "def make_feature_dict(df, features):\n",
    "    \"\"\"\n",
    "    \n",
    "    Parameters\n",
    "    ----------\n",
    "    df : geopandas.geodataframe.GeoDataFrame\n",
    "        Dataframe containing features pulled from overpass API\n",
    "        \n",
    "    features : list\n",
    "        List of column names associated with high-level feature names\n",
    "        employed by overpass/OSM. Reference here:\n",
    "        https://wiki.openstreetmap.org/wiki/Map_Features\n",
    "        \n",
    "    Returns\n",
    "    -------\n",
    "    dict\n",
    "        Nested dictionary of features with value counts as eventual values.\n",
    "        \n",
    "    \"\"\"\n",
    "    \n",
    "    feature_dict = {}\n",
    "    for feature in features:\n",
    "        if feature in df.columns:\n",
    "            series = df[feature].value_counts()\n",
    "            feature_dict[feature] = { k:v for (k,v) in zip(series.index, series.values)}\n",
    "        else:\n",
    "            feature_dict[feature] = None\n",
    "    return feature_dict"
   ]
  },
  {
   "cell_type": "code",
   "execution_count": 202,
   "metadata": {},
   "outputs": [
    {
     "data": {
      "text/plain": [
       "{'aeroway': {'helipad': 2},\n",
       " 'amenity': {'loading_dock': 4,\n",
       "  'hospital': 4,\n",
       "  'parking': 4,\n",
       "  'school': 4,\n",
       "  'library': 2,\n",
       "  'social_facility': 2,\n",
       "  'place_of_worship': 2},\n",
       " 'barrier': None,\n",
       " 'boundary': {'administrative': 2},\n",
       " 'building': {'yes': 216,\n",
       "  'house': 166,\n",
       "  'retail': 4,\n",
       "  'garage': 2,\n",
       "  'hospital': 2},\n",
       " 'healthcare': {'hospital': 4},\n",
       " 'highway': {'service': 76,\n",
       "  'residential': 50,\n",
       "  'tertiary': 14,\n",
       "  'trunk': 10,\n",
       "  'unclassified': 6,\n",
       "  'tertiary_link': 2,\n",
       "  'track': 2},\n",
       " 'landuse': {'commercial': 4,\n",
       "  'military': 4,\n",
       "  'retail': 4,\n",
       "  'quarry': 2,\n",
       "  'residential': 2},\n",
       " 'leisure': None,\n",
       " 'man_made': None,\n",
       " 'natural': {'wood': 8, 'wetland': 2, 'water': 2},\n",
       " 'parking': {'surface': 2},\n",
       " 'power': {'pole': 40, 'tower': 18, 'line': 6, 'minor_line': 4},\n",
       " 'railway': None,\n",
       " 'route': None,\n",
       " 'service': {'parking_aisle': 34, 'driveway': 6},\n",
       " 'surface': {'asphalt': 122, 'unpaved': 4, 'paved': 2},\n",
       " 'tourism': None,\n",
       " 'waterway': {'stream': 4}}"
      ]
     },
     "execution_count": 202,
     "metadata": {},
     "output_type": "execute_result"
    }
   ],
   "source": [
    "make_feature_dict(culled_geodf, cols)"
   ]
  },
  {
   "cell_type": "code",
   "execution_count": 191,
   "metadata": {},
   "outputs": [
    {
     "data": {
      "text/plain": [
       "{'power': {'pole': 40, 'tower': 18, 'line': 6, 'minor_line': 4},\n",
       " 'amenity': {'loading_dock': 4,\n",
       "  'hospital': 4,\n",
       "  'parking': 4,\n",
       "  'school': 4,\n",
       "  'library': 2,\n",
       "  'social_facility': 2,\n",
       "  'place_of_worship': 2},\n",
       " 'building': {'yes': 216,\n",
       "  'house': 166,\n",
       "  'retail': 4,\n",
       "  'garage': 2,\n",
       "  'hospital': 2},\n",
       " 'highway': {'service': 76,\n",
       "  'residential': 50,\n",
       "  'tertiary': 14,\n",
       "  'trunk': 10,\n",
       "  'unclassified': 6,\n",
       "  'tertiary_link': 2,\n",
       "  'track': 2},\n",
       " 'surface': {'asphalt': 122, 'unpaved': 4, 'paved': 2},\n",
       " 'service': {'parking_aisle': 34, 'driveway': 6},\n",
       " 'boundary': {'administrative': 2},\n",
       " 'healthcare': {'hospital': 4},\n",
       " 'parking': {'surface': 2},\n",
       " 'landuse': {'commercial': 4,\n",
       "  'military': 4,\n",
       "  'retail': 4,\n",
       "  'quarry': 2,\n",
       "  'residential': 2},\n",
       " 'aeroway': {'helipad': 2},\n",
       " 'natural': {'wood': 8, 'wetland': 2, 'water': 2},\n",
       " 'waterway': {'stream': 4}}"
      ]
     },
     "execution_count": 191,
     "metadata": {},
     "output_type": "execute_result"
    }
   ],
   "source": [
    "test_dict1"
   ]
  },
  {
   "cell_type": "code",
   "execution_count": null,
   "metadata": {},
   "outputs": [],
   "source": []
  },
  {
   "cell_type": "code",
   "execution_count": null,
   "metadata": {},
   "outputs": [],
   "source": []
  },
  {
   "cell_type": "code",
   "execution_count": 110,
   "metadata": {
    "collapsed": true,
    "jupyter": {
     "outputs_hidden": true
    }
   },
   "outputs": [
    {
     "name": "stdout",
     "output_type": "stream",
     "text": [
      "[\n",
      "'geometry', \n",
      "'power', \n",
      "'amenity', \n",
      "'ele', \n",
      "'gnis:county_id', \n",
      "'gnis:created', \n",
      "'gnis:feature_id', \n",
      "'gnis:state_id', \n",
      "'name', \n",
      "'addr:state', \n",
      "'gnis:county_name', \n",
      "'gnis:import_uuid', \n",
      "'gnis:reviewed', \n",
      "'source', \n",
      "'building', \n",
      "'addr:housenumber', \n",
      "'addr:street', \n",
      "'addr:city', \n",
      "'addr:postcode', \n",
      "'capacity', \n",
      "'operator', \n",
      "'phone', \n",
      "'social_facility', \n",
      "'social_facility:for', \n",
      "'website', \n",
      "'access', \n",
      "'entrance', \n",
      "'highway', \n",
      "'surface', \n",
      "'service', \n",
      "'ref', \n",
      "'voltage', \n",
      "'tiger:cfcc', \n",
      "'tiger:county', \n",
      "'tiger:reviewed', \n",
      "'tiger:source', \n",
      "'tiger:tlid', \n",
      "'tiger:upload_uuid', \n",
      "'oneway', \n",
      "'tiger:name_base', \n",
      "'tiger:name_type', \n",
      "'tiger:zip_left', \n",
      "'tiger:zip_right', \n",
      "'expressway', \n",
      "'lanes', \n",
      "'maxspeed', \n",
      "'tiger:name_direction_suffix', \n",
      "'tiger:zip_left_1', \n",
      "'tiger:zip_left_2', \n",
      "'tiger:zip_right_1', \n",
      "'boundary', \n",
      "'building:levels', \n",
      "'shop', \n",
      "'beds', \n",
      "'emergency', \n",
      "'healthcare', \n",
      "'old_name', \n",
      "'opening_hours', \n",
      "'wikidata', \n",
      "'wikipedia', \n",
      "'parking', \n",
      "'addr:country', \n",
      "'denomination', \n",
      "'religion', \n",
      "'landuse', \n",
      "'military', \n",
      "'healthcare:speciality', \n",
      "'aeroway', \n",
      "'faa', \n",
      "'natural', \n",
      "'water', \n",
      "'waterway', \n",
      "'wetland', \n",
      "'ref:walmart', \n",
      "]\n"
     ]
    }
   ],
   "source": [
    "print('[')\n",
    "for i in culled_geodf.columns:\n",
    "    print(\"'{}', \".format(i), end='\\n')\n",
    "print(']')"
   ]
  },
  {
   "cell_type": "code",
   "execution_count": 105,
   "metadata": {
    "collapsed": true,
    "jupyter": {
     "outputs_hidden": true
    }
   },
   "outputs": [
    {
     "data": {
      "text/plain": [
       "{'power': array(['pole', 'tower', 'line', 'minor_line'], dtype=object),\n",
       " 'amenity': array(['school', 'library', 'social_facility', 'loading_dock', 'hospital',\n",
       "        'parking', 'place_of_worship'], dtype=object),\n",
       " 'ele': array(['201', '303', '175'], dtype=object),\n",
       " 'gnis:county_id': array(['023'], dtype=object),\n",
       " 'gnis:created': array(['05/27/2008'], dtype=object),\n",
       " 'gnis:feature_id': array(['2427482', '1919019', '1919017', '1919018'], dtype=object),\n",
       " 'gnis:state_id': array(['50'], dtype=object),\n",
       " 'name': array(['Family Center of Washington County',\n",
       "        'Central Vermont Hospital Medical Library',\n",
       "        'Central Vermont Chamber of Commerce',\n",
       "        'Woodridge Rehabilitation and Nursing', 'Fisher Road',\n",
       "        \"Stretch's Way\", 'Granger Road', 'Pleasantview Street',\n",
       "        'Shady Lane', 'Woodridge Drive', 'Valerie Avenue', 'Judson Drive',\n",
       "        'Addison Drive', 'George Street', 'Maple Street', 'Berlin Street',\n",
       "        'Green Mountain Drive', 'Spruce Street', 'Wheelock Street',\n",
       "        'Forest Drive', 'Hersey Road', 'Robinhood Circle', 'Poplar Street',\n",
       "        'Bennington Drive', 'Valley View Road', 'Berlin Corners Road',\n",
       "        'Hebert Farm Road', 'Richardson Road', 'Hospital Loop',\n",
       "        'Hebert Road', 'Berlin Mall Road', 'Birchwood Drive',\n",
       "        'Stewart Road', 'Sherwood Drive', 'Moonlight Terrace',\n",
       "        'Paine Turnpike North', 'Benjamin Falls Road',\n",
       "        'Vianor Tire & Auto', 'Sanel Auto Parts',\n",
       "        'Central Vermont Medical Center',\n",
       "        'The Church of Jesus Christ of Latter-day Saints',\n",
       "        'Vermont Psychiatric Care Hospital',\n",
       "        'Central Vermont Medical Center Heliport', 'Berlin Mall',\n",
       "        'Walmart Supercenter'], dtype=object),\n",
       " 'addr:state': array(['VT'], dtype=object),\n",
       " 'gnis:county_name': array(['Washington'], dtype=object),\n",
       " 'gnis:import_uuid': array(['57871b70-0100-4405-bb30-88b2e001a944'], dtype=object),\n",
       " 'gnis:reviewed': array(['no'], dtype=object),\n",
       " 'source': array(['USGS Geonames', 'Bing'], dtype=object),\n",
       " 'building': array(['yes', 'house', 'garage', 'retail', 'hospital'], dtype=object),\n",
       " 'addr:housenumber': array(['381', '142', '18', '20', '22', '19', '21', '247', '26', '28',\n",
       "        '30', '32', '34', '36', '38', '23', '25', '237', '239', '241',\n",
       "        '251', '253', '255', '257', '259', '261', '263', '265', '267',\n",
       "        '269', '271', '277', '299', '301', '115', '84', '49', '305', '302',\n",
       "        '304', '428', '300', '504', '484', '462', '448', '414', '392',\n",
       "        '370', '342', '324', '286', '272', '230', '214', '186', '174',\n",
       "        '160', '138', '298', '481', '447', '411', '383', '373', '355',\n",
       "        '325', '293', '315', '275', '11', '375', '123', '118', '107', '89',\n",
       "        '100', '57', '170', '74', '50', '35', '215', '171', '151', '125',\n",
       "        '103', '60', '78', '91', '110', '122', '121', '132', '155', '213',\n",
       "        '182', '79', '8', '9', '7', '296', '288', '278', '276', '274',\n",
       "        '270', '24', '27', '29', '14', '12', '10', '6', '2', '4', '1', '3',\n",
       "        '5', '268', '266', '15', '16', '252', '64', '250', '63', '62',\n",
       "        '58', '47', '61', '56', '42', '40', '41', '31', '248', '244',\n",
       "        '234', '45', '43', '39', '246', '130', '282', '350'], dtype=object),\n",
       " 'addr:street': array(['Sherwood Drive', 'Woodridge Drive', 'George Street', 'Berlin St',\n",
       "        \"Stretch's Way\", 'Valley View Road', 'Robinhood Circle',\n",
       "        'River Street', 'Forest Drive', 'Moonlight Terrace',\n",
       "        'Valerie Avenue', 'Hebert Road', 'Judson Drive', 'Wheelock Street',\n",
       "        'Pleasantview Street', 'Shady Lane', 'Fisher Road', 'Hersey Road',\n",
       "        'Berlin Mall Road'], dtype=object),\n",
       " 'addr:city': array(['Berlin', 'Montpelier'], dtype=object),\n",
       " 'addr:postcode': array(['05602'], dtype=object),\n",
       " 'capacity': array(['153'], dtype=object),\n",
       " 'operator': array(['University of Vermont Health Network', 'Vermont Transco',\n",
       "        'Vermont Department of Mental Health', 'Walmart'], dtype=object),\n",
       " 'phone': array(['+1 802 371 4700', '+1 802 371 4100', '+1 802 828 3300',\n",
       "        '+1-802-229-7792'], dtype=object),\n",
       " 'social_facility': array(['nursing_home'], dtype=object),\n",
       " 'social_facility:for': array(['senior'], dtype=object),\n",
       " 'website': array(['https://www.cvmc.org/our-services/woodridge-rehabilitation-and-nursing',\n",
       "        'https://www.cvmc.org/',\n",
       "        'https://mentalhealth.vermont.gov/intervention-and-recovery/vermont-psychiatric-care-hospital',\n",
       "        'https://www.walmart.com/store/2682/berlin-vt/whats-new'],\n",
       "       dtype=object),\n",
       " 'access': array(['private'], dtype=object),\n",
       " 'entrance': array(['service'], dtype=object),\n",
       " 'highway': array(['service', 'tertiary', 'residential', 'track', 'tertiary_link',\n",
       "        'unclassified', 'trunk'], dtype=object),\n",
       " 'surface': array(['asphalt', 'paved', 'unpaved'], dtype=object),\n",
       " 'service': array(['parking_aisle', 'driveway'], dtype=object),\n",
       " 'ref': array(['K26', 'VT 62'], dtype=object),\n",
       " 'voltage': array(['115000'], dtype=object),\n",
       " 'tiger:cfcc': array(['A41', 'A74', 'A35', 'A63', 'C20'], dtype=object),\n",
       " 'tiger:county': array(['Washington, VT'], dtype=object),\n",
       " 'tiger:reviewed': array(['no', 'yes'], dtype=object),\n",
       " 'tiger:source': array(['tiger_import_dch_v0.6_20070830'], dtype=object),\n",
       " 'tiger:tlid': array(['136669771'], dtype=object),\n",
       " 'tiger:upload_uuid': array(['bulk_upload.pl-579031ba-dbe6-46ea-8f7a-7bfb74a20681'],\n",
       "       dtype=object),\n",
       " 'oneway': array(['yes'], dtype=object),\n",
       " 'tiger:name_base': array(['Granger', 'Pleasant View', 'Shady', 'Valerie', 'Judson',\n",
       "        'Addison', 'George', 'Maple', 'Green Mountain', 'Spruce',\n",
       "        'Wheelock', 'Forest', 'Hersey', 'Robinhood', 'Poplar',\n",
       "        'Bennington', 'Valley View', 'Berlin Corners', 'Hebert Farm',\n",
       "        'Richardson', 'Hebert', 'Berlin Mall', 'Birchwood', 'Stewart',\n",
       "        'Sherwood', 'Moonlight', 'State Route 62', 'Paine',\n",
       "        'Benjamin Falls', 'Hospital'], dtype=object),\n",
       " 'tiger:name_type': array(['Rd', 'St', 'Ln', 'Ave', 'Dr', 'Cir', 'Ter', 'Tpke', 'Loop'],\n",
       "       dtype=object),\n",
       " 'tiger:zip_left': array(['05641', '05602'], dtype=object),\n",
       " 'tiger:zip_right': array(['05641', '05602'], dtype=object),\n",
       " 'expressway': array(['yes'], dtype=object),\n",
       " 'lanes': array(['2'], dtype=object),\n",
       " 'maxspeed': array(['50 mph', '55 mph'], dtype=object),\n",
       " 'tiger:name_direction_suffix': array(['N'], dtype=object),\n",
       " 'tiger:zip_left_1': array(['05602'], dtype=object),\n",
       " 'tiger:zip_left_2': array(['05602'], dtype=object),\n",
       " 'tiger:zip_right_1': array(['05602'], dtype=object),\n",
       " 'boundary': array(['administrative'], dtype=object),\n",
       " 'building:levels': array(['1'], dtype=object),\n",
       " 'shop': array(['tyres', 'car_parts', 'supermarket'], dtype=object),\n",
       " 'beds': array(['122', '25'], dtype=object),\n",
       " 'emergency': array(['yes', 'no'], dtype=object),\n",
       " 'healthcare': array(['hospital'], dtype=object),\n",
       " 'old_name': array(['Central Vermont Hospital'], dtype=object),\n",
       " 'opening_hours': array(['24/7', 'Mo-Su 07:00-24:00'], dtype=object),\n",
       " 'wikidata': array(['Q5061990', 'Q61725655'], dtype=object),\n",
       " 'wikipedia': array(['en:Central Vermont Medical Center'], dtype=object),\n",
       " 'parking': array(['surface'], dtype=object),\n",
       " 'addr:country': array(['US'], dtype=object),\n",
       " 'denomination': array(['mormon'], dtype=object),\n",
       " 'religion': array(['christian'], dtype=object),\n",
       " 'landuse': array(['residential', 'commercial', 'retail', 'military', 'quarry'],\n",
       "       dtype=object),\n",
       " 'military': array(['office'], dtype=object),\n",
       " 'healthcare:speciality': array(['psychiatry'], dtype=object),\n",
       " 'aeroway': array(['helipad'], dtype=object),\n",
       " 'faa': array(['VT65'], dtype=object),\n",
       " 'natural': array(['water', 'wetland', 'wood'], dtype=object),\n",
       " 'water': array(['river'], dtype=object),\n",
       " 'waterway': array(['stream'], dtype=object),\n",
       " 'wetland': array(['marsh'], dtype=object),\n",
       " 'ref:walmart': array(['2682'], dtype=object)}"
      ]
     },
     "execution_count": 105,
     "metadata": {},
     "output_type": "execute_result"
    }
   ],
   "source": [
    "test_dict1"
   ]
  },
  {
   "cell_type": "code",
   "execution_count": null,
   "metadata": {},
   "outputs": [],
   "source": []
  },
  {
   "cell_type": "markdown",
   "metadata": {},
   "source": [
    "# Single Road"
   ]
  },
  {
   "cell_type": "code",
   "execution_count": 220,
   "metadata": {},
   "outputs": [],
   "source": [
    "road_query = 'way[highway](around:5,44.15349716748267, -72.49253549908933);(._;>;);out meta;'\n",
    "road_query = 'nwr(around:5,44.15349716748267, -72.49253549908933);(._;>;);out;'\n",
    "\n",
    "road_response = api_pass.get(road_query)"
   ]
  },
  {
   "cell_type": "code",
   "execution_count": 221,
   "metadata": {},
   "outputs": [],
   "source": [
    "road_geodf = geopandas.GeoDataFrame.from_features(road_response)"
   ]
  },
  {
   "cell_type": "code",
   "execution_count": 222,
   "metadata": {},
   "outputs": [],
   "source": [
    "#culled_df = df.dropna(axis='index', how='all', subset=df.columns[4:])\n",
    "culled_road = road_geodf.dropna(axis='index', how='all', subset=road_geodf.columns[1:])"
   ]
  },
  {
   "cell_type": "code",
   "execution_count": 223,
   "metadata": {},
   "outputs": [
    {
     "data": {
      "text/plain": [
       "(2, 9)"
      ]
     },
     "execution_count": 223,
     "metadata": {},
     "output_type": "execute_result"
    }
   ],
   "source": [
    "culled_road.shape"
   ]
  },
  {
   "cell_type": "code",
   "execution_count": 224,
   "metadata": {},
   "outputs": [
    {
     "data": {
      "text/plain": [
       "(50, 9)"
      ]
     },
     "execution_count": 224,
     "metadata": {},
     "output_type": "execute_result"
    }
   ],
   "source": [
    "road_geodf.shape"
   ]
  },
  {
   "cell_type": "code",
   "execution_count": 225,
   "metadata": {},
   "outputs": [
    {
     "data": {
      "text/html": [
       "<div>\n",
       "<style scoped>\n",
       "    .dataframe tbody tr th:only-of-type {\n",
       "        vertical-align: middle;\n",
       "    }\n",
       "\n",
       "    .dataframe tbody tr th {\n",
       "        vertical-align: top;\n",
       "    }\n",
       "\n",
       "    .dataframe thead th {\n",
       "        text-align: right;\n",
       "    }\n",
       "</style>\n",
       "<table border=\"1\" class=\"dataframe\">\n",
       "  <thead>\n",
       "    <tr style=\"text-align: right;\">\n",
       "      <th></th>\n",
       "      <th>geometry</th>\n",
       "      <th>highway</th>\n",
       "      <th>name</th>\n",
       "      <th>surface</th>\n",
       "      <th>tiger:cfcc</th>\n",
       "      <th>tiger:county</th>\n",
       "      <th>tiger:name_base</th>\n",
       "      <th>tiger:name_type</th>\n",
       "      <th>tiger:reviewed</th>\n",
       "    </tr>\n",
       "  </thead>\n",
       "  <tbody>\n",
       "    <tr>\n",
       "      <td>24</td>\n",
       "      <td>POINT (-72.493351 44.155078)</td>\n",
       "      <td>residential</td>\n",
       "      <td>Graniteville Road</td>\n",
       "      <td>asphalt</td>\n",
       "      <td>A41</td>\n",
       "      <td>Washington, VT</td>\n",
       "      <td>Graniteville</td>\n",
       "      <td>Rd</td>\n",
       "      <td>no</td>\n",
       "    </tr>\n",
       "    <tr>\n",
       "      <td>49</td>\n",
       "      <td>POINT (-72.493351 44.155078)</td>\n",
       "      <td>residential</td>\n",
       "      <td>Graniteville Road</td>\n",
       "      <td>asphalt</td>\n",
       "      <td>A41</td>\n",
       "      <td>Washington, VT</td>\n",
       "      <td>Graniteville</td>\n",
       "      <td>Rd</td>\n",
       "      <td>no</td>\n",
       "    </tr>\n",
       "  </tbody>\n",
       "</table>\n",
       "</div>"
      ],
      "text/plain": [
       "                        geometry      highway               name  surface  \\\n",
       "24  POINT (-72.493351 44.155078)  residential  Graniteville Road  asphalt   \n",
       "49  POINT (-72.493351 44.155078)  residential  Graniteville Road  asphalt   \n",
       "\n",
       "   tiger:cfcc    tiger:county tiger:name_base tiger:name_type tiger:reviewed  \n",
       "24        A41  Washington, VT    Graniteville              Rd             no  \n",
       "49        A41  Washington, VT    Graniteville              Rd             no  "
      ]
     },
     "execution_count": 225,
     "metadata": {},
     "output_type": "execute_result"
    }
   ],
   "source": [
    "culled_road"
   ]
  },
  {
   "cell_type": "code",
   "execution_count": null,
   "metadata": {},
   "outputs": [],
   "source": []
  }
 ],
 "metadata": {
  "kernelspec": {
   "display_name": "inaturalist",
   "language": "python",
   "name": "inaturalist"
  },
  "language_info": {
   "codemirror_mode": {
    "name": "ipython",
    "version": 3
   },
   "file_extension": ".py",
   "mimetype": "text/x-python",
   "name": "python",
   "nbconvert_exporter": "python",
   "pygments_lexer": "ipython3",
   "version": "3.7.4"
  }
 },
 "nbformat": 4,
 "nbformat_minor": 4
}

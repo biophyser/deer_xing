{
 "cells": [
  {
   "cell_type": "code",
   "execution_count": null,
   "metadata": {},
   "outputs": [],
   "source": []
  },
  {
   "cell_type": "code",
   "execution_count": 1,
   "metadata": {},
   "outputs": [],
   "source": [
    "# import libraries\n",
    "import urllib.request\n",
    "from bs4 import BeautifulSoup\n",
    "from selenium import webdriver\n",
    "import time\n",
    "import pandas as pd \n",
    "from selenium.common.exceptions import NoSuchElementException"
   ]
  },
  {
   "cell_type": "code",
   "execution_count": 2,
   "metadata": {},
   "outputs": [],
   "source": [
    "driver = webdriver.Chrome()"
   ]
  },
  {
   "cell_type": "code",
   "execution_count": 3,
   "metadata": {},
   "outputs": [],
   "source": [
    "url = 'https://www.wildlifecrossing.net/california/observations/latest?q=observations/latest&page=0'"
   ]
  },
  {
   "cell_type": "code",
   "execution_count": 54,
   "metadata": {},
   "outputs": [],
   "source": [
    "base_url = 'https://www.wildlifecrossing.net'"
   ]
  },
  {
   "cell_type": "code",
   "execution_count": 5,
   "metadata": {},
   "outputs": [],
   "source": [
    "driver.get(url)"
   ]
  },
  {
   "cell_type": "code",
   "execution_count": 6,
   "metadata": {},
   "outputs": [],
   "source": [
    "test = driver.find_elements_by_class_name(\"views-field views-field-title\")"
   ]
  },
  {
   "cell_type": "code",
   "execution_count": 9,
   "metadata": {},
   "outputs": [],
   "source": [
    "test = driver.find_elements_by_xpath(\"/html/body/div/div/div/section/div[2]/div/div/div/div/table/tbody/tr[1]/td[1]\")"
   ]
  },
  {
   "cell_type": "code",
   "execution_count": 10,
   "metadata": {},
   "outputs": [
    {
     "data": {
      "text/plain": [
       "list"
      ]
     },
     "execution_count": 10,
     "metadata": {},
     "output_type": "execute_result"
    }
   ],
   "source": [
    "type(test)"
   ]
  },
  {
   "cell_type": "code",
   "execution_count": 11,
   "metadata": {},
   "outputs": [
    {
     "data": {
      "text/plain": [
       "1"
      ]
     },
     "execution_count": 11,
     "metadata": {},
     "output_type": "execute_result"
    }
   ],
   "source": [
    "len(test)"
   ]
  },
  {
   "cell_type": "code",
   "execution_count": 12,
   "metadata": {},
   "outputs": [
    {
     "data": {
      "text/plain": [
       "[<selenium.webdriver.remote.webelement.WebElement (session=\"bbff4566b2d1b812bfb7516866480f44\", element=\"c967b7db-bcc3-43dc-b8c7-8eb732a719c4\")>]"
      ]
     },
     "execution_count": 12,
     "metadata": {},
     "output_type": "execute_result"
    }
   ],
   "source": [
    "test"
   ]
  },
  {
   "cell_type": "markdown",
   "metadata": {},
   "source": [
    "# Beautiful Souping"
   ]
  },
  {
   "cell_type": "code",
   "execution_count": 4,
   "metadata": {},
   "outputs": [],
   "source": [
    "url = 'https://www.wildlifecrossing.net/california/observations/latest?q=observations/latest&page=0'\n",
    "source = urllib.request.urlopen(url).read()\n",
    "soup = BeautifulSoup(source,'lxml')"
   ]
  },
  {
   "cell_type": "code",
   "execution_count": 6,
   "metadata": {},
   "outputs": [],
   "source": []
  },
  {
   "cell_type": "code",
   "execution_count": 8,
   "metadata": {},
   "outputs": [
    {
     "name": "stdout",
     "output_type": "stream",
     "text": [
      "<title>Latest Observations | CROS</title>\n"
     ]
    }
   ],
   "source": [
    "print(soup.title)"
   ]
  },
  {
   "cell_type": "code",
   "execution_count": 9,
   "metadata": {},
   "outputs": [
    {
     "name": "stdout",
     "output_type": "stream",
     "text": [
      "title\n"
     ]
    }
   ],
   "source": [
    "print(soup.title.name)"
   ]
  },
  {
   "cell_type": "code",
   "execution_count": 10,
   "metadata": {},
   "outputs": [
    {
     "name": "stdout",
     "output_type": "stream",
     "text": [
      "Latest Observations | CROS\n"
     ]
    }
   ],
   "source": [
    "print(soup.title.string)"
   ]
  },
  {
   "cell_type": "code",
   "execution_count": 11,
   "metadata": {},
   "outputs": [
    {
     "name": "stdout",
     "output_type": "stream",
     "text": [
      "head\n"
     ]
    }
   ],
   "source": [
    "print(soup.title.parent.name)"
   ]
  },
  {
   "cell_type": "code",
   "execution_count": 12,
   "metadata": {},
   "outputs": [
    {
     "name": "stdout",
     "output_type": "stream",
     "text": [
      "<p>Developed by the <a href=\"https://roadecology.ucdavis.edu\">Road Ecology Center</a>, <a href=\"https://www.ucdavis.edu\">UC Davis</a></p>\n"
     ]
    }
   ],
   "source": [
    "print(soup.p)"
   ]
  },
  {
   "cell_type": "markdown",
   "metadata": {},
   "source": [
    "<td headers=\"view-title-table-column\" class=\"views-field views-field-title\"><a href=\"/california/observations/61351\" hreflang=\"en\">Observation ID: 61351</a>        </td>"
   ]
  },
  {
   "cell_type": "code",
   "execution_count": 14,
   "metadata": {},
   "outputs": [],
   "source": [
    "observation = soup.tr"
   ]
  },
  {
   "cell_type": "code",
   "execution_count": 15,
   "metadata": {},
   "outputs": [
    {
     "name": "stdout",
     "output_type": "stream",
     "text": [
      "<tr>\n",
      "<th class=\"views-field views-field-title\" id=\"view-title-table-column\" scope=\"col\">ID</th>\n",
      "<th class=\"views-field views-field-field-date-observation\" id=\"view-field-date-observation-table-column\" scope=\"col\">Date</th>\n",
      "<th class=\"views-field views-field-field-taxon\" id=\"view-field-taxon-table-column\" scope=\"col\">Animal</th>\n",
      "</tr>\n"
     ]
    }
   ],
   "source": [
    "print(observation)"
   ]
  },
  {
   "cell_type": "code",
   "execution_count": 20,
   "metadata": {},
   "outputs": [
    {
     "data": {
      "text/plain": [
       "bs4.element.Tag"
      ]
     },
     "execution_count": 20,
     "metadata": {},
     "output_type": "execute_result"
    }
   ],
   "source": [
    "type(observation)"
   ]
  },
  {
   "cell_type": "code",
   "execution_count": 17,
   "metadata": {},
   "outputs": [
    {
     "name": "stdout",
     "output_type": "stream",
     "text": [
      "None\n",
      "Developed by the Road Ecology Center, UC Davis\n"
     ]
    }
   ],
   "source": [
    "for paragraph in soup.find_all('p'):\n",
    "    print(paragraph.string)\n",
    "    print(str(paragraph.text))"
   ]
  },
  {
   "cell_type": "code",
   "execution_count": 21,
   "metadata": {
    "collapsed": true,
    "jupyter": {
     "outputs_hidden": true
    }
   },
   "outputs": [
    {
     "name": "stdout",
     "output_type": "stream",
     "text": [
      "#main-content\n",
      "/california/\n",
      "/california/\n",
      "/california/about\n",
      "/california/map\n",
      "https://roadecology.ucdavis.edu/hotspots/map\n",
      "/california/user/login\n",
      "/california/contact\n",
      "None\n",
      "/california/observations/61351\n",
      "/california/observations/61350\n",
      "/california/observations/61337\n",
      "/california/observations/61347\n",
      "/california/observations/61349\n",
      "/california/observations/61332\n",
      "/california/observations/61331\n",
      "/california/observations/61345\n",
      "/california/observations/61343\n",
      "/california/observations/61341\n",
      "/california/observations/61339\n",
      "/california/observations/61326\n",
      "/california/observations/61325\n",
      "/california/observations/61324\n",
      "/california/observations/61323\n",
      "/california/observations/61320\n",
      "/california/observations/61315\n",
      "/california/observations/61334\n",
      "/california/observations/61322\n",
      "/california/observations/61313\n",
      "/california/observations/61317\n",
      "/california/observations/61314\n",
      "/california/observations/61310\n",
      "/california/observations/61312\n",
      "/california/observations/61311\n",
      "/california/observations/61355\n",
      "/california/observations/61353\n",
      "/california/observations/61294\n",
      "/california/observations/61308\n",
      "/california/observations/61306\n",
      "/california/observations/61304\n",
      "/california/observations/61302\n",
      "/california/observations/61292\n",
      "/california/observations/61300\n",
      "/california/observations/61329\n",
      "/california/observations/61298\n",
      "/california/observations/61282\n",
      "/california/observations/61280\n",
      "/california/observations/61275\n",
      "/california/observations/61276\n",
      "/california/observations/61270\n",
      "/california/observations/61272\n",
      "/california/observations/61287\n",
      "/california/observations/61274\n",
      "/california/observations/61291\n",
      "/california/observations/61263\n",
      "/california/observations/61267\n",
      "/california/observations/61269\n",
      "/california/observations/61271\n",
      "/california/observations/61262\n",
      "/california/observations/latest?q=observations/latest&page=1\n",
      "/california/animals\n",
      "/california/observations/latest\n",
      "/california/map\n",
      "/california/gallery\n",
      "/california/support\n",
      "https://roadecology.ucdavis.edu\n",
      "https://www.ucdavis.edu\n"
     ]
    }
   ],
   "source": [
    "for url in soup.find_all('a'):\n",
    "    print(url.get('href'))"
   ]
  },
  {
   "cell_type": "markdown",
   "metadata": {},
   "source": [
    "## Navigation"
   ]
  },
  {
   "cell_type": "code",
   "execution_count": 22,
   "metadata": {},
   "outputs": [],
   "source": [
    "nav = soup.nav"
   ]
  },
  {
   "cell_type": "code",
   "execution_count": 23,
   "metadata": {},
   "outputs": [
    {
     "name": "stdout",
     "output_type": "stream",
     "text": [
      "/california/about\n",
      "/california/map\n",
      "https://roadecology.ucdavis.edu/hotspots/map\n"
     ]
    }
   ],
   "source": [
    "for url in nav.find_all('a'):\n",
    "    print(url.get('href'))"
   ]
  },
  {
   "cell_type": "code",
   "execution_count": 24,
   "metadata": {
    "collapsed": true,
    "jupyter": {
     "outputs_hidden": true
    }
   },
   "outputs": [
    {
     "name": "stdout",
     "output_type": "stream",
     "text": [
      "#main-content\n",
      "/california/\n",
      "/california/\n",
      "/california/about\n",
      "/california/map\n",
      "https://roadecology.ucdavis.edu/hotspots/map\n",
      "/california/user/login\n",
      "/california/contact\n",
      "None\n",
      "/california/observations/61351\n",
      "/california/observations/61350\n",
      "/california/observations/61337\n",
      "/california/observations/61347\n",
      "/california/observations/61349\n",
      "/california/observations/61332\n",
      "/california/observations/61331\n",
      "/california/observations/61345\n",
      "/california/observations/61343\n",
      "/california/observations/61341\n",
      "/california/observations/61339\n",
      "/california/observations/61326\n",
      "/california/observations/61325\n",
      "/california/observations/61324\n",
      "/california/observations/61323\n",
      "/california/observations/61320\n",
      "/california/observations/61315\n",
      "/california/observations/61334\n",
      "/california/observations/61322\n",
      "/california/observations/61313\n",
      "/california/observations/61317\n",
      "/california/observations/61314\n",
      "/california/observations/61310\n",
      "/california/observations/61312\n",
      "/california/observations/61311\n",
      "/california/observations/61355\n",
      "/california/observations/61353\n",
      "/california/observations/61294\n",
      "/california/observations/61308\n",
      "/california/observations/61306\n",
      "/california/observations/61304\n",
      "/california/observations/61302\n",
      "/california/observations/61292\n",
      "/california/observations/61300\n",
      "/california/observations/61329\n",
      "/california/observations/61298\n",
      "/california/observations/61282\n",
      "/california/observations/61280\n",
      "/california/observations/61275\n",
      "/california/observations/61276\n",
      "/california/observations/61270\n",
      "/california/observations/61272\n",
      "/california/observations/61287\n",
      "/california/observations/61274\n",
      "/california/observations/61291\n",
      "/california/observations/61263\n",
      "/california/observations/61267\n",
      "/california/observations/61269\n",
      "/california/observations/61271\n",
      "/california/observations/61262\n",
      "/california/observations/latest?q=observations/latest&page=1\n",
      "/california/animals\n",
      "/california/observations/latest\n",
      "/california/map\n",
      "/california/gallery\n",
      "/california/support\n",
      "https://roadecology.ucdavis.edu\n",
      "https://www.ucdavis.edu\n"
     ]
    }
   ],
   "source": [
    "body = soup.body\n",
    "for url in body.find_all('a'):\n",
    "    print(url.get('href'))"
   ]
  },
  {
   "cell_type": "code",
   "execution_count": 25,
   "metadata": {},
   "outputs": [],
   "source": [
    "for div in soup.find_all('div', class_='body'):\n",
    "    print(div.text)"
   ]
  },
  {
   "cell_type": "code",
   "execution_count": 27,
   "metadata": {},
   "outputs": [],
   "source": [
    "table = soup.table"
   ]
  },
  {
   "cell_type": "code",
   "execution_count": 28,
   "metadata": {},
   "outputs": [
    {
     "data": {
      "text/plain": [
       "bs4.element.Tag"
      ]
     },
     "execution_count": 28,
     "metadata": {},
     "output_type": "execute_result"
    }
   ],
   "source": [
    "type(table)"
   ]
  },
  {
   "cell_type": "code",
   "execution_count": 29,
   "metadata": {},
   "outputs": [],
   "source": []
  },
  {
   "cell_type": "code",
   "execution_count": 30,
   "metadata": {},
   "outputs": [],
   "source": []
  },
  {
   "cell_type": "code",
   "execution_count": 140,
   "metadata": {},
   "outputs": [
    {
     "name": "stdout",
     "output_type": "stream",
     "text": [
      "CPU times: user 1.57 s, sys: 51.2 ms, total: 1.62 s\n",
      "Wall time: 16.1 s\n"
     ]
    }
   ],
   "source": [
    "%%time\n",
    "\n",
    "page_num = 0\n",
    "\n",
    "baseurl = 'https://www.wildlifecrossing.net'\n",
    "url = '/california/observations/latest?q=observations/latest&page={}'.format(page_num)\n",
    "source = urllib.request.urlopen(baseurl+url).read()\n",
    "soup = BeautifulSoup(source,'lxml')\n",
    "\n",
    "table = soup.find('table')\n",
    "table_rows = table.find_all('tr')\n",
    "\n",
    "data = {}\n",
    "for tr in table_rows[1:]:\n",
    "    suburl = base_url+tr.find('a').get('href')\n",
    "    obsID = int(suburl.split('/')[-1])\n",
    "    td = tr.find_all('td')\n",
    "    _, time, critter = [i.text for i in td]\n",
    "    subsource = urllib.request.urlopen(suburl).read()\n",
    "    subsoup = BeautifulSoup(subsource,'lxml')\n",
    "    meta = subsoup.find('div', {'class': 'geolocation-location js-hide'}).find_all('meta')\n",
    "    data[obsID] = {\n",
    "        'time': pd.to_datetime(time.strip()),\n",
    "        'animal': critter.strip(),\n",
    "        'url': suburl\n",
    "    }\n",
    "    for i in meta:\n",
    "        data[obsID][i['property']] = float(i['content'])"
   ]
  },
  {
   "cell_type": "code",
   "execution_count": 141,
   "metadata": {},
   "outputs": [],
   "source": [
    "df = pd.DataFrame(data).T\n",
    "df.to_json('data/CA_wildlife/{}.json'.format(str(0).rjust(4,'0')))"
   ]
  },
  {
   "cell_type": "code",
   "execution_count": 153,
   "metadata": {},
   "outputs": [],
   "source": [
    "def scrape_ca_page(page_num):\n",
    "    baseurl = 'https://www.wildlifecrossing.net'\n",
    "    url = '/california/observations/latest?q=observations/latest&page={}'.format(page_num)\n",
    "    source = urllib.request.urlopen(baseurl+url).read()\n",
    "    soup = BeautifulSoup(source,'lxml')\n",
    "\n",
    "    table = soup.find('table')\n",
    "    table_rows = table.find_all('tr')\n",
    "\n",
    "    data = {}\n",
    "    for tr in table_rows[1:]:\n",
    "        suburl = base_url+tr.find('a').get('href')\n",
    "        obsID = int(suburl.split('/')[-1])\n",
    "        td = tr.find_all('td')\n",
    "        _, time, critter = [i.text for i in td]\n",
    "        subsource = urllib.request.urlopen(suburl).read()\n",
    "        subsoup = BeautifulSoup(subsource,'lxml')\n",
    "        \n",
    "        data[obsID] = {\n",
    "            'time': pd.to_datetime(time.strip()),\n",
    "            'animal': critter.strip(),\n",
    "            'url': suburl\n",
    "        }\n",
    "        try:\n",
    "            meta = subsoup.find('div', {'class': 'geolocation-location js-hide'}).find_all('meta')\n",
    "            for i in meta:\n",
    "                data[obsID][i['property']] = float(i['content'])\n",
    "        except:\n",
    "            data[obsID]['latitude'] = None\n",
    "            data[obsID]['longitude'] = None\n",
    "            \n",
    "    df = pd.DataFrame(data).T\n",
    "    df.to_json('data/CA_wildlife/{}.json'.format(str(page_num).rjust(4,'0')))"
   ]
  },
  {
   "cell_type": "code",
   "execution_count": 146,
   "metadata": {},
   "outputs": [
    {
     "name": "stdout",
     "output_type": "stream",
     "text": [
      "CPU times: user 1.61 s, sys: 52.4 ms, total: 1.67 s\n",
      "Wall time: 54.4 s\n"
     ]
    }
   ],
   "source": [
    "%%time\n",
    "scrape_ca_page(1)"
   ]
  },
  {
   "cell_type": "code",
   "execution_count": 154,
   "metadata": {},
   "outputs": [
    {
     "name": "stdout",
     "output_type": "stream",
     "text": [
      "2, 3, 4, 5, 6, 7, 8, 9, 10, 11, CPU times: user 16.6 s, sys: 343 ms, total: 17 s\n",
      "Wall time: 8min 56s\n"
     ]
    }
   ],
   "source": [
    "%%time\n",
    "for page_num in range(2, 12):\n",
    "    print('{}, '.format(page_num), end='')\n",
    "    scrape_ca_page(page_num)"
   ]
  },
  {
   "cell_type": "code",
   "execution_count": 129,
   "metadata": {},
   "outputs": [
    {
     "data": {
      "text/html": [
       "<div>\n",
       "<style scoped>\n",
       "    .dataframe tbody tr th:only-of-type {\n",
       "        vertical-align: middle;\n",
       "    }\n",
       "\n",
       "    .dataframe tbody tr th {\n",
       "        vertical-align: top;\n",
       "    }\n",
       "\n",
       "    .dataframe thead th {\n",
       "        text-align: right;\n",
       "    }\n",
       "</style>\n",
       "<table border=\"1\" class=\"dataframe\">\n",
       "  <thead>\n",
       "    <tr style=\"text-align: right;\">\n",
       "      <th></th>\n",
       "      <th>time</th>\n",
       "      <th>animal</th>\n",
       "      <th>url</th>\n",
       "      <th>latitude</th>\n",
       "      <th>longitude</th>\n",
       "    </tr>\n",
       "  </thead>\n",
       "  <tbody>\n",
       "    <tr>\n",
       "      <td>61351</td>\n",
       "      <td>2019-09-16 10:43:00</td>\n",
       "      <td>California Ground Squirrel</td>\n",
       "      <td>https://www.wildlifecrossing.net/california/ob...</td>\n",
       "      <td>34.3269</td>\n",
       "      <td>-119.108</td>\n",
       "    </tr>\n",
       "    <tr>\n",
       "      <td>61350</td>\n",
       "      <td>2019-09-16 10:41:00</td>\n",
       "      <td>Eastern Fox Squirrel</td>\n",
       "      <td>https://www.wildlifecrossing.net/california/ob...</td>\n",
       "      <td>34.3269</td>\n",
       "      <td>-119.108</td>\n",
       "    </tr>\n",
       "    <tr>\n",
       "      <td>61337</td>\n",
       "      <td>2019-09-15 11:55:00</td>\n",
       "      <td>Mule (or Black tailed) Deer</td>\n",
       "      <td>https://www.wildlifecrossing.net/california/ob...</td>\n",
       "      <td>34.3269</td>\n",
       "      <td>-119.108</td>\n",
       "    </tr>\n",
       "    <tr>\n",
       "      <td>61347</td>\n",
       "      <td>2019-09-15 09:32:00</td>\n",
       "      <td>Western Fence Lizard</td>\n",
       "      <td>https://www.wildlifecrossing.net/california/ob...</td>\n",
       "      <td>34.3269</td>\n",
       "      <td>-119.108</td>\n",
       "    </tr>\n",
       "    <tr>\n",
       "      <td>61349</td>\n",
       "      <td>2019-09-15 08:38:00</td>\n",
       "      <td>Gopher Snake</td>\n",
       "      <td>https://www.wildlifecrossing.net/california/ob...</td>\n",
       "      <td>34.3269</td>\n",
       "      <td>-119.108</td>\n",
       "    </tr>\n",
       "  </tbody>\n",
       "</table>\n",
       "</div>"
      ],
      "text/plain": [
       "                     time                       animal  \\\n",
       "61351 2019-09-16 10:43:00   California Ground Squirrel   \n",
       "61350 2019-09-16 10:41:00         Eastern Fox Squirrel   \n",
       "61337 2019-09-15 11:55:00  Mule (or Black tailed) Deer   \n",
       "61347 2019-09-15 09:32:00         Western Fence Lizard   \n",
       "61349 2019-09-15 08:38:00                 Gopher Snake   \n",
       "\n",
       "                                                     url latitude longitude  \n",
       "61351  https://www.wildlifecrossing.net/california/ob...  34.3269  -119.108  \n",
       "61350  https://www.wildlifecrossing.net/california/ob...  34.3269  -119.108  \n",
       "61337  https://www.wildlifecrossing.net/california/ob...  34.3269  -119.108  \n",
       "61347  https://www.wildlifecrossing.net/california/ob...  34.3269  -119.108  \n",
       "61349  https://www.wildlifecrossing.net/california/ob...  34.3269  -119.108  "
      ]
     },
     "execution_count": 129,
     "metadata": {},
     "output_type": "execute_result"
    }
   ],
   "source": [
    "df.head()"
   ]
  },
  {
   "cell_type": "code",
   "execution_count": 142,
   "metadata": {},
   "outputs": [
    {
     "data": {
      "text/plain": [
       "20400"
      ]
     },
     "execution_count": 142,
     "metadata": {},
     "output_type": "execute_result"
    }
   ],
   "source": []
  },
  {
   "cell_type": "code",
   "execution_count": 147,
   "metadata": {},
   "outputs": [
    {
     "ename": "SyntaxError",
     "evalue": "unexpected EOF while parsing (<ipython-input-147-750558c2cde7>, line 1)",
     "output_type": "error",
     "traceback": [
      "\u001b[0;36m  File \u001b[0;32m\"<ipython-input-147-750558c2cde7>\"\u001b[0;36m, line \u001b[0;32m1\u001b[0m\n\u001b[0;31m    (17*1200/3600\u001b[0m\n\u001b[0m                 ^\u001b[0m\n\u001b[0;31mSyntaxError\u001b[0m\u001b[0;31m:\u001b[0m unexpected EOF while parsing\n"
     ]
    }
   ],
   "source": [
    "*1200/3600"
   ]
  },
  {
   "cell_type": "code",
   "execution_count": 132,
   "metadata": {},
   "outputs": [
    {
     "data": {
      "text/plain": [
       "'0001'"
      ]
     },
     "execution_count": 132,
     "metadata": {},
     "output_type": "execute_result"
    }
   ],
   "source": [
    "str(1).rjust(4,'0')"
   ]
  },
  {
   "cell_type": "markdown",
   "metadata": {},
   "source": [
    "# Scraping observations"
   ]
  },
  {
   "cell_type": "code",
   "execution_count": 82,
   "metadata": {},
   "outputs": [],
   "source": [
    "test_url = df.loc[61351, 'url']"
   ]
  },
  {
   "cell_type": "code",
   "execution_count": 83,
   "metadata": {},
   "outputs": [],
   "source": [
    "source = urllib.request.urlopen(test_url).read()\n",
    "soup = BeautifulSoup(source,'lxml')"
   ]
  },
  {
   "cell_type": "code",
   "execution_count": 84,
   "metadata": {},
   "outputs": [],
   "source": []
  },
  {
   "cell_type": "code",
   "execution_count": 87,
   "metadata": {},
   "outputs": [],
   "source": [
    "test = soup.find_all('meta')"
   ]
  },
  {
   "cell_type": "code",
   "execution_count": 88,
   "metadata": {},
   "outputs": [
    {
     "data": {
      "text/plain": [
       "[<meta charset=\"utf-8\"/>,\n",
       " <meta content=\"Drupal 8 (https://www.drupal.org)\" name=\"Generator\"/>,\n",
       " <meta content=\"width\" name=\"MobileOptimized\"/>,\n",
       " <meta content=\"true\" name=\"HandheldFriendly\"/>,\n",
       " <meta content=\"width=device-width, initial-scale=1.0\" name=\"viewport\"/>,\n",
       " <meta content=\"34.326941420035\" property=\"latitude\"/>,\n",
       " <meta content=\"-119.10751861418\" property=\"longitude\"/>]"
      ]
     },
     "execution_count": 88,
     "metadata": {},
     "output_type": "execute_result"
    }
   ],
   "source": [
    "test"
   ]
  },
  {
   "cell_type": "code",
   "execution_count": 91,
   "metadata": {},
   "outputs": [
    {
     "data": {
      "text/plain": [
       "<list_iterator at 0x7f076ace1890>"
      ]
     },
     "execution_count": 91,
     "metadata": {},
     "output_type": "execute_result"
    }
   ],
   "source": [
    "soup.body.children"
   ]
  },
  {
   "cell_type": "code",
   "execution_count": 114,
   "metadata": {},
   "outputs": [],
   "source": [
    "meta = soup.find('div', {'class': 'geolocation-location js-hide'}).find_all('meta')"
   ]
  },
  {
   "cell_type": "code",
   "execution_count": 123,
   "metadata": {},
   "outputs": [
    {
     "data": {
      "text/plain": [
       "{'property': 'latitude', 'content': '34.326941420035'}"
      ]
     },
     "execution_count": 123,
     "metadata": {},
     "output_type": "execute_result"
    }
   ],
   "source": [
    "meta[0].attrs"
   ]
  },
  {
   "cell_type": "code",
   "execution_count": 118,
   "metadata": {},
   "outputs": [
    {
     "name": "stdout",
     "output_type": "stream",
     "text": [
      "latitude: 34.326941420035\n",
      "longitude: -119.10751861418\n"
     ]
    }
   ],
   "source": [
    "for i in meta:\n",
    "    print(\"{}: {}\".format(i['property'], float(i['content'])))"
   ]
  },
  {
   "cell_type": "code",
   "execution_count": 119,
   "metadata": {},
   "outputs": [
    {
     "data": {
      "text/plain": [
       "['latitude: 34.326941420035', 'longitude: -119.10751861418']"
      ]
     },
     "execution_count": 119,
     "metadata": {},
     "output_type": "execute_result"
    }
   ],
   "source": [
    "[\"{}: {}\".format(i['property'], float(i['content'])) for i in meta]"
   ]
  },
  {
   "cell_type": "code",
   "execution_count": 102,
   "metadata": {},
   "outputs": [
    {
     "data": {
      "text/plain": [
       "bs4.element.Tag"
      ]
     },
     "execution_count": 102,
     "metadata": {},
     "output_type": "execute_result"
    }
   ],
   "source": [
    "type(div.find_all('meta')[0])"
   ]
  },
  {
   "cell_type": "code",
   "execution_count": 103,
   "metadata": {},
   "outputs": [
    {
     "data": {
      "text/plain": [
       "{'property': 'latitude', 'content': '34.326941420035'}"
      ]
     },
     "execution_count": 103,
     "metadata": {},
     "output_type": "execute_result"
    }
   ],
   "source": [
    "div.find_all('meta')[0].attrs"
   ]
  },
  {
   "cell_type": "code",
   "execution_count": 104,
   "metadata": {},
   "outputs": [
    {
     "data": {
      "text/plain": [
       "{'property': 'longitude', 'content': '-119.10751861418'}"
      ]
     },
     "execution_count": 104,
     "metadata": {},
     "output_type": "execute_result"
    }
   ],
   "source": [
    "div.find_all('meta')[1].attrs"
   ]
  },
  {
   "cell_type": "code",
   "execution_count": 109,
   "metadata": {},
   "outputs": [
    {
     "data": {
      "text/plain": [
       "'longitude'"
      ]
     },
     "execution_count": 109,
     "metadata": {},
     "output_type": "execute_result"
    }
   ],
   "source": [
    "div.find_all('meta')[1]['property']"
   ]
  },
  {
   "cell_type": "code",
   "execution_count": 111,
   "metadata": {},
   "outputs": [
    {
     "data": {
      "text/plain": [
       "-119.10751861418"
      ]
     },
     "execution_count": 111,
     "metadata": {},
     "output_type": "execute_result"
    }
   ],
   "source": [
    "float(div.find_all('meta')[1]['content'])"
   ]
  },
  {
   "cell_type": "code",
   "execution_count": 108,
   "metadata": {},
   "outputs": [
    {
     "data": {
      "text/plain": [
       "5.0"
      ]
     },
     "execution_count": 108,
     "metadata": {},
     "output_type": "execute_result"
    }
   ],
   "source": [
    "300/60"
   ]
  },
  {
   "cell_type": "code",
   "execution_count": null,
   "metadata": {},
   "outputs": [],
   "source": []
  }
 ],
 "metadata": {
  "kernelspec": {
   "display_name": "inaturalist",
   "language": "python",
   "name": "inaturalist"
  },
  "language_info": {
   "codemirror_mode": {
    "name": "ipython",
    "version": 3
   },
   "file_extension": ".py",
   "mimetype": "text/x-python",
   "name": "python",
   "nbconvert_exporter": "python",
   "pygments_lexer": "ipython3",
   "version": "3.7.4"
  }
 },
 "nbformat": 4,
 "nbformat_minor": 4
}

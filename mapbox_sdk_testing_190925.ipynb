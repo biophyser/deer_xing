{
 "cells": [
  {
   "cell_type": "markdown",
   "metadata": {},
   "source": [
    "# Top\n",
    "# Mapbox API"
   ]
  },
  {
   "cell_type": "code",
   "execution_count": 1,
   "metadata": {},
   "outputs": [],
   "source": [
    "import os \n",
    "import mapbox\n",
    "from shapely.geometry import LineString, Point"
   ]
  },
  {
   "cell_type": "markdown",
   "metadata": {},
   "source": [
    "**I should rename my environment variable to `MAPBOX_ACCESS_TOKEN` then I think it will load automagically...maybe.**"
   ]
  },
  {
   "cell_type": "code",
   "execution_count": 2,
   "metadata": {},
   "outputs": [],
   "source": [
    "key = 'pk.eyJ1IjoiZGF0YXNsZXV0aCIsImEiOiJjazB0em1tbGUwaXdnM21yenJjdTJybm52In0.qm4lOhweUJZuaxgEl6lEwA'"
   ]
  },
  {
   "cell_type": "markdown",
   "metadata": {},
   "source": [
    "# Directions API\n",
    "Look [here](https://github.com/mapbox/mapbox-sdk-py/blob/master/docs/directions.md#directions) now."
   ]
  },
  {
   "cell_type": "code",
   "execution_count": 3,
   "metadata": {},
   "outputs": [],
   "source": [
    "directions = mapbox.Directions()\n",
    "directions.session.params['access_token'] = key"
   ]
  },
  {
   "cell_type": "code",
   "execution_count": null,
   "metadata": {},
   "outputs": [],
   "source": []
  },
  {
   "cell_type": "markdown",
   "metadata": {},
   "source": [
    "For the directions API you need the `geometry` key to be filled out but not the properties key. So to get a full \"search for this place name and give me directions\" I'll need to also use the geolocating sdk."
   ]
  },
  {
   "cell_type": "code",
   "execution_count": 4,
   "metadata": {},
   "outputs": [],
   "source": [
    "origin = {\n",
    "    'type': 'Feature',\n",
    "    'properties': {'name': 'Portland, OR'},\n",
    "    'geometry': {\n",
    "        'type': 'Point',\n",
    "        'coordinates': [-122.7282, 45.5801]\n",
    "    }\n",
    "}\n",
    "\n",
    "destination = {\n",
    "    'type': 'Feature',\n",
    "    'geometry': {\n",
    "        'type': 'Point',\n",
    "        'coordinates': [-121.3153, 44.0582]\n",
    "    }\n",
    "}"
   ]
  },
  {
   "cell_type": "code",
   "execution_count": 5,
   "metadata": {},
   "outputs": [],
   "source": [
    "response = directions.directions([origin, destination], 'mapbox/driving')"
   ]
  },
  {
   "cell_type": "code",
   "execution_count": 6,
   "metadata": {},
   "outputs": [
    {
     "data": {
      "text/plain": [
       "200"
      ]
     },
     "execution_count": 6,
     "metadata": {},
     "output_type": "execute_result"
    }
   ],
   "source": [
    "response.status_code"
   ]
  },
  {
   "cell_type": "code",
   "execution_count": 7,
   "metadata": {},
   "outputs": [
    {
     "data": {
      "text/plain": [
       "{'Content-Type': 'application/json; charset=utf-8', 'Content-Length': '662', 'Connection': 'keep-alive', 'Date': 'Fri, 27 Sep 2019 09:51:42 GMT', 'Access-Control-Allow-Origin': '*', 'x-mapbox-request-id': 'lNh40VqQPkKNwYpCt5RqZvlDN_T9vQBc-JNPLO-Uwg6oMU2XAbij_A==', 'Cache-Control': 'private, no-cache, no-store, must-revalidate', 'Expires': '-1', 'Pragma': 'no-cache', 'X-Rate-Limit-Limit': '300', 'X-Rate-Limit-Interval': '60', 'X-Rate-Limit-Reset': '1569577962', 'X-Rate-Limit-Remaining': '299', 'Vary': 'Accept-Encoding', 'X-Cache': 'Miss from cloudfront', 'Via': '1.1 2e20768704c71ff3ce2e677251d27f3c.cloudfront.net (CloudFront)', 'X-Amz-Cf-Pop': 'SEA19-C1', 'X-Amz-Cf-Id': '5Dq3_I9iUexoNo_N31qfnwbPEd_7uCnNmT0MAAIShjtjzt_ECWIVzw=='}"
      ]
     },
     "execution_count": 7,
     "metadata": {},
     "output_type": "execute_result"
    }
   ],
   "source": [
    "response.headers"
   ]
  },
  {
   "cell_type": "code",
   "execution_count": 8,
   "metadata": {},
   "outputs": [
    {
     "data": {
      "text/plain": [
       "{'type': 'FeatureCollection',\n",
       " 'features': [{'type': 'Feature',\n",
       "   'geometry': {'type': 'LineString',\n",
       "    'coordinates': [(-122.72833, 45.57993),\n",
       "     (-122.72798, 45.5798),\n",
       "     (-122.72771, 45.58016),\n",
       "     (-122.72621, 45.57961),\n",
       "     (-122.72406, 45.58247),\n",
       "     (-122.56561, 45.5615),\n",
       "     (-122.56663, 45.55831),\n",
       "     (-122.56411, 45.55143),\n",
       "     (-122.54908, 45.5474),\n",
       "     (-122.42422, 45.54006),\n",
       "     (-122.41838, 45.53942),\n",
       "     (-122.41303, 45.5297),\n",
       "     (-122.41327, 45.52431),\n",
       "     (-122.41395, 45.5017),\n",
       "     (-122.40648, 45.49445),\n",
       "     (-122.40572, 45.4937),\n",
       "     (-122.4049, 45.49284),\n",
       "     (-122.33745, 45.42852),\n",
       "     (-122.22181, 45.37589),\n",
       "     (-122.04749, 45.37969),\n",
       "     (-121.8712, 45.30526),\n",
       "     (-121.73456, 45.30039),\n",
       "     (-121.66229, 45.15901),\n",
       "     (-121.55877, 45.1071),\n",
       "     (-121.51365, 45.05603),\n",
       "     (-121.42422, 44.86716),\n",
       "     (-121.32095, 44.78582),\n",
       "     (-121.22736, 44.76025),\n",
       "     (-121.23871, 44.73099),\n",
       "     (-121.17692, 44.72112),\n",
       "     (-121.1297, 44.63882),\n",
       "     (-121.19955, 44.45997),\n",
       "     (-121.16933, 44.27436),\n",
       "     (-121.25844, 44.16117),\n",
       "     (-121.30724, 44.05795),\n",
       "     (-121.31038, 44.05794),\n",
       "     (-121.30982, 44.05593),\n",
       "     (-121.31534, 44.05817)]},\n",
       "   'properties': {'distance': 265120.5, 'duration': 12959}}]}"
      ]
     },
     "execution_count": 8,
     "metadata": {},
     "output_type": "execute_result"
    }
   ],
   "source": [
    "response.geojson()"
   ]
  },
  {
   "cell_type": "markdown",
   "metadata": {},
   "source": [
    "# Geolocation API\n",
    "[Check it out](https://github.com/mapbox/mapbox-sdk-py/blob/master/docs/geocoding.md#geocoding) (not with Steve Brule)."
   ]
  },
  {
   "cell_type": "code",
   "execution_count": 9,
   "metadata": {},
   "outputs": [],
   "source": [
    "geocoder = mapbox.Geocoder()\n",
    "geocoder.session.params['access_token'] = key"
   ]
  },
  {
   "cell_type": "code",
   "execution_count": 10,
   "metadata": {},
   "outputs": [],
   "source": [
    "response = geocoder.forward('Chester, NJ')"
   ]
  },
  {
   "cell_type": "code",
   "execution_count": 11,
   "metadata": {},
   "outputs": [
    {
     "data": {
      "text/plain": [
       "<Response [200]>"
      ]
     },
     "execution_count": 11,
     "metadata": {},
     "output_type": "execute_result"
    }
   ],
   "source": [
    "response"
   ]
  },
  {
   "cell_type": "code",
   "execution_count": 12,
   "metadata": {},
   "outputs": [],
   "source": [
    "collection = response.json()"
   ]
  },
  {
   "cell_type": "code",
   "execution_count": 13,
   "metadata": {},
   "outputs": [
    {
     "data": {
      "text/plain": [
       "{'type': 'FeatureCollection',\n",
       " 'query': ['chester', 'nj'],\n",
       " 'features': [{'id': 'place.19265010375375880',\n",
       "   'type': 'Feature',\n",
       "   'place_type': ['place'],\n",
       "   'relevance': 1,\n",
       "   'properties': {'wikidata': 'Q3014459'},\n",
       "   'text': 'Chester',\n",
       "   'place_name': 'Chester, New Jersey, United States',\n",
       "   'bbox': [-74.7406370098727,\n",
       "    40.7194501349244,\n",
       "    -74.6237060993922,\n",
       "    40.8336099261131],\n",
       "   'center': [-74.6968, 40.7843],\n",
       "   'geometry': {'type': 'Point', 'coordinates': [-74.6968, 40.7843]},\n",
       "   'context': [{'id': 'region.14919479731700330',\n",
       "     'short_code': 'US-NJ',\n",
       "     'wikidata': 'Q1408',\n",
       "     'text': 'New Jersey'},\n",
       "    {'id': 'country.9053006287256050',\n",
       "     'short_code': 'us',\n",
       "     'wikidata': 'Q30',\n",
       "     'text': 'United States'}]},\n",
       "  {'id': 'poi.2181843390229',\n",
       "   'type': 'Feature',\n",
       "   'place_type': ['poi'],\n",
       "   'relevance': 0.88,\n",
       "   'properties': {'landmark': True,\n",
       "    'category': 'hotel, motel, tourism, lodging'},\n",
       "   'text': 'Chester Hotel',\n",
       "   'place_name': 'Chester Hotel, Heidelberg, Baden-Württemberg 69123, Germany',\n",
       "   'matching_place_name': 'Chester Hotel, Heidelberg, Baden-Württemberg 69123, Njemačka',\n",
       "   'center': [8.654933, 49.412555],\n",
       "   'geometry': {'coordinates': [8.654933, 49.412555], 'type': 'Point'},\n",
       "   'context': [{'id': 'postcode.13858035849199270', 'text': '69123'},\n",
       "    {'id': 'place.16724611746877140',\n",
       "     'wikidata': 'Q2966',\n",
       "     'text': 'Heidelberg'},\n",
       "    {'id': 'region.10788925313210430',\n",
       "     'short_code': 'DE-BW',\n",
       "     'wikidata': 'Q985',\n",
       "     'text': 'Baden-Württemberg'},\n",
       "    {'id': 'country.10743216036480410',\n",
       "     'short_code': 'de',\n",
       "     'wikidata': 'Q183',\n",
       "     'text': 'Germany'}]},\n",
       "  {'id': 'region.14919479731700330',\n",
       "   'type': 'Feature',\n",
       "   'place_type': ['region'],\n",
       "   'relevance': 0.5,\n",
       "   'properties': {'short_code': 'US-NJ', 'wikidata': 'Q1408'},\n",
       "   'text': 'New Jersey',\n",
       "   'place_name': 'New Jersey, United States',\n",
       "   'bbox': [-75.563586, 38.743995, -73.785608, 41.35736],\n",
       "   'center': [-74.5, 40],\n",
       "   'geometry': {'type': 'Point', 'coordinates': [-74.5, 40]},\n",
       "   'context': [{'id': 'country.9053006287256050',\n",
       "     'short_code': 'us',\n",
       "     'wikidata': 'Q30',\n",
       "     'text': 'United States'}]},\n",
       "  {'id': 'region.8332325568070960',\n",
       "   'type': 'Feature',\n",
       "   'place_type': ['region'],\n",
       "   'relevance': 0.5,\n",
       "   'properties': {'short_code': 'SA-10', 'wikidata': 'Q464718'},\n",
       "   'text': 'Najran',\n",
       "   'place_name': 'Najran, Saudi Arabia',\n",
       "   'matching_text': 'NJ',\n",
       "   'matching_place_name': 'NJ, Saudi Arabia',\n",
       "   'bbox': [43.638195, 16.94305, 47.745127, 19.531263],\n",
       "   'center': [44.13222, 17.49167],\n",
       "   'geometry': {'type': 'Point', 'coordinates': [44.13222, 17.49167]},\n",
       "   'context': [{'id': 'country.8186587445602250',\n",
       "     'short_code': 'sa',\n",
       "     'wikidata': 'Q851',\n",
       "     'text': 'Saudi Arabia'}]},\n",
       "  {'id': 'place.6173188805897857',\n",
       "   'type': 'Feature',\n",
       "   'place_type': ['place'],\n",
       "   'relevance': 0.5,\n",
       "   'properties': {'wikidata': 'Q170263'},\n",
       "   'text': 'Chester',\n",
       "   'place_name': 'Chester, Cheshire West And Chester, England, United Kingdom',\n",
       "   'bbox': [-3.062854, 53.048389, -2.703179, 53.308304],\n",
       "   'center': [-2.88333, 53.2],\n",
       "   'geometry': {'type': 'Point', 'coordinates': [-2.88333, 53.2]},\n",
       "   'context': [{'id': 'district.13148496487903610',\n",
       "     'wikidata': 'Q1070591',\n",
       "     'text': 'Cheshire West And Chester'},\n",
       "    {'id': 'region.11773787231453920',\n",
       "     'short_code': 'GB-ENG',\n",
       "     'wikidata': 'Q21',\n",
       "     'text': 'England'},\n",
       "    {'id': 'country.8605848117814600',\n",
       "     'short_code': 'gb',\n",
       "     'wikidata': 'Q145',\n",
       "     'text': 'United Kingdom'}]}],\n",
       " 'attribution': 'NOTICE: © 2019 Mapbox and its suppliers. All rights reserved. Use of this data is subject to the Mapbox Terms of Service (https://www.mapbox.com/about/maps/). This response and the information it contains may not be retained. POI(s) provided by Foursquare.'}"
      ]
     },
     "execution_count": 13,
     "metadata": {},
     "output_type": "execute_result"
    }
   ],
   "source": [
    "collection"
   ]
  },
  {
   "cell_type": "markdown",
   "metadata": {},
   "source": [
    "# Combining Geolocation and Directions\n",
    "**ToDo:**\n",
    "- Restrict the number of search results returned or restrict to a bounding box of VT only"
   ]
  },
  {
   "cell_type": "code",
   "execution_count": 14,
   "metadata": {},
   "outputs": [],
   "source": [
    "startname = 'Middlebury, CT'\n",
    "endname = 'Randolph, CT'"
   ]
  },
  {
   "cell_type": "code",
   "execution_count": null,
   "metadata": {},
   "outputs": [],
   "source": []
  },
  {
   "cell_type": "code",
   "execution_count": 15,
   "metadata": {},
   "outputs": [],
   "source": [
    "key = 'pk.eyJ1IjoiZGF0YXNsZXV0aCIsImEiOiJjazB0em1tbGUwaXdnM21yenJjdTJybm52In0.qm4lOhweUJZuaxgEl6lEwA'\n",
    "geocoder = mapbox.Geocoder()\n",
    "geocoder.session.params['access_token'] = key\n",
    "directions = mapbox.Directions()\n",
    "directions.session.params['access_token'] = key\n",
    "\n",
    "startresponse = geocoder.forward(startname)\n",
    "endresponse = geocoder.forward(endname)\n",
    "origin = startresponse.geojson()['features'][0]\n",
    "destination = endresponse.geojson()['features'][0]\n",
    "response = directions.directions([origin, destination], 'mapbox/driving')"
   ]
  },
  {
   "cell_type": "code",
   "execution_count": 25,
   "metadata": {},
   "outputs": [
    {
     "data": {
      "text/plain": [
       "{'routes': [{'weight_name': 'routability',\n",
       "   'legs': [{'summary': 'I 84 East, I 91 North',\n",
       "     'steps': [],\n",
       "     'distance': 339813.8,\n",
       "     'duration': 12103,\n",
       "     'weight': 12103}],\n",
       "   'geometry': 'k{m|F~vi}L\\\\oAi@lKcmAcyGuPgy@rAclXkuWc{TwcIuxF_tHcoUeZ{y@{gSsf@_rGi`IkjN_~CsuPwN}mKj{KsdV}jG}~LndFgmm@u_Cg~QutNa|GtpDa{Y``AcpI}fI{jGdEg|FgyJ{oQayA_pI|aCuo]gfIgzh@ovA}iJe`DusBemFeiGoe@dCuAemFjwJ_zSrxHkB|dGcfFtoF`~@diEoiCdrDyxSlhEiYaJ|WomA',\n",
       "   'distance': 339813.8,\n",
       "   'duration': 12103,\n",
       "   'weight': 12103}],\n",
       " 'waypoints': [{'distance': 18.731,\n",
       "   'name': 'Middlebury Store Road',\n",
       "   'location': [-73.12767, 41.52774]},\n",
       "  {'distance': 6.429, 'name': 'VT 66', 'location': [-72.607628, 43.940845]}],\n",
       " 'code': 'Ok',\n",
       " 'uuid': 'cr1zIopHMxPeZ7_AxMn0a_iD1__VVICPkxAmCCY_pvysqKeyyRkUcg=='}"
      ]
     },
     "execution_count": 25,
     "metadata": {},
     "output_type": "execute_result"
    }
   ],
   "source": [
    "response.json()"
   ]
  },
  {
   "cell_type": "code",
   "execution_count": 20,
   "metadata": {},
   "outputs": [],
   "source": [
    "test_route = LineString(coords)"
   ]
  },
  {
   "cell_type": "code",
   "execution_count": 21,
   "metadata": {},
   "outputs": [
    {
     "data": {
      "image/svg+xml": [
       "<svg xmlns=\"http://www.w3.org/2000/svg\" xmlns:xlink=\"http://www.w3.org/1999/xlink\" width=\"100.0\" height=\"100.0\" viewBox=\"-73.22595960000001 41.4309004 0.9847592000000134 2.610619200000002\" preserveAspectRatio=\"xMinYMin meet\"><g transform=\"matrix(1,0,0,-1,0,85.47242)\"><polyline fill=\"none\" stroke=\"#66cc99\" stroke-width=\"0.05221238400000004\" points=\"-73.12768,41.52774 -73.12728,41.52759 -73.12927,41.5278 -73.08413,41.5403 -73.07481,41.54313 -72.94471,41.54271 -72.83269,41.66917 -72.79274,41.72113 -72.67752,41.77057 -72.6681,41.77492 -72.66176,41.87874 -72.61035,41.92274 -72.58491,42.00136 -72.58239,42.09202 -72.64837,42.15585 -72.6055,42.27451 -72.64222,42.34618 -72.62163,42.58398 -72.54136,42.68114 -72.56979,42.72675 -72.5802,42.86436 -72.52773,42.9183 -72.52872,42.96116 -72.4682,43.00168 -72.45379,43.09654 -72.47474,43.15046 -72.42238,43.30673 -72.40838,43.52101 -72.38259,43.57908 -72.34448,43.59775 -72.33832,43.64034 -72.33789,43.63967 -72.39811,43.67778 -72.44829,43.7845 -72.4902,43.78504 -72.52871,43.82202 -72.56106,43.81193 -72.58973,43.83409 -72.62196,43.94062 -72.62019,43.94483 -72.60763,43.94084\" opacity=\"0.8\" /></g></svg>"
      ],
      "text/plain": [
       "<shapely.geometry.linestring.LineString at 0x7f8f2534d650>"
      ]
     },
     "execution_count": 21,
     "metadata": {},
     "output_type": "execute_result"
    }
   ],
   "source": [
    "test_route"
   ]
  },
  {
   "cell_type": "code",
   "execution_count": 22,
   "metadata": {},
   "outputs": [
    {
     "data": {
      "text/plain": [
       "3.1170872202790854"
      ]
     },
     "execution_count": 22,
     "metadata": {},
     "output_type": "execute_result"
    }
   ],
   "source": [
    "test_route.length"
   ]
  },
  {
   "cell_type": "code",
   "execution_count": 27,
   "metadata": {},
   "outputs": [
    {
     "data": {
      "text/plain": [
       "0.07381197609536122"
      ]
     },
     "execution_count": 27,
     "metadata": {},
     "output_type": "execute_result"
    }
   ],
   "source": [
    "test_route.length / (21.1150506*2)"
   ]
  },
  {
   "cell_type": "code",
   "execution_count": null,
   "metadata": {},
   "outputs": [],
   "source": []
  },
  {
   "cell_type": "code",
   "execution_count": null,
   "metadata": {},
   "outputs": [],
   "source": []
  },
  {
   "cell_type": "code",
   "execution_count": null,
   "metadata": {},
   "outputs": [],
   "source": []
  },
  {
   "cell_type": "code",
   "execution_count": 18,
   "metadata": {},
   "outputs": [
    {
     "data": {
      "text/plain": [
       "[(-73.12768, 41.52774),\n",
       " (-73.12728, 41.52759),\n",
       " (-73.12927, 41.5278),\n",
       " (-73.08413, 41.5403),\n",
       " (-73.07481, 41.54313),\n",
       " (-72.94471, 41.54271),\n",
       " (-72.83269, 41.66917),\n",
       " (-72.79274, 41.72113),\n",
       " (-72.67752, 41.77057),\n",
       " (-72.6681, 41.77492),\n",
       " (-72.66176, 41.87874),\n",
       " (-72.61035, 41.92274),\n",
       " (-72.58491, 42.00136),\n",
       " (-72.58239, 42.09202),\n",
       " (-72.64837, 42.15585),\n",
       " (-72.6055, 42.27451),\n",
       " (-72.64222, 42.34618),\n",
       " (-72.62163, 42.58398),\n",
       " (-72.54136, 42.68114),\n",
       " (-72.56979, 42.72675),\n",
       " (-72.5802, 42.86436),\n",
       " (-72.52773, 42.9183),\n",
       " (-72.52872, 42.96116),\n",
       " (-72.4682, 43.00168),\n",
       " (-72.45379, 43.09654),\n",
       " (-72.47474, 43.15046),\n",
       " (-72.42238, 43.30673),\n",
       " (-72.40838, 43.52101),\n",
       " (-72.38259, 43.57908),\n",
       " (-72.34448, 43.59775),\n",
       " (-72.33832, 43.64034),\n",
       " (-72.33789, 43.63967),\n",
       " (-72.39811, 43.67778),\n",
       " (-72.44829, 43.7845),\n",
       " (-72.4902, 43.78504),\n",
       " (-72.52871, 43.82202),\n",
       " (-72.56106, 43.81193),\n",
       " (-72.58973, 43.83409),\n",
       " (-72.62196, 43.94062),\n",
       " (-72.62019, 43.94483),\n",
       " (-72.60763, 43.94084)]"
      ]
     },
     "execution_count": 18,
     "metadata": {},
     "output_type": "execute_result"
    }
   ],
   "source": [
    "coords = response.geojson()['features'][0]['geometry']['coordinates']\n",
    "'['+','.join([\"[{},{}]\".format(lat, lon) for lat, lon in coords])+']'\n",
    "coords"
   ]
  },
  {
   "cell_type": "code",
   "execution_count": 16,
   "metadata": {},
   "outputs": [
    {
     "data": {
      "text/plain": [
       "'[[-73.12768,41.52774],[-73.12728,41.52759],[-73.12927,41.5278],[-73.08413,41.5403],[-73.07481,41.54313],[-72.94471,41.54271],[-72.83269,41.66917],[-72.79274,41.72113],[-72.67752,41.77057],[-72.6681,41.77492],[-72.66176,41.87874],[-72.61035,41.92274],[-72.58491,42.00136],[-72.58239,42.09202],[-72.64837,42.15585],[-72.6055,42.27451],[-72.64222,42.34618],[-72.62163,42.58398],[-72.54136,42.68114],[-72.56979,42.72675],[-72.5802,42.86436],[-72.52773,42.9183],[-72.52872,42.96116],[-72.4682,43.00168],[-72.45379,43.09654],[-72.47474,43.15046],[-72.42238,43.30673],[-72.40838,43.52101],[-72.38259,43.57908],[-72.34448,43.59775],[-72.33832,43.64034],[-72.33789,43.63967],[-72.39811,43.67778],[-72.44829,43.7845],[-72.4902,43.78504],[-72.52871,43.82202],[-72.56106,43.81193],[-72.58973,43.83409],[-72.62196,43.94062],[-72.62019,43.94483],[-72.60763,43.94084]]'"
      ]
     },
     "execution_count": 16,
     "metadata": {},
     "output_type": "execute_result"
    }
   ],
   "source": [
    "coords = response.geojson()['features'][0]['geometry']['coordinates']\n",
    "'['+','.join([\"[{},{}]\".format(lat, lon) for lat, lon in coords])+']'"
   ]
  },
  {
   "cell_type": "code",
   "execution_count": 57,
   "metadata": {},
   "outputs": [
    {
     "data": {
      "text/plain": [
       "{'type': 'FeatureCollection',\n",
       " 'features': [{'type': 'Feature',\n",
       "   'geometry': {'type': 'LineString',\n",
       "    'coordinates': [(-73.12768, 41.52774),\n",
       "     (-73.12728, 41.52759),\n",
       "     (-73.12927, 41.5278),\n",
       "     (-73.08413, 41.5403),\n",
       "     (-73.07481, 41.54313),\n",
       "     (-72.94471, 41.54271),\n",
       "     (-72.83269, 41.66917),\n",
       "     (-72.79274, 41.72113),\n",
       "     (-72.67752, 41.77057),\n",
       "     (-72.6681, 41.77492),\n",
       "     (-72.66176, 41.87874),\n",
       "     (-72.61035, 41.92274),\n",
       "     (-72.58491, 42.00136),\n",
       "     (-72.58239, 42.09202),\n",
       "     (-72.64837, 42.15585),\n",
       "     (-72.6055, 42.27451),\n",
       "     (-72.64222, 42.34618),\n",
       "     (-72.62163, 42.58398),\n",
       "     (-72.54136, 42.68114),\n",
       "     (-72.56979, 42.72675),\n",
       "     (-72.5802, 42.86436),\n",
       "     (-72.52773, 42.9183),\n",
       "     (-72.52872, 42.96116),\n",
       "     (-72.4682, 43.00168),\n",
       "     (-72.45379, 43.09654),\n",
       "     (-72.47474, 43.15046),\n",
       "     (-72.42238, 43.30673),\n",
       "     (-72.40838, 43.52101),\n",
       "     (-72.38259, 43.57908),\n",
       "     (-72.34448, 43.59775),\n",
       "     (-72.33832, 43.64034),\n",
       "     (-72.33789, 43.63967),\n",
       "     (-72.39811, 43.67778),\n",
       "     (-72.44829, 43.7845),\n",
       "     (-72.4902, 43.78504),\n",
       "     (-72.52871, 43.82202),\n",
       "     (-72.56106, 43.81193),\n",
       "     (-72.58973, 43.83409),\n",
       "     (-72.62196, 43.94062),\n",
       "     (-72.62019, 43.94483),\n",
       "     (-72.60763, 43.94084)]},\n",
       "   'properties': {'distance': 339813.8, 'duration': 12103}}]}"
      ]
     },
     "execution_count": 57,
     "metadata": {},
     "output_type": "execute_result"
    }
   ],
   "source": [
    "response.geojson()"
   ]
  },
  {
   "cell_type": "code",
   "execution_count": null,
   "metadata": {},
   "outputs": [],
   "source": []
  }
 ],
 "metadata": {
  "kernelspec": {
   "display_name": "inaturalist",
   "language": "python",
   "name": "inaturalist"
  },
  "language_info": {
   "codemirror_mode": {
    "name": "ipython",
    "version": 3
   },
   "file_extension": ".py",
   "mimetype": "text/x-python",
   "name": "python",
   "nbconvert_exporter": "python",
   "pygments_lexer": "ipython3",
   "version": "3.7.4"
  }
 },
 "nbformat": 4,
 "nbformat_minor": 4
}

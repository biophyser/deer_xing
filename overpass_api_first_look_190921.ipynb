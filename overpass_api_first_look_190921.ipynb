{
 "cells": [
  {
   "cell_type": "markdown",
   "metadata": {},
   "source": [
    "# Top\n",
    "Following along to the `overpass` examples [here](https://github.com/mvexel/overpass-api-python-wrapper)."
   ]
  },
  {
   "cell_type": "code",
   "execution_count": 7,
   "metadata": {},
   "outputs": [],
   "source": [
    "import overpass\n",
    "import pandas as pd\n",
    "import geopandas"
   ]
  },
  {
   "cell_type": "code",
   "execution_count": 2,
   "metadata": {},
   "outputs": [],
   "source": [
    "api = overpass.API()"
   ]
  },
  {
   "cell_type": "code",
   "execution_count": 3,
   "metadata": {},
   "outputs": [],
   "source": [
    "api = overpass.API(timeout=600)"
   ]
  },
  {
   "cell_type": "markdown",
   "metadata": {},
   "source": [
    "The string inside of the api get call is the Overpass QL language. "
   ]
  },
  {
   "cell_type": "markdown",
   "metadata": {},
   "source": [
    "# VT State Query"
   ]
  },
  {
   "cell_type": "code",
   "execution_count": 87,
   "metadata": {},
   "outputs": [],
   "source": [
    "vt_poly = [\n",
    "    [-73.4436035, 45.0657615],\n",
    "    [-71.4385986, 45.0580014],\n",
    "    [-71.5045166, 44.5004234],\n",
    "    [-71.9549561, 44.2373283],\n",
    "    [-72.4383545, 42.7026229],\n",
    "    [-73.3886719, 42.7147322],\n",
    "    [-73.5424805, 43.7036225],\n",
    "    [-73.4600830, 45.0773997]\n",
    "]"
   ]
  },
  {
   "cell_type": "code",
   "execution_count": 88,
   "metadata": {},
   "outputs": [
    {
     "name": "stdout",
     "output_type": "stream",
     "text": [
      "45.0657615 -73.4436035 45.0580014 -71.4385986 44.5004234 -71.5045166 44.2373283 -71.9549561 42.7026229 -72.4383545 42.7147322 -73.3886719 43.7036225 -73.5424805 45.0773997 -73.460083 "
     ]
    }
   ],
   "source": [
    "for i in vt_poly:\n",
    "    print(\"{} {}\".format(i[1], i[0]), end=' ')"
   ]
  },
  {
   "cell_type": "code",
   "execution_count": 89,
   "metadata": {
    "collapsed": true,
    "jupyter": {
     "outputs_hidden": true
    }
   },
   "outputs": [
    {
     "ename": "KeyboardInterrupt",
     "evalue": "",
     "output_type": "error",
     "traceback": [
      "\u001b[0;31m---------------------------------------------------------------------------\u001b[0m",
      "\u001b[0;31mKeyboardInterrupt\u001b[0m                         Traceback (most recent call last)",
      "\u001b[0;32m<ipython-input-89-351d87c9b8ce>\u001b[0m in \u001b[0;36m<module>\u001b[0;34m\u001b[0m\n\u001b[1;32m      1\u001b[0m \u001b[0mstate_query\u001b[0m \u001b[0;34m=\u001b[0m \u001b[0;34m'(nwr(poly:\"45.0657615 -73.4436035 45.0580014 -71.4385986 44.5004234 -71.5045166 44.2373283 -71.9549561 42.7026229 -72.4383545 42.7147322 -73.3886719 43.7036225 -73.5424805 45.0773997 -73.460083\");<;);'\u001b[0m\u001b[0;34m\u001b[0m\u001b[0;34m\u001b[0m\u001b[0m\n\u001b[1;32m      2\u001b[0m \u001b[0;34m\u001b[0m\u001b[0m\n\u001b[0;32m----> 3\u001b[0;31m \u001b[0mstate_response\u001b[0m \u001b[0;34m=\u001b[0m \u001b[0mapi\u001b[0m\u001b[0;34m.\u001b[0m\u001b[0mget\u001b[0m\u001b[0;34m(\u001b[0m\u001b[0mstate_query\u001b[0m\u001b[0;34m)\u001b[0m\u001b[0;34m\u001b[0m\u001b[0;34m\u001b[0m\u001b[0m\n\u001b[0m",
      "\u001b[0;32m~/.anaconda3/envs/inaturalist/lib/python3.7/site-packages/overpass/api.py\u001b[0m in \u001b[0;36mget\u001b[0;34m(self, query, responseformat, verbosity, build)\u001b[0m\n\u001b[1;32m    105\u001b[0m \u001b[0;34m\u001b[0m\u001b[0m\n\u001b[1;32m    106\u001b[0m         \u001b[0;31m# construct geojson\u001b[0m\u001b[0;34m\u001b[0m\u001b[0;34m\u001b[0m\u001b[0;34m\u001b[0m\u001b[0m\n\u001b[0;32m--> 107\u001b[0;31m         \u001b[0;32mreturn\u001b[0m \u001b[0mself\u001b[0m\u001b[0;34m.\u001b[0m\u001b[0m_as_geojson\u001b[0m\u001b[0;34m(\u001b[0m\u001b[0mresponse\u001b[0m\u001b[0;34m[\u001b[0m\u001b[0;34m\"elements\"\u001b[0m\u001b[0;34m]\u001b[0m\u001b[0;34m)\u001b[0m\u001b[0;34m\u001b[0m\u001b[0;34m\u001b[0m\u001b[0m\n\u001b[0m\u001b[1;32m    108\u001b[0m \u001b[0;34m\u001b[0m\u001b[0m\n\u001b[1;32m    109\u001b[0m     \u001b[0;32mdef\u001b[0m \u001b[0msearch\u001b[0m\u001b[0;34m(\u001b[0m\u001b[0mself\u001b[0m\u001b[0;34m,\u001b[0m \u001b[0mfeature_type\u001b[0m\u001b[0;34m,\u001b[0m \u001b[0mregex\u001b[0m\u001b[0;34m=\u001b[0m\u001b[0;32mFalse\u001b[0m\u001b[0;34m)\u001b[0m\u001b[0;34m:\u001b[0m\u001b[0;34m\u001b[0m\u001b[0;34m\u001b[0m\u001b[0m\n",
      "\u001b[0;32m~/.anaconda3/envs/inaturalist/lib/python3.7/site-packages/overpass/api.py\u001b[0m in \u001b[0;36m_as_geojson\u001b[0;34m(self, elements)\u001b[0m\n\u001b[1;32m    183\u001b[0m \u001b[0;34m\u001b[0m\u001b[0m\n\u001b[1;32m    184\u001b[0m             feature = geojson.Feature(\n\u001b[0;32m--> 185\u001b[0;31m                 \u001b[0mid\u001b[0m\u001b[0;34m=\u001b[0m\u001b[0melem\u001b[0m\u001b[0;34m[\u001b[0m\u001b[0;34m\"id\"\u001b[0m\u001b[0;34m]\u001b[0m\u001b[0;34m,\u001b[0m \u001b[0mgeometry\u001b[0m\u001b[0;34m=\u001b[0m\u001b[0mgeometry\u001b[0m\u001b[0;34m,\u001b[0m \u001b[0mproperties\u001b[0m\u001b[0;34m=\u001b[0m\u001b[0melem\u001b[0m\u001b[0;34m.\u001b[0m\u001b[0mget\u001b[0m\u001b[0;34m(\u001b[0m\u001b[0;34m\"tags\"\u001b[0m\u001b[0;34m)\u001b[0m\u001b[0;34m\u001b[0m\u001b[0;34m\u001b[0m\u001b[0m\n\u001b[0m\u001b[1;32m    186\u001b[0m             )\n\u001b[1;32m    187\u001b[0m             \u001b[0mfeatures\u001b[0m\u001b[0;34m.\u001b[0m\u001b[0mappend\u001b[0m\u001b[0;34m(\u001b[0m\u001b[0mfeature\u001b[0m\u001b[0;34m)\u001b[0m\u001b[0;34m\u001b[0m\u001b[0;34m\u001b[0m\u001b[0m\n",
      "\u001b[0;32m~/.anaconda3/envs/inaturalist/lib/python3.7/site-packages/geojson/feature.py\u001b[0m in \u001b[0;36m__init__\u001b[0;34m(self, id, geometry, properties, **extra)\u001b[0m\n\u001b[1;32m     24\u001b[0m         \u001b[0;34m:\u001b[0m\u001b[0mrtype\u001b[0m\u001b[0;34m:\u001b[0m \u001b[0mFeature\u001b[0m\u001b[0;34m\u001b[0m\u001b[0;34m\u001b[0m\u001b[0m\n\u001b[1;32m     25\u001b[0m         \"\"\"\n\u001b[0;32m---> 26\u001b[0;31m         \u001b[0msuper\u001b[0m\u001b[0;34m(\u001b[0m\u001b[0mFeature\u001b[0m\u001b[0;34m,\u001b[0m \u001b[0mself\u001b[0m\u001b[0;34m)\u001b[0m\u001b[0;34m.\u001b[0m\u001b[0m__init__\u001b[0m\u001b[0;34m(\u001b[0m\u001b[0;34m**\u001b[0m\u001b[0mextra\u001b[0m\u001b[0;34m)\u001b[0m\u001b[0;34m\u001b[0m\u001b[0;34m\u001b[0m\u001b[0m\n\u001b[0m\u001b[1;32m     27\u001b[0m         \u001b[0;32mif\u001b[0m \u001b[0mid\u001b[0m \u001b[0;32mis\u001b[0m \u001b[0;32mnot\u001b[0m \u001b[0;32mNone\u001b[0m\u001b[0;34m:\u001b[0m\u001b[0;34m\u001b[0m\u001b[0;34m\u001b[0m\u001b[0m\n\u001b[1;32m     28\u001b[0m             \u001b[0mself\u001b[0m\u001b[0;34m[\u001b[0m\u001b[0;34m\"id\"\u001b[0m\u001b[0;34m]\u001b[0m \u001b[0;34m=\u001b[0m \u001b[0mid\u001b[0m\u001b[0;34m\u001b[0m\u001b[0;34m\u001b[0m\u001b[0m\n",
      "\u001b[0;32m~/.anaconda3/envs/inaturalist/lib/python3.7/site-packages/geojson/base.py\u001b[0m in \u001b[0;36m__init__\u001b[0;34m(self, iterable, **extra)\u001b[0m\n\u001b[1;32m     20\u001b[0m         \u001b[0;34m:\u001b[0m\u001b[0mrtype\u001b[0m\u001b[0;34m:\u001b[0m \u001b[0mGeoJSON\u001b[0m\u001b[0;34m\u001b[0m\u001b[0;34m\u001b[0m\u001b[0m\n\u001b[1;32m     21\u001b[0m         \"\"\"\n\u001b[0;32m---> 22\u001b[0;31m         \u001b[0msuper\u001b[0m\u001b[0;34m(\u001b[0m\u001b[0mGeoJSON\u001b[0m\u001b[0;34m,\u001b[0m \u001b[0mself\u001b[0m\u001b[0;34m)\u001b[0m\u001b[0;34m.\u001b[0m\u001b[0m__init__\u001b[0m\u001b[0;34m(\u001b[0m\u001b[0miterable\u001b[0m\u001b[0;34m)\u001b[0m\u001b[0;34m\u001b[0m\u001b[0;34m\u001b[0m\u001b[0m\n\u001b[0m\u001b[1;32m     23\u001b[0m         \u001b[0mself\u001b[0m\u001b[0;34m[\u001b[0m\u001b[0;34m\"type\"\u001b[0m\u001b[0;34m]\u001b[0m \u001b[0;34m=\u001b[0m \u001b[0mgetattr\u001b[0m\u001b[0;34m(\u001b[0m\u001b[0mself\u001b[0m\u001b[0;34m,\u001b[0m \u001b[0;34m\"type\"\u001b[0m\u001b[0;34m,\u001b[0m \u001b[0mtype\u001b[0m\u001b[0;34m(\u001b[0m\u001b[0mself\u001b[0m\u001b[0;34m)\u001b[0m\u001b[0;34m.\u001b[0m\u001b[0m__name__\u001b[0m\u001b[0;34m)\u001b[0m\u001b[0;34m\u001b[0m\u001b[0;34m\u001b[0m\u001b[0m\n\u001b[1;32m     24\u001b[0m         \u001b[0mself\u001b[0m\u001b[0;34m.\u001b[0m\u001b[0mupdate\u001b[0m\u001b[0;34m(\u001b[0m\u001b[0mextra\u001b[0m\u001b[0;34m)\u001b[0m\u001b[0;34m\u001b[0m\u001b[0;34m\u001b[0m\u001b[0m\n",
      "\u001b[0;31mKeyboardInterrupt\u001b[0m: "
     ]
    }
   ],
   "source": [
    "state_query = '(nwr(poly:\"45.0657615 -73.4436035 45.0580014 -71.4385986 44.5004234 -71.5045166 44.2373283 -71.9549561 42.7026229 -72.4383545 42.7147322 -73.3886719 43.7036225 -73.5424805 45.0773997 -73.460083\");<;);'\n",
    "\n",
    "state_response = api.get(state_query)"
   ]
  },
  {
   "cell_type": "markdown",
   "metadata": {},
   "source": [
    "# Single road query"
   ]
  },
  {
   "cell_type": "code",
   "execution_count": 53,
   "metadata": {},
   "outputs": [],
   "source": [
    "road_query = 'way[highway](around:5,44.15349716748267, -72.49253549908933);(._;>;);out meta;'\n",
    "\n",
    "road_response = api.get(road_query)"
   ]
  },
  {
   "cell_type": "code",
   "execution_count": 54,
   "metadata": {
    "collapsed": true,
    "jupyter": {
     "outputs_hidden": true
    }
   },
   "outputs": [
    {
     "data": {
      "text/plain": [
       "{\"features\": [{\"geometry\": {\"coordinates\": [-72.49338, 44.155108], \"type\": \"Point\"}, \"id\": 204888546, \"properties\": {}, \"type\": \"Feature\"}, {\"geometry\": {\"coordinates\": [-72.492243, 44.152308], \"type\": \"Point\"}, \"id\": 204891536, \"properties\": {}, \"type\": \"Feature\"}, {\"geometry\": {\"coordinates\": [-72.492456, 44.153196], \"type\": \"Point\"}, \"id\": 204915783, \"properties\": {}, \"type\": \"Feature\"}, {\"geometry\": {\"coordinates\": [-72.492262, 44.151591], \"type\": \"Point\"}, \"id\": 204928320, \"properties\": {}, \"type\": \"Feature\"}, {\"geometry\": {\"coordinates\": [-72.492229, 44.152213], \"type\": \"Point\"}, \"id\": 205039958, \"properties\": {}, \"type\": \"Feature\"}, {\"geometry\": {\"coordinates\": [-72.493616, 44.15602], \"type\": \"Point\"}, \"id\": 205102289, \"properties\": {}, \"type\": \"Feature\"}, {\"geometry\": {\"coordinates\": [-72.492238, 44.151735], \"type\": \"Point\"}, \"id\": 205102377, \"properties\": {}, \"type\": \"Feature\"}, {\"geometry\": {\"coordinates\": [-72.492228, 44.152012], \"type\": \"Point\"}, \"id\": 205102378, \"properties\": {}, \"type\": \"Feature\"}, {\"geometry\": {\"coordinates\": [-72.4923, 44.152636], \"type\": \"Point\"}, \"id\": 205102379, \"properties\": {}, \"type\": \"Feature\"}, {\"geometry\": {\"coordinates\": [-72.492331, 44.152774], \"type\": \"Point\"}, \"id\": 205102380, \"properties\": {}, \"type\": \"Feature\"}, {\"geometry\": {\"coordinates\": [-72.492535, 44.153463], \"type\": \"Point\"}, \"id\": 205102381, \"properties\": {}, \"type\": \"Feature\"}, {\"geometry\": {\"coordinates\": [-72.492729, 44.154003], \"type\": \"Point\"}, \"id\": 205102382, \"properties\": {}, \"type\": \"Feature\"}, {\"geometry\": {\"coordinates\": [-72.492807, 44.154199], \"type\": \"Point\"}, \"id\": 205102383, \"properties\": {}, \"type\": \"Feature\"}, {\"geometry\": {\"coordinates\": [-72.492896, 44.154391], \"type\": \"Point\"}, \"id\": 205102384, \"properties\": {}, \"type\": \"Feature\"}, {\"geometry\": {\"coordinates\": [-72.492999, 44.154582], \"type\": \"Point\"}, \"id\": 205102385, \"properties\": {}, \"type\": \"Feature\"}, {\"geometry\": {\"coordinates\": [-72.49312, 44.154768], \"type\": \"Point\"}, \"id\": 205102386, \"properties\": {}, \"type\": \"Feature\"}, {\"geometry\": {\"coordinates\": [-72.493176, 44.154842], \"type\": \"Point\"}, \"id\": 205102387, \"properties\": {}, \"type\": \"Feature\"}, {\"geometry\": {\"coordinates\": [-72.493435, 44.155234], \"type\": \"Point\"}, \"id\": 205102388, \"properties\": {}, \"type\": \"Feature\"}, {\"geometry\": {\"coordinates\": [-72.493468, 44.155308], \"type\": \"Point\"}, \"id\": 205102389, \"properties\": {}, \"type\": \"Feature\"}, {\"geometry\": {\"coordinates\": [-72.493513, 44.155439], \"type\": \"Point\"}, \"id\": 205102390, \"properties\": {}, \"type\": \"Feature\"}, {\"geometry\": {\"coordinates\": [-72.493551, 44.155578], \"type\": \"Point\"}, \"id\": 205102391, \"properties\": {}, \"type\": \"Feature\"}, {\"geometry\": {\"coordinates\": [-72.493582, 44.155727], \"type\": \"Point\"}, \"id\": 205102392, \"properties\": {}, \"type\": \"Feature\"}, {\"geometry\": {\"coordinates\": [-72.49332, 44.15504], \"type\": \"Point\"}, \"id\": 1616139559, \"properties\": {}, \"type\": \"Feature\"}, {\"geometry\": {\"coordinates\": [-72.493351, 44.155078], \"type\": \"Point\"}, \"id\": 1616139560, \"properties\": {}, \"type\": \"Feature\"}, {\"geometry\": {\"coordinates\": [-72.493351, 44.155078], \"type\": \"Point\"}, \"id\": 19729922, \"properties\": {\"highway\": \"residential\", \"name\": \"Graniteville Road\", \"surface\": \"asphalt\", \"tiger:cfcc\": \"A41\", \"tiger:county\": \"Washington, VT\", \"tiger:name_base\": \"Graniteville\", \"tiger:name_type\": \"Rd\", \"tiger:reviewed\": \"no\"}, \"type\": \"Feature\"}, {\"geometry\": {\"coordinates\": [-72.49338, 44.155108], \"type\": \"Point\"}, \"id\": 204888546, \"properties\": {}, \"type\": \"Feature\"}, {\"geometry\": {\"coordinates\": [-72.492243, 44.152308], \"type\": \"Point\"}, \"id\": 204891536, \"properties\": {}, \"type\": \"Feature\"}, {\"geometry\": {\"coordinates\": [-72.492456, 44.153196], \"type\": \"Point\"}, \"id\": 204915783, \"properties\": {}, \"type\": \"Feature\"}, {\"geometry\": {\"coordinates\": [-72.492262, 44.151591], \"type\": \"Point\"}, \"id\": 204928320, \"properties\": {}, \"type\": \"Feature\"}, {\"geometry\": {\"coordinates\": [-72.492229, 44.152213], \"type\": \"Point\"}, \"id\": 205039958, \"properties\": {}, \"type\": \"Feature\"}, {\"geometry\": {\"coordinates\": [-72.493616, 44.15602], \"type\": \"Point\"}, \"id\": 205102289, \"properties\": {}, \"type\": \"Feature\"}, {\"geometry\": {\"coordinates\": [-72.492238, 44.151735], \"type\": \"Point\"}, \"id\": 205102377, \"properties\": {}, \"type\": \"Feature\"}, {\"geometry\": {\"coordinates\": [-72.492228, 44.152012], \"type\": \"Point\"}, \"id\": 205102378, \"properties\": {}, \"type\": \"Feature\"}, {\"geometry\": {\"coordinates\": [-72.4923, 44.152636], \"type\": \"Point\"}, \"id\": 205102379, \"properties\": {}, \"type\": \"Feature\"}, {\"geometry\": {\"coordinates\": [-72.492331, 44.152774], \"type\": \"Point\"}, \"id\": 205102380, \"properties\": {}, \"type\": \"Feature\"}, {\"geometry\": {\"coordinates\": [-72.492535, 44.153463], \"type\": \"Point\"}, \"id\": 205102381, \"properties\": {}, \"type\": \"Feature\"}, {\"geometry\": {\"coordinates\": [-72.492729, 44.154003], \"type\": \"Point\"}, \"id\": 205102382, \"properties\": {}, \"type\": \"Feature\"}, {\"geometry\": {\"coordinates\": [-72.492807, 44.154199], \"type\": \"Point\"}, \"id\": 205102383, \"properties\": {}, \"type\": \"Feature\"}, {\"geometry\": {\"coordinates\": [-72.492896, 44.154391], \"type\": \"Point\"}, \"id\": 205102384, \"properties\": {}, \"type\": \"Feature\"}, {\"geometry\": {\"coordinates\": [-72.492999, 44.154582], \"type\": \"Point\"}, \"id\": 205102385, \"properties\": {}, \"type\": \"Feature\"}, {\"geometry\": {\"coordinates\": [-72.49312, 44.154768], \"type\": \"Point\"}, \"id\": 205102386, \"properties\": {}, \"type\": \"Feature\"}, {\"geometry\": {\"coordinates\": [-72.493176, 44.154842], \"type\": \"Point\"}, \"id\": 205102387, \"properties\": {}, \"type\": \"Feature\"}, {\"geometry\": {\"coordinates\": [-72.493435, 44.155234], \"type\": \"Point\"}, \"id\": 205102388, \"properties\": {}, \"type\": \"Feature\"}, {\"geometry\": {\"coordinates\": [-72.493468, 44.155308], \"type\": \"Point\"}, \"id\": 205102389, \"properties\": {}, \"type\": \"Feature\"}, {\"geometry\": {\"coordinates\": [-72.493513, 44.155439], \"type\": \"Point\"}, \"id\": 205102390, \"properties\": {}, \"type\": \"Feature\"}, {\"geometry\": {\"coordinates\": [-72.493551, 44.155578], \"type\": \"Point\"}, \"id\": 205102391, \"properties\": {}, \"type\": \"Feature\"}, {\"geometry\": {\"coordinates\": [-72.493582, 44.155727], \"type\": \"Point\"}, \"id\": 205102392, \"properties\": {}, \"type\": \"Feature\"}, {\"geometry\": {\"coordinates\": [-72.49332, 44.15504], \"type\": \"Point\"}, \"id\": 1616139559, \"properties\": {}, \"type\": \"Feature\"}, {\"geometry\": {\"coordinates\": [-72.493351, 44.155078], \"type\": \"Point\"}, \"id\": 1616139560, \"properties\": {}, \"type\": \"Feature\"}, {\"geometry\": {\"coordinates\": [-72.493351, 44.155078], \"type\": \"Point\"}, \"id\": 19729922, \"properties\": {\"highway\": \"residential\", \"name\": \"Graniteville Road\", \"surface\": \"asphalt\", \"tiger:cfcc\": \"A41\", \"tiger:county\": \"Washington, VT\", \"tiger:name_base\": \"Graniteville\", \"tiger:name_type\": \"Rd\", \"tiger:reviewed\": \"no\"}, \"type\": \"Feature\"}], \"type\": \"FeatureCollection\"}"
      ]
     },
     "execution_count": 54,
     "metadata": {},
     "output_type": "execute_result"
    }
   ],
   "source": [
    "road_response"
   ]
  },
  {
   "cell_type": "markdown",
   "metadata": {},
   "source": [
    "# Road area query"
   ]
  },
  {
   "cell_type": "code",
   "execution_count": 148,
   "metadata": {},
   "outputs": [],
   "source": [
    "query = '(nwr(poly:\"44.22057906361656 -72.56265297020404 44.22949194590923 -72.55860836629675 44.236089755828246 -72.55874230333238 44.23721378918609 -72.5574842409608 44.244670917362974 -72.5641469160507 44.23889923350597 -72.56964858390278 44.235292582163865 -72.56997551344637 44.23212877357097 -72.56826692307332 44.22063379880246 -72.57382869309706 44.21612507592898 -72.56490280837619 44.22057906361656 -72.56265297020404\");<;);'\n",
    "query2 = '(way(poly:\"44.158707895356514 -72.45138848517236 44.16107891608033 -72.44911670704812 44.15898197436062 -72.45251631667031 44.158707895356514 -72.45138848517236\");<;);'\n",
    "area_query = 'nwr(poly:\"44.21942752883122 -72.56043380096837 44.229099324639975 -72.5561157214792 44.23530459506124 -72.55586883955655 \\\n",
    "                     44.237015175914344 -72.55395429014412 44.24820086817967 -72.56394830277897 44.240305872836885 -72.57175694223717 \\\n",
    "                     44.23556179577818 -72.57255065310554 44.23162010716889 -72.57106247361077 44.219529508340614 -72.57718734499564 \\\n",
    "                     44.21276642403039 -72.56379851791435 44.21942752883122 -72.56043380096837\");out;'\n",
    "\n",
    "#response = api.get('node[\"name\"=\"Salt Lake City\"]')\n",
    "response = api.get(area_query)"
   ]
  },
  {
   "cell_type": "code",
   "execution_count": 149,
   "metadata": {},
   "outputs": [],
   "source": [
    "from pandas.io.json import json_normalize\n",
    "df = json_normalize(response[\"features\"])"
   ]
  },
  {
   "cell_type": "code",
   "execution_count": 150,
   "metadata": {},
   "outputs": [
    {
     "data": {
      "text/plain": [
       "(5244, 77)"
      ]
     },
     "execution_count": 150,
     "metadata": {},
     "output_type": "execute_result"
    }
   ],
   "source": [
    "df.shape"
   ]
  },
  {
   "cell_type": "code",
   "execution_count": 151,
   "metadata": {},
   "outputs": [
    {
     "data": {
      "text/html": [
       "<div>\n",
       "<style scoped>\n",
       "    .dataframe tbody tr th:only-of-type {\n",
       "        vertical-align: middle;\n",
       "    }\n",
       "\n",
       "    .dataframe tbody tr th {\n",
       "        vertical-align: top;\n",
       "    }\n",
       "\n",
       "    .dataframe thead th {\n",
       "        text-align: right;\n",
       "    }\n",
       "</style>\n",
       "<table border=\"1\" class=\"dataframe\">\n",
       "  <thead>\n",
       "    <tr style=\"text-align: right;\">\n",
       "      <th></th>\n",
       "      <th>type</th>\n",
       "      <th>id</th>\n",
       "      <th>geometry.type</th>\n",
       "      <th>geometry.coordinates</th>\n",
       "      <th>properties.power</th>\n",
       "      <th>properties.amenity</th>\n",
       "      <th>properties.ele</th>\n",
       "      <th>properties.gnis:county_id</th>\n",
       "      <th>properties.gnis:created</th>\n",
       "      <th>properties.gnis:feature_id</th>\n",
       "      <th>...</th>\n",
       "      <th>properties.landuse</th>\n",
       "      <th>properties.military</th>\n",
       "      <th>properties.healthcare:speciality</th>\n",
       "      <th>properties.aeroway</th>\n",
       "      <th>properties.faa</th>\n",
       "      <th>properties.natural</th>\n",
       "      <th>properties.water</th>\n",
       "      <th>properties.waterway</th>\n",
       "      <th>properties.wetland</th>\n",
       "      <th>properties.ref:walmart</th>\n",
       "    </tr>\n",
       "  </thead>\n",
       "  <tbody>\n",
       "    <tr>\n",
       "      <td>0</td>\n",
       "      <td>Feature</td>\n",
       "      <td>204887428</td>\n",
       "      <td>Point</td>\n",
       "      <td>[-72.557997, 44.225131]</td>\n",
       "      <td>NaN</td>\n",
       "      <td>NaN</td>\n",
       "      <td>NaN</td>\n",
       "      <td>NaN</td>\n",
       "      <td>NaN</td>\n",
       "      <td>NaN</td>\n",
       "      <td>...</td>\n",
       "      <td>NaN</td>\n",
       "      <td>NaN</td>\n",
       "      <td>NaN</td>\n",
       "      <td>NaN</td>\n",
       "      <td>NaN</td>\n",
       "      <td>NaN</td>\n",
       "      <td>NaN</td>\n",
       "      <td>NaN</td>\n",
       "      <td>NaN</td>\n",
       "      <td>NaN</td>\n",
       "    </tr>\n",
       "    <tr>\n",
       "      <td>1</td>\n",
       "      <td>Feature</td>\n",
       "      <td>204887429</td>\n",
       "      <td>Point</td>\n",
       "      <td>[-72.558017, 44.225343]</td>\n",
       "      <td>NaN</td>\n",
       "      <td>NaN</td>\n",
       "      <td>NaN</td>\n",
       "      <td>NaN</td>\n",
       "      <td>NaN</td>\n",
       "      <td>NaN</td>\n",
       "      <td>...</td>\n",
       "      <td>NaN</td>\n",
       "      <td>NaN</td>\n",
       "      <td>NaN</td>\n",
       "      <td>NaN</td>\n",
       "      <td>NaN</td>\n",
       "      <td>NaN</td>\n",
       "      <td>NaN</td>\n",
       "      <td>NaN</td>\n",
       "      <td>NaN</td>\n",
       "      <td>NaN</td>\n",
       "    </tr>\n",
       "    <tr>\n",
       "      <td>2</td>\n",
       "      <td>Feature</td>\n",
       "      <td>204887430</td>\n",
       "      <td>Point</td>\n",
       "      <td>[-72.558019, 44.225488]</td>\n",
       "      <td>NaN</td>\n",
       "      <td>NaN</td>\n",
       "      <td>NaN</td>\n",
       "      <td>NaN</td>\n",
       "      <td>NaN</td>\n",
       "      <td>NaN</td>\n",
       "      <td>...</td>\n",
       "      <td>NaN</td>\n",
       "      <td>NaN</td>\n",
       "      <td>NaN</td>\n",
       "      <td>NaN</td>\n",
       "      <td>NaN</td>\n",
       "      <td>NaN</td>\n",
       "      <td>NaN</td>\n",
       "      <td>NaN</td>\n",
       "      <td>NaN</td>\n",
       "      <td>NaN</td>\n",
       "    </tr>\n",
       "    <tr>\n",
       "      <td>3</td>\n",
       "      <td>Feature</td>\n",
       "      <td>204887431</td>\n",
       "      <td>Point</td>\n",
       "      <td>[-72.558005, 44.22563]</td>\n",
       "      <td>NaN</td>\n",
       "      <td>NaN</td>\n",
       "      <td>NaN</td>\n",
       "      <td>NaN</td>\n",
       "      <td>NaN</td>\n",
       "      <td>NaN</td>\n",
       "      <td>...</td>\n",
       "      <td>NaN</td>\n",
       "      <td>NaN</td>\n",
       "      <td>NaN</td>\n",
       "      <td>NaN</td>\n",
       "      <td>NaN</td>\n",
       "      <td>NaN</td>\n",
       "      <td>NaN</td>\n",
       "      <td>NaN</td>\n",
       "      <td>NaN</td>\n",
       "      <td>NaN</td>\n",
       "    </tr>\n",
       "    <tr>\n",
       "      <td>4</td>\n",
       "      <td>Feature</td>\n",
       "      <td>204887432</td>\n",
       "      <td>Point</td>\n",
       "      <td>[-72.557959, 44.22578]</td>\n",
       "      <td>NaN</td>\n",
       "      <td>NaN</td>\n",
       "      <td>NaN</td>\n",
       "      <td>NaN</td>\n",
       "      <td>NaN</td>\n",
       "      <td>NaN</td>\n",
       "      <td>...</td>\n",
       "      <td>NaN</td>\n",
       "      <td>NaN</td>\n",
       "      <td>NaN</td>\n",
       "      <td>NaN</td>\n",
       "      <td>NaN</td>\n",
       "      <td>NaN</td>\n",
       "      <td>NaN</td>\n",
       "      <td>NaN</td>\n",
       "      <td>NaN</td>\n",
       "      <td>NaN</td>\n",
       "    </tr>\n",
       "  </tbody>\n",
       "</table>\n",
       "<p>5 rows × 77 columns</p>\n",
       "</div>"
      ],
      "text/plain": [
       "      type         id geometry.type     geometry.coordinates properties.power  \\\n",
       "0  Feature  204887428         Point  [-72.557997, 44.225131]              NaN   \n",
       "1  Feature  204887429         Point  [-72.558017, 44.225343]              NaN   \n",
       "2  Feature  204887430         Point  [-72.558019, 44.225488]              NaN   \n",
       "3  Feature  204887431         Point   [-72.558005, 44.22563]              NaN   \n",
       "4  Feature  204887432         Point   [-72.557959, 44.22578]              NaN   \n",
       "\n",
       "  properties.amenity properties.ele properties.gnis:county_id  \\\n",
       "0                NaN            NaN                       NaN   \n",
       "1                NaN            NaN                       NaN   \n",
       "2                NaN            NaN                       NaN   \n",
       "3                NaN            NaN                       NaN   \n",
       "4                NaN            NaN                       NaN   \n",
       "\n",
       "  properties.gnis:created properties.gnis:feature_id  ... properties.landuse  \\\n",
       "0                     NaN                        NaN  ...                NaN   \n",
       "1                     NaN                        NaN  ...                NaN   \n",
       "2                     NaN                        NaN  ...                NaN   \n",
       "3                     NaN                        NaN  ...                NaN   \n",
       "4                     NaN                        NaN  ...                NaN   \n",
       "\n",
       "  properties.military properties.healthcare:speciality properties.aeroway  \\\n",
       "0                 NaN                              NaN                NaN   \n",
       "1                 NaN                              NaN                NaN   \n",
       "2                 NaN                              NaN                NaN   \n",
       "3                 NaN                              NaN                NaN   \n",
       "4                 NaN                              NaN                NaN   \n",
       "\n",
       "  properties.faa properties.natural properties.water properties.waterway  \\\n",
       "0            NaN                NaN              NaN                 NaN   \n",
       "1            NaN                NaN              NaN                 NaN   \n",
       "2            NaN                NaN              NaN                 NaN   \n",
       "3            NaN                NaN              NaN                 NaN   \n",
       "4            NaN                NaN              NaN                 NaN   \n",
       "\n",
       "  properties.wetland properties.ref:walmart  \n",
       "0                NaN                    NaN  \n",
       "1                NaN                    NaN  \n",
       "2                NaN                    NaN  \n",
       "3                NaN                    NaN  \n",
       "4                NaN                    NaN  \n",
       "\n",
       "[5 rows x 77 columns]"
      ]
     },
     "execution_count": 151,
     "metadata": {},
     "output_type": "execute_result"
    }
   ],
   "source": [
    "df.head()"
   ]
  },
  {
   "cell_type": "code",
   "execution_count": 156,
   "metadata": {},
   "outputs": [
    {
     "data": {
      "text/plain": [
       "array(['Feature'], dtype=object)"
      ]
     },
     "execution_count": 156,
     "metadata": {},
     "output_type": "execute_result"
    }
   ],
   "source": [
    "df.type.unique()"
   ]
  },
  {
   "cell_type": "code",
   "execution_count": 157,
   "metadata": {},
   "outputs": [
    {
     "data": {
      "text/plain": [
       "array(['Point'], dtype=object)"
      ]
     },
     "execution_count": 157,
     "metadata": {},
     "output_type": "execute_result"
    }
   ],
   "source": [
    "df['geometry.type'].unique()"
   ]
  },
  {
   "cell_type": "code",
   "execution_count": 152,
   "metadata": {},
   "outputs": [],
   "source": [
    "#culled_df = df.dropna(axis='index', how='all', subset=df.columns[4:])\n",
    "culled_df2 = df.dropna(axis='index', how='all', subset=df.columns[4:])"
   ]
  },
  {
   "cell_type": "code",
   "execution_count": 153,
   "metadata": {},
   "outputs": [
    {
     "data": {
      "text/plain": [
       "(672, 77)"
      ]
     },
     "execution_count": 153,
     "metadata": {},
     "output_type": "execute_result"
    }
   ],
   "source": [
    "culled_df2.shape"
   ]
  },
  {
   "cell_type": "code",
   "execution_count": 155,
   "metadata": {},
   "outputs": [
    {
     "data": {
      "text/html": [
       "<div>\n",
       "<style scoped>\n",
       "    .dataframe tbody tr th:only-of-type {\n",
       "        vertical-align: middle;\n",
       "    }\n",
       "\n",
       "    .dataframe tbody tr th {\n",
       "        vertical-align: top;\n",
       "    }\n",
       "\n",
       "    .dataframe thead th {\n",
       "        text-align: right;\n",
       "    }\n",
       "</style>\n",
       "<table border=\"1\" class=\"dataframe\">\n",
       "  <thead>\n",
       "    <tr style=\"text-align: right;\">\n",
       "      <th></th>\n",
       "      <th>type</th>\n",
       "      <th>id</th>\n",
       "      <th>geometry.type</th>\n",
       "      <th>geometry.coordinates</th>\n",
       "      <th>properties.power</th>\n",
       "      <th>properties.amenity</th>\n",
       "      <th>properties.ele</th>\n",
       "      <th>properties.gnis:county_id</th>\n",
       "      <th>properties.gnis:created</th>\n",
       "      <th>properties.gnis:feature_id</th>\n",
       "      <th>...</th>\n",
       "      <th>properties.landuse</th>\n",
       "      <th>properties.military</th>\n",
       "      <th>properties.healthcare:speciality</th>\n",
       "      <th>properties.aeroway</th>\n",
       "      <th>properties.faa</th>\n",
       "      <th>properties.natural</th>\n",
       "      <th>properties.water</th>\n",
       "      <th>properties.waterway</th>\n",
       "      <th>properties.wetland</th>\n",
       "      <th>properties.ref:walmart</th>\n",
       "    </tr>\n",
       "  </thead>\n",
       "  <tbody>\n",
       "    <tr>\n",
       "      <td>83</td>\n",
       "      <td>Feature</td>\n",
       "      <td>204967570</td>\n",
       "      <td>Point</td>\n",
       "      <td>[-72.562673, 44.244538]</td>\n",
       "      <td>pole</td>\n",
       "      <td>NaN</td>\n",
       "      <td>NaN</td>\n",
       "      <td>NaN</td>\n",
       "      <td>NaN</td>\n",
       "      <td>NaN</td>\n",
       "      <td>...</td>\n",
       "      <td>NaN</td>\n",
       "      <td>NaN</td>\n",
       "      <td>NaN</td>\n",
       "      <td>NaN</td>\n",
       "      <td>NaN</td>\n",
       "      <td>NaN</td>\n",
       "      <td>NaN</td>\n",
       "      <td>NaN</td>\n",
       "      <td>NaN</td>\n",
       "      <td>NaN</td>\n",
       "    </tr>\n",
       "    <tr>\n",
       "      <td>84</td>\n",
       "      <td>Feature</td>\n",
       "      <td>204967571</td>\n",
       "      <td>Point</td>\n",
       "      <td>[-72.564187, 44.244104]</td>\n",
       "      <td>pole</td>\n",
       "      <td>NaN</td>\n",
       "      <td>NaN</td>\n",
       "      <td>NaN</td>\n",
       "      <td>NaN</td>\n",
       "      <td>NaN</td>\n",
       "      <td>...</td>\n",
       "      <td>NaN</td>\n",
       "      <td>NaN</td>\n",
       "      <td>NaN</td>\n",
       "      <td>NaN</td>\n",
       "      <td>NaN</td>\n",
       "      <td>NaN</td>\n",
       "      <td>NaN</td>\n",
       "      <td>NaN</td>\n",
       "      <td>NaN</td>\n",
       "      <td>NaN</td>\n",
       "    </tr>\n",
       "    <tr>\n",
       "      <td>649</td>\n",
       "      <td>Feature</td>\n",
       "      <td>356558580</td>\n",
       "      <td>Point</td>\n",
       "      <td>[-72.560636, 44.238536]</td>\n",
       "      <td>NaN</td>\n",
       "      <td>school</td>\n",
       "      <td>201</td>\n",
       "      <td>023</td>\n",
       "      <td>05/27/2008</td>\n",
       "      <td>2427482</td>\n",
       "      <td>...</td>\n",
       "      <td>NaN</td>\n",
       "      <td>NaN</td>\n",
       "      <td>NaN</td>\n",
       "      <td>NaN</td>\n",
       "      <td>NaN</td>\n",
       "      <td>NaN</td>\n",
       "      <td>NaN</td>\n",
       "      <td>NaN</td>\n",
       "      <td>NaN</td>\n",
       "      <td>NaN</td>\n",
       "    </tr>\n",
       "    <tr>\n",
       "      <td>650</td>\n",
       "      <td>Feature</td>\n",
       "      <td>366666875</td>\n",
       "      <td>Point</td>\n",
       "      <td>[-72.560663, 44.220338]</td>\n",
       "      <td>NaN</td>\n",
       "      <td>library</td>\n",
       "      <td>303</td>\n",
       "      <td>NaN</td>\n",
       "      <td>NaN</td>\n",
       "      <td>1919019</td>\n",
       "      <td>...</td>\n",
       "      <td>NaN</td>\n",
       "      <td>NaN</td>\n",
       "      <td>NaN</td>\n",
       "      <td>NaN</td>\n",
       "      <td>NaN</td>\n",
       "      <td>NaN</td>\n",
       "      <td>NaN</td>\n",
       "      <td>NaN</td>\n",
       "      <td>NaN</td>\n",
       "      <td>NaN</td>\n",
       "    </tr>\n",
       "    <tr>\n",
       "      <td>651</td>\n",
       "      <td>Feature</td>\n",
       "      <td>366667885</td>\n",
       "      <td>Point</td>\n",
       "      <td>[-72.568007, 44.222561]</td>\n",
       "      <td>NaN</td>\n",
       "      <td>NaN</td>\n",
       "      <td>175</td>\n",
       "      <td>NaN</td>\n",
       "      <td>NaN</td>\n",
       "      <td>1919017</td>\n",
       "      <td>...</td>\n",
       "      <td>NaN</td>\n",
       "      <td>NaN</td>\n",
       "      <td>NaN</td>\n",
       "      <td>NaN</td>\n",
       "      <td>NaN</td>\n",
       "      <td>NaN</td>\n",
       "      <td>NaN</td>\n",
       "      <td>NaN</td>\n",
       "      <td>NaN</td>\n",
       "      <td>NaN</td>\n",
       "    </tr>\n",
       "  </tbody>\n",
       "</table>\n",
       "<p>5 rows × 77 columns</p>\n",
       "</div>"
      ],
      "text/plain": [
       "        type         id geometry.type     geometry.coordinates  \\\n",
       "83   Feature  204967570         Point  [-72.562673, 44.244538]   \n",
       "84   Feature  204967571         Point  [-72.564187, 44.244104]   \n",
       "649  Feature  356558580         Point  [-72.560636, 44.238536]   \n",
       "650  Feature  366666875         Point  [-72.560663, 44.220338]   \n",
       "651  Feature  366667885         Point  [-72.568007, 44.222561]   \n",
       "\n",
       "    properties.power properties.amenity properties.ele  \\\n",
       "83              pole                NaN            NaN   \n",
       "84              pole                NaN            NaN   \n",
       "649              NaN             school            201   \n",
       "650              NaN            library            303   \n",
       "651              NaN                NaN            175   \n",
       "\n",
       "    properties.gnis:county_id properties.gnis:created  \\\n",
       "83                        NaN                     NaN   \n",
       "84                        NaN                     NaN   \n",
       "649                       023              05/27/2008   \n",
       "650                       NaN                     NaN   \n",
       "651                       NaN                     NaN   \n",
       "\n",
       "    properties.gnis:feature_id  ... properties.landuse properties.military  \\\n",
       "83                         NaN  ...                NaN                 NaN   \n",
       "84                         NaN  ...                NaN                 NaN   \n",
       "649                    2427482  ...                NaN                 NaN   \n",
       "650                    1919019  ...                NaN                 NaN   \n",
       "651                    1919017  ...                NaN                 NaN   \n",
       "\n",
       "    properties.healthcare:speciality properties.aeroway properties.faa  \\\n",
       "83                               NaN                NaN            NaN   \n",
       "84                               NaN                NaN            NaN   \n",
       "649                              NaN                NaN            NaN   \n",
       "650                              NaN                NaN            NaN   \n",
       "651                              NaN                NaN            NaN   \n",
       "\n",
       "    properties.natural properties.water properties.waterway  \\\n",
       "83                 NaN              NaN                 NaN   \n",
       "84                 NaN              NaN                 NaN   \n",
       "649                NaN              NaN                 NaN   \n",
       "650                NaN              NaN                 NaN   \n",
       "651                NaN              NaN                 NaN   \n",
       "\n",
       "    properties.wetland properties.ref:walmart  \n",
       "83                 NaN                    NaN  \n",
       "84                 NaN                    NaN  \n",
       "649                NaN                    NaN  \n",
       "650                NaN                    NaN  \n",
       "651                NaN                    NaN  \n",
       "\n",
       "[5 rows x 77 columns]"
      ]
     },
     "execution_count": 155,
     "metadata": {},
     "output_type": "execute_result"
    }
   ],
   "source": [
    "culled_df2.head()"
   ]
  },
  {
   "cell_type": "code",
   "execution_count": 132,
   "metadata": {},
   "outputs": [],
   "source": [
    "culled_series = culled_df.iloc[:, 4:].count()"
   ]
  },
  {
   "cell_type": "code",
   "execution_count": 133,
   "metadata": {},
   "outputs": [
    {
     "data": {
      "text/plain": [
       "pandas.core.series.Series"
      ]
     },
     "execution_count": 133,
     "metadata": {},
     "output_type": "execute_result"
    }
   ],
   "source": [
    "type(culled_series)"
   ]
  },
  {
   "cell_type": "code",
   "execution_count": 112,
   "metadata": {},
   "outputs": [
    {
     "name": "stdout",
     "output_type": "stream",
     "text": [
      "properties.power\n",
      "properties.amenity\n",
      "properties.ele\n",
      "properties.gnis:county_id\n",
      "properties.gnis:created\n",
      "properties.gnis:feature_id\n",
      "properties.gnis:state_id\n",
      "properties.name\n",
      "properties.addr:state\n",
      "properties.building\n",
      "properties.gnis:county_name\n",
      "properties.gnis:import_uuid\n",
      "properties.gnis:reviewed\n",
      "properties.source\n",
      "properties.addr:housenumber\n",
      "properties.addr:street\n",
      "properties.access\n",
      "properties.entrance\n",
      "properties.highway\n",
      "properties.service\n",
      "properties.surface\n",
      "properties.operator\n",
      "properties.ref\n",
      "properties.voltage\n",
      "properties.tiger:cfcc\n",
      "properties.tiger:county\n",
      "properties.tiger:reviewed\n",
      "properties.tiger:source\n",
      "properties.tiger:tlid\n",
      "properties.tiger:upload_uuid\n",
      "properties.oneway\n",
      "properties.tiger:name_base\n",
      "properties.tiger:name_type\n",
      "properties.tiger:zip_left\n",
      "properties.tiger:zip_right\n",
      "properties.tiger:name_direction_suffix\n",
      "properties.tiger:zip_left_1\n",
      "properties.tiger:zip_left_2\n",
      "properties.tiger:zip_right_1\n",
      "properties.boundary\n",
      "properties.addr:city\n",
      "properties.addr:postcode\n",
      "properties.building:levels\n",
      "properties.beds\n",
      "properties.emergency\n",
      "properties.healthcare\n",
      "properties.old_name\n",
      "properties.opening_hours\n",
      "properties.phone\n",
      "properties.website\n",
      "properties.wikidata\n",
      "properties.wikipedia\n",
      "properties.landuse\n",
      "properties.military\n",
      "properties.healthcare:speciality\n",
      "properties.natural\n",
      "properties.water\n",
      "properties.waterway\n",
      "properties.addr:country\n",
      "properties.ref:walmart\n",
      "properties.shop\n"
     ]
    }
   ],
   "source": [
    "for i in df.columns[4:]:\n",
    "    print(i)"
   ]
  },
  {
   "cell_type": "code",
   "execution_count": 32,
   "metadata": {},
   "outputs": [
    {
     "data": {
      "text/plain": [
       "array([nan, 'residential', 'retail', 'military', 'quarry'], dtype=object)"
      ]
     },
     "execution_count": 32,
     "metadata": {},
     "output_type": "execute_result"
    }
   ],
   "source": [
    "df['properties.landuse'].unique()"
   ]
  },
  {
   "cell_type": "code",
   "execution_count": 49,
   "metadata": {},
   "outputs": [
    {
     "data": {
      "text/plain": [
       "array([nan, 'service', 'tertiary', 'residential', 'track',\n",
       "       'tertiary_link', 'unclassified'], dtype=object)"
      ]
     },
     "execution_count": 49,
     "metadata": {},
     "output_type": "execute_result"
    }
   ],
   "source": [
    "df['properties.highway'].unique()"
   ]
  },
  {
   "cell_type": "code",
   "execution_count": 55,
   "metadata": {},
   "outputs": [
    {
     "data": {
      "text/plain": [
       "array([nan, 'pole', 'tower', 'line', 'minor_line'], dtype=object)"
      ]
     },
     "execution_count": 55,
     "metadata": {},
     "output_type": "execute_result"
    }
   ],
   "source": [
    "df['properties.power'].unique()"
   ]
  },
  {
   "cell_type": "code",
   "execution_count": 48,
   "metadata": {},
   "outputs": [
    {
     "data": {
      "text/html": [
       "<div>\n",
       "<style scoped>\n",
       "    .dataframe tbody tr th:only-of-type {\n",
       "        vertical-align: middle;\n",
       "    }\n",
       "\n",
       "    .dataframe tbody tr th {\n",
       "        vertical-align: top;\n",
       "    }\n",
       "\n",
       "    .dataframe thead th {\n",
       "        text-align: right;\n",
       "    }\n",
       "</style>\n",
       "<table border=\"1\" class=\"dataframe\">\n",
       "  <thead>\n",
       "    <tr style=\"text-align: right;\">\n",
       "      <th></th>\n",
       "      <th>type</th>\n",
       "      <th>id</th>\n",
       "      <th>geometry.type</th>\n",
       "      <th>geometry.coordinates</th>\n",
       "      <th>properties.power</th>\n",
       "      <th>properties.amenity</th>\n",
       "      <th>properties.ele</th>\n",
       "      <th>properties.gnis:county_id</th>\n",
       "      <th>properties.gnis:created</th>\n",
       "      <th>properties.gnis:feature_id</th>\n",
       "      <th>...</th>\n",
       "      <th>properties.wikipedia</th>\n",
       "      <th>properties.landuse</th>\n",
       "      <th>properties.military</th>\n",
       "      <th>properties.healthcare:speciality</th>\n",
       "      <th>properties.natural</th>\n",
       "      <th>properties.water</th>\n",
       "      <th>properties.waterway</th>\n",
       "      <th>properties.addr:country</th>\n",
       "      <th>properties.ref:walmart</th>\n",
       "      <th>properties.shop</th>\n",
       "    </tr>\n",
       "  </thead>\n",
       "  <tbody>\n",
       "    <tr>\n",
       "      <td>1134</td>\n",
       "      <td>Feature</td>\n",
       "      <td>633264739</td>\n",
       "      <td>Point</td>\n",
       "      <td>[-72.564895, 44.21646]</td>\n",
       "      <td>NaN</td>\n",
       "      <td>NaN</td>\n",
       "      <td>NaN</td>\n",
       "      <td>NaN</td>\n",
       "      <td>NaN</td>\n",
       "      <td>NaN</td>\n",
       "      <td>...</td>\n",
       "      <td>NaN</td>\n",
       "      <td>retail</td>\n",
       "      <td>NaN</td>\n",
       "      <td>NaN</td>\n",
       "      <td>NaN</td>\n",
       "      <td>NaN</td>\n",
       "      <td>NaN</td>\n",
       "      <td>NaN</td>\n",
       "      <td>NaN</td>\n",
       "      <td>NaN</td>\n",
       "    </tr>\n",
       "  </tbody>\n",
       "</table>\n",
       "<p>1 rows × 65 columns</p>\n",
       "</div>"
      ],
      "text/plain": [
       "         type         id geometry.type    geometry.coordinates  \\\n",
       "1134  Feature  633264739         Point  [-72.564895, 44.21646]   \n",
       "\n",
       "     properties.power properties.amenity properties.ele  \\\n",
       "1134              NaN                NaN            NaN   \n",
       "\n",
       "     properties.gnis:county_id properties.gnis:created  \\\n",
       "1134                       NaN                     NaN   \n",
       "\n",
       "     properties.gnis:feature_id  ... properties.wikipedia properties.landuse  \\\n",
       "1134                        NaN  ...                  NaN             retail   \n",
       "\n",
       "     properties.military properties.healthcare:speciality properties.natural  \\\n",
       "1134                 NaN                              NaN                NaN   \n",
       "\n",
       "     properties.water properties.waterway properties.addr:country  \\\n",
       "1134              NaN                 NaN                     NaN   \n",
       "\n",
       "     properties.ref:walmart properties.shop  \n",
       "1134                    NaN             NaN  \n",
       "\n",
       "[1 rows x 65 columns]"
      ]
     },
     "execution_count": 48,
     "metadata": {},
     "output_type": "execute_result"
    }
   ],
   "source": [
    "df[df['properties.name']=='Berlin Mall']"
   ]
  },
  {
   "cell_type": "code",
   "execution_count": null,
   "metadata": {},
   "outputs": [],
   "source": []
  },
  {
   "cell_type": "code",
   "execution_count": null,
   "metadata": {},
   "outputs": [],
   "source": []
  },
  {
   "cell_type": "code",
   "execution_count": null,
   "metadata": {},
   "outputs": [],
   "source": []
  },
  {
   "cell_type": "code",
   "execution_count": null,
   "metadata": {},
   "outputs": [],
   "source": []
  },
  {
   "cell_type": "code",
   "execution_count": 9,
   "metadata": {},
   "outputs": [
    {
     "data": {
      "text/html": [
       "<div>\n",
       "<style scoped>\n",
       "    .dataframe tbody tr th:only-of-type {\n",
       "        vertical-align: middle;\n",
       "    }\n",
       "\n",
       "    .dataframe tbody tr th {\n",
       "        vertical-align: top;\n",
       "    }\n",
       "\n",
       "    .dataframe thead th {\n",
       "        text-align: right;\n",
       "    }\n",
       "</style>\n",
       "<table border=\"1\" class=\"dataframe\">\n",
       "  <thead>\n",
       "    <tr style=\"text-align: right;\">\n",
       "      <th></th>\n",
       "      <th>type</th>\n",
       "      <th>id</th>\n",
       "      <th>geometry</th>\n",
       "      <th>properties</th>\n",
       "    </tr>\n",
       "  </thead>\n",
       "  <tbody>\n",
       "    <tr>\n",
       "      <td>0</td>\n",
       "      <td>Feature</td>\n",
       "      <td>150935219</td>\n",
       "      <td>{'type': 'Point', 'coordinates': [-111.886798,...</td>\n",
       "      <td>{'capital': '4', 'census:population': '186440;...</td>\n",
       "    </tr>\n",
       "    <tr>\n",
       "      <td>1</td>\n",
       "      <td>Feature</td>\n",
       "      <td>585370637</td>\n",
       "      <td>{'type': 'Point', 'coordinates': [-111.89, 40....</td>\n",
       "      <td>{'landuse': 'quarry', 'man_made': 'mine', 'nam...</td>\n",
       "    </tr>\n",
       "    <tr>\n",
       "      <td>2</td>\n",
       "      <td>Feature</td>\n",
       "      <td>2601139992</td>\n",
       "      <td>{'type': 'Point', 'coordinates': [-111.908884,...</td>\n",
       "      <td>{'name': 'Salt Lake City', 'public_transport':...</td>\n",
       "    </tr>\n",
       "    <tr>\n",
       "      <td>3</td>\n",
       "      <td>Feature</td>\n",
       "      <td>2601139995</td>\n",
       "      <td>{'type': 'Point', 'coordinates': [-111.908796,...</td>\n",
       "      <td>{'name': 'Salt Lake City', 'public_transport':...</td>\n",
       "    </tr>\n",
       "  </tbody>\n",
       "</table>\n",
       "</div>"
      ],
      "text/plain": [
       "      type          id                                           geometry  \\\n",
       "0  Feature   150935219  {'type': 'Point', 'coordinates': [-111.886798,...   \n",
       "1  Feature   585370637  {'type': 'Point', 'coordinates': [-111.89, 40....   \n",
       "2  Feature  2601139992  {'type': 'Point', 'coordinates': [-111.908884,...   \n",
       "3  Feature  2601139995  {'type': 'Point', 'coordinates': [-111.908796,...   \n",
       "\n",
       "                                          properties  \n",
       "0  {'capital': '4', 'census:population': '186440;...  \n",
       "1  {'landuse': 'quarry', 'man_made': 'mine', 'nam...  \n",
       "2  {'name': 'Salt Lake City', 'public_transport':...  \n",
       "3  {'name': 'Salt Lake City', 'public_transport':...  "
      ]
     },
     "execution_count": 9,
     "metadata": {},
     "output_type": "execute_result"
    }
   ],
   "source": [
    "geopandas.GeoDataFrame(response['features'])"
   ]
  },
  {
   "cell_type": "code",
   "execution_count": 9,
   "metadata": {},
   "outputs": [],
   "source": [
    "response = api.get('node(50.745,7.17,50.75,7.18)')\n",
    "\n",
    "#response = api.get('node(50.745,7.17,50.75,7.18)[highway=bus_stop]')"
   ]
  },
  {
   "cell_type": "code",
   "execution_count": 10,
   "metadata": {},
   "outputs": [
    {
     "data": {
      "text/plain": [
       "geojson.feature.FeatureCollection"
      ]
     },
     "execution_count": 10,
     "metadata": {},
     "output_type": "execute_result"
    }
   ],
   "source": [
    "type(response)"
   ]
  },
  {
   "cell_type": "code",
   "execution_count": 20,
   "metadata": {},
   "outputs": [
    {
     "data": {
      "text/plain": [
       "dict_keys(['type', 'features'])"
      ]
     },
     "execution_count": 20,
     "metadata": {},
     "output_type": "execute_result"
    }
   ],
   "source": [
    "response.keys()"
   ]
  },
  {
   "cell_type": "code",
   "execution_count": 23,
   "metadata": {},
   "outputs": [
    {
     "data": {
      "text/plain": [
       "1142"
      ]
     },
     "execution_count": 23,
     "metadata": {},
     "output_type": "execute_result"
    }
   ],
   "source": [
    "len(response['features'])"
   ]
  },
  {
   "cell_type": "code",
   "execution_count": 26,
   "metadata": {},
   "outputs": [
    {
     "data": {
      "text/plain": [
       "{\"geometry\": {\"coordinates\": [-72.564452, 44.242723], \"type\": \"Point\"}, \"id\": 204970096, \"properties\": {}, \"type\": \"Feature\"}"
      ]
     },
     "execution_count": 26,
     "metadata": {},
     "output_type": "execute_result"
    }
   ],
   "source": [
    "response['features'][50]"
   ]
  },
  {
   "cell_type": "code",
   "execution_count": 27,
   "metadata": {},
   "outputs": [],
   "source": [
    "data = api.get('way(42.819,-73.881,42.820,-73.880);(._;>;)', \n",
    "               responseformat='json')"
   ]
  },
  {
   "cell_type": "code",
   "execution_count": 29,
   "metadata": {},
   "outputs": [
    {
     "data": {
      "text/plain": [
       "dict_keys(['version', 'generator', 'osm3s', 'elements'])"
      ]
     },
     "execution_count": 29,
     "metadata": {},
     "output_type": "execute_result"
    }
   ],
   "source": [
    "data.keys()"
   ]
  },
  {
   "cell_type": "code",
   "execution_count": 21,
   "metadata": {},
   "outputs": [
    {
     "data": {
      "text/plain": [
       "dict"
      ]
     },
     "execution_count": 21,
     "metadata": {},
     "output_type": "execute_result"
    }
   ],
   "source": [
    "type(data)"
   ]
  },
  {
   "cell_type": "code",
   "execution_count": 24,
   "metadata": {},
   "outputs": [
    {
     "ename": "ValueError",
     "evalue": "Mixing dicts with non-Series may lead to ambiguous ordering.",
     "output_type": "error",
     "traceback": [
      "\u001b[0;31m---------------------------------------------------------------------------\u001b[0m",
      "\u001b[0;31mValueError\u001b[0m                                Traceback (most recent call last)",
      "\u001b[0;32m<ipython-input-24-039b238b38ef>\u001b[0m in \u001b[0;36m<module>\u001b[0;34m\u001b[0m\n\u001b[0;32m----> 1\u001b[0;31m \u001b[0mdf\u001b[0m \u001b[0;34m=\u001b[0m \u001b[0mpd\u001b[0m\u001b[0;34m.\u001b[0m\u001b[0mDataFrame\u001b[0m\u001b[0;34m(\u001b[0m\u001b[0mdata\u001b[0m\u001b[0;34m)\u001b[0m\u001b[0;34m\u001b[0m\u001b[0;34m\u001b[0m\u001b[0m\n\u001b[0m",
      "\u001b[0;32m~/.anaconda3/envs/inaturalist/lib/python3.7/site-packages/pandas/core/frame.py\u001b[0m in \u001b[0;36m__init__\u001b[0;34m(self, data, index, columns, dtype, copy)\u001b[0m\n\u001b[1;32m    409\u001b[0m             )\n\u001b[1;32m    410\u001b[0m         \u001b[0;32melif\u001b[0m \u001b[0misinstance\u001b[0m\u001b[0;34m(\u001b[0m\u001b[0mdata\u001b[0m\u001b[0;34m,\u001b[0m \u001b[0mdict\u001b[0m\u001b[0;34m)\u001b[0m\u001b[0;34m:\u001b[0m\u001b[0;34m\u001b[0m\u001b[0;34m\u001b[0m\u001b[0m\n\u001b[0;32m--> 411\u001b[0;31m             \u001b[0mmgr\u001b[0m \u001b[0;34m=\u001b[0m \u001b[0minit_dict\u001b[0m\u001b[0;34m(\u001b[0m\u001b[0mdata\u001b[0m\u001b[0;34m,\u001b[0m \u001b[0mindex\u001b[0m\u001b[0;34m,\u001b[0m \u001b[0mcolumns\u001b[0m\u001b[0;34m,\u001b[0m \u001b[0mdtype\u001b[0m\u001b[0;34m=\u001b[0m\u001b[0mdtype\u001b[0m\u001b[0;34m)\u001b[0m\u001b[0;34m\u001b[0m\u001b[0;34m\u001b[0m\u001b[0m\n\u001b[0m\u001b[1;32m    412\u001b[0m         \u001b[0;32melif\u001b[0m \u001b[0misinstance\u001b[0m\u001b[0;34m(\u001b[0m\u001b[0mdata\u001b[0m\u001b[0;34m,\u001b[0m \u001b[0mma\u001b[0m\u001b[0;34m.\u001b[0m\u001b[0mMaskedArray\u001b[0m\u001b[0;34m)\u001b[0m\u001b[0;34m:\u001b[0m\u001b[0;34m\u001b[0m\u001b[0;34m\u001b[0m\u001b[0m\n\u001b[1;32m    413\u001b[0m             \u001b[0;32mimport\u001b[0m \u001b[0mnumpy\u001b[0m\u001b[0;34m.\u001b[0m\u001b[0mma\u001b[0m\u001b[0;34m.\u001b[0m\u001b[0mmrecords\u001b[0m \u001b[0;32mas\u001b[0m \u001b[0mmrecords\u001b[0m\u001b[0;34m\u001b[0m\u001b[0;34m\u001b[0m\u001b[0m\n",
      "\u001b[0;32m~/.anaconda3/envs/inaturalist/lib/python3.7/site-packages/pandas/core/internals/construction.py\u001b[0m in \u001b[0;36minit_dict\u001b[0;34m(data, index, columns, dtype)\u001b[0m\n\u001b[1;32m    255\u001b[0m             \u001b[0marr\u001b[0m \u001b[0;32mif\u001b[0m \u001b[0;32mnot\u001b[0m \u001b[0mis_datetime64tz_dtype\u001b[0m\u001b[0;34m(\u001b[0m\u001b[0marr\u001b[0m\u001b[0;34m)\u001b[0m \u001b[0;32melse\u001b[0m \u001b[0marr\u001b[0m\u001b[0;34m.\u001b[0m\u001b[0mcopy\u001b[0m\u001b[0;34m(\u001b[0m\u001b[0;34m)\u001b[0m \u001b[0;32mfor\u001b[0m \u001b[0marr\u001b[0m \u001b[0;32min\u001b[0m \u001b[0marrays\u001b[0m\u001b[0;34m\u001b[0m\u001b[0;34m\u001b[0m\u001b[0m\n\u001b[1;32m    256\u001b[0m         ]\n\u001b[0;32m--> 257\u001b[0;31m     \u001b[0;32mreturn\u001b[0m \u001b[0marrays_to_mgr\u001b[0m\u001b[0;34m(\u001b[0m\u001b[0marrays\u001b[0m\u001b[0;34m,\u001b[0m \u001b[0mdata_names\u001b[0m\u001b[0;34m,\u001b[0m \u001b[0mindex\u001b[0m\u001b[0;34m,\u001b[0m \u001b[0mcolumns\u001b[0m\u001b[0;34m,\u001b[0m \u001b[0mdtype\u001b[0m\u001b[0;34m=\u001b[0m\u001b[0mdtype\u001b[0m\u001b[0;34m)\u001b[0m\u001b[0;34m\u001b[0m\u001b[0;34m\u001b[0m\u001b[0m\n\u001b[0m\u001b[1;32m    258\u001b[0m \u001b[0;34m\u001b[0m\u001b[0m\n\u001b[1;32m    259\u001b[0m \u001b[0;34m\u001b[0m\u001b[0m\n",
      "\u001b[0;32m~/.anaconda3/envs/inaturalist/lib/python3.7/site-packages/pandas/core/internals/construction.py\u001b[0m in \u001b[0;36marrays_to_mgr\u001b[0;34m(arrays, arr_names, index, columns, dtype)\u001b[0m\n\u001b[1;32m     75\u001b[0m     \u001b[0;31m# figure out the index, if necessary\u001b[0m\u001b[0;34m\u001b[0m\u001b[0;34m\u001b[0m\u001b[0;34m\u001b[0m\u001b[0m\n\u001b[1;32m     76\u001b[0m     \u001b[0;32mif\u001b[0m \u001b[0mindex\u001b[0m \u001b[0;32mis\u001b[0m \u001b[0;32mNone\u001b[0m\u001b[0;34m:\u001b[0m\u001b[0;34m\u001b[0m\u001b[0;34m\u001b[0m\u001b[0m\n\u001b[0;32m---> 77\u001b[0;31m         \u001b[0mindex\u001b[0m \u001b[0;34m=\u001b[0m \u001b[0mextract_index\u001b[0m\u001b[0;34m(\u001b[0m\u001b[0marrays\u001b[0m\u001b[0;34m)\u001b[0m\u001b[0;34m\u001b[0m\u001b[0;34m\u001b[0m\u001b[0m\n\u001b[0m\u001b[1;32m     78\u001b[0m     \u001b[0;32melse\u001b[0m\u001b[0;34m:\u001b[0m\u001b[0;34m\u001b[0m\u001b[0;34m\u001b[0m\u001b[0m\n\u001b[1;32m     79\u001b[0m         \u001b[0mindex\u001b[0m \u001b[0;34m=\u001b[0m \u001b[0mensure_index\u001b[0m\u001b[0;34m(\u001b[0m\u001b[0mindex\u001b[0m\u001b[0;34m)\u001b[0m\u001b[0;34m\u001b[0m\u001b[0;34m\u001b[0m\u001b[0m\n",
      "\u001b[0;32m~/.anaconda3/envs/inaturalist/lib/python3.7/site-packages/pandas/core/internals/construction.py\u001b[0m in \u001b[0;36mextract_index\u001b[0;34m(data)\u001b[0m\n\u001b[1;32m    370\u001b[0m             \u001b[0;32mif\u001b[0m \u001b[0mhave_dicts\u001b[0m\u001b[0;34m:\u001b[0m\u001b[0;34m\u001b[0m\u001b[0;34m\u001b[0m\u001b[0m\n\u001b[1;32m    371\u001b[0m                 raise ValueError(\n\u001b[0;32m--> 372\u001b[0;31m                     \u001b[0;34m\"Mixing dicts with non-Series may lead to ambiguous ordering.\"\u001b[0m\u001b[0;34m\u001b[0m\u001b[0;34m\u001b[0m\u001b[0m\n\u001b[0m\u001b[1;32m    373\u001b[0m                 )\n\u001b[1;32m    374\u001b[0m \u001b[0;34m\u001b[0m\u001b[0m\n",
      "\u001b[0;31mValueError\u001b[0m: Mixing dicts with non-Series may lead to ambiguous ordering."
     ]
    }
   ],
   "source": [
    "df = pd.DataFrame(data)"
   ]
  },
  {
   "cell_type": "markdown",
   "metadata": {},
   "source": [
    "# Scrape Overpass Feature Info"
   ]
  },
  {
   "cell_type": "code",
   "execution_count": 56,
   "metadata": {},
   "outputs": [],
   "source": [
    "import urllib\n",
    "from bs4 import BeautifulSoup"
   ]
  },
  {
   "cell_type": "code",
   "execution_count": 73,
   "metadata": {},
   "outputs": [],
   "source": [
    "url = 'https://wiki.openstreetmap.org/wiki/Map_Features'\n",
    "source = urllib.request.urlopen(url).read()\n",
    "soup = BeautifulSoup(source,'lxml')"
   ]
  },
  {
   "cell_type": "code",
   "execution_count": 99,
   "metadata": {},
   "outputs": [],
   "source": [
    "table = soup.findAll('table')\n",
    "table_rows = [row.find_all('td') for row in table]"
   ]
  },
  {
   "cell_type": "code",
   "execution_count": 95,
   "metadata": {},
   "outputs": [
    {
     "data": {
      "text/plain": [
       "16"
      ]
     },
     "execution_count": 95,
     "metadata": {},
     "output_type": "execute_result"
    }
   ],
   "source": [
    "len(table_rows)"
   ]
  },
  {
   "cell_type": "code",
   "execution_count": 93,
   "metadata": {},
   "outputs": [
    {
     "data": {
      "text/plain": [
       "16"
      ]
     },
     "execution_count": 93,
     "metadata": {},
     "output_type": "execute_result"
    }
   ],
   "source": [
    "len(table)"
   ]
  },
  {
   "cell_type": "code",
   "execution_count": null,
   "metadata": {},
   "outputs": [],
   "source": [
    "suburl = base_url+tr.find('a').get('href')\n",
    "obsID = int(suburl.split('/')[-1])"
   ]
  },
  {
   "cell_type": "code",
   "execution_count": 111,
   "metadata": {},
   "outputs": [
    {
     "data": {
      "text/plain": [
       "'/wiki/Way'"
      ]
     },
     "execution_count": 111,
     "metadata": {},
     "output_type": "execute_result"
    }
   ],
   "source": [
    "table_rows[0][50].find('a').get('href')"
   ]
  },
  {
   "cell_type": "code",
   "execution_count": 98,
   "metadata": {},
   "outputs": [
    {
     "data": {
      "text/plain": [
       "<table border=\"1\" cellpadding=\"2\" cellspacing=\"0\" class=\"wikitable\">\n",
       "<tbody><tr>\n",
       "<th scope=\"col\" style=\"width:70px\">Key\n",
       "</th>\n",
       "<th scope=\"col\" style=\"width:100px\">Value\n",
       "</th>\n",
       "<th scope=\"col\" style=\"width:70px\">Element\n",
       "</th>\n",
       "<th scope=\"col\">Comment\n",
       "</th>\n",
       "<th scope=\"col\" style=\"width:125px\"><a class=\"external text\" href=\"https://wiki.openstreetmap.org/wiki/Standard_tile_layer\" rel=\"nofollow\">Rendering carto</a>\n",
       "</th>\n",
       "<th scope=\"col\" style=\"width:100px\">Photo\n",
       "</th></tr>\n",
       "<tr>\n",
       "<th colspan=\"6\">Types of aerialway\n",
       "</th></tr>\n",
       "<tr>\n",
       "<td><a href=\"/wiki/Key:aerialway\" title=\"Key:aerialway\"> aerialway</a>\n",
       "</td>\n",
       "<td><a href=\"/wiki/Tag:aerialway%3Dcable_car\" title=\"Tag:aerialway=cable car\"> cable_car</a>\n",
       "</td>\n",
       "<td><a href=\"/wiki/Way\" title=\"way\"><img alt=\"way\" decoding=\"async\" height=\"20\" src=\"/w/images/thumb/e/ee/Osm_element_way.svg/20px-Osm_element_way.svg.png\" srcset=\"/w/images/thumb/e/ee/Osm_element_way.svg/30px-Osm_element_way.svg.png 1.5x, /w/images/thumb/e/ee/Osm_element_way.svg/40px-Osm_element_way.svg.png 2x\" width=\"20\"/></a>\n",
       "</td>\n",
       "<td><b><img alt=\"[W]\" decoding=\"async\" height=\"16\" src=\"/w/images/2/24/Wikipedia-16px.png\" title=\"Wikipedia\" width=\"16\"/> <a class=\"extiw\" href=\"http://en.wikipedia.org/wiki/Aerial_tramway\" title=\"wikipedia:Aerial tramway\">Cablecar or Tramway</a></b>. Just one or two large cars. The traction cable forms a loop, but the cars do not loop around, they just move up and down on their own side, rolling along static cables over which they are suspended.\n",
       "</td>\n",
       "<td><div class=\"center\"><div class=\"floatnone\"><a class=\"image\" href=\"/wiki/File:Aerialway_gondola_render.png\"><img alt=\"Aerialway gondola render.png\" decoding=\"async\" height=\"125\" src=\"/w/images/c/c4/Aerialway_gondola_render.png\" width=\"125\"/></a></div></div>\n",
       "</td>\n",
       "<td><div class=\"center\"><div class=\"floatnone\"><a class=\"image\" href=\"/wiki/File:CH_Furtschellas_aerial_tram.jpg\"><img alt=\"CH Furtschellas aerial tram.jpg\" decoding=\"async\" height=\"67\" src=\"https://upload.wikimedia.org/wikipedia/commons/thumb/f/f8/CH_Furtschellas_aerial_tram.jpg/100px-CH_Furtschellas_aerial_tram.jpg\" srcset=\"https://upload.wikimedia.org/wikipedia/commons/thumb/f/f8/CH_Furtschellas_aerial_tram.jpg/150px-CH_Furtschellas_aerial_tram.jpg 1.5x, https://upload.wikimedia.org/wikipedia/commons/thumb/f/f8/CH_Furtschellas_aerial_tram.jpg/200px-CH_Furtschellas_aerial_tram.jpg 2x\" width=\"100\"/></a></div></div>\n",
       "</td></tr>\n",
       "<tr>\n",
       "<td><a href=\"/wiki/Key:aerialway\" title=\"Key:aerialway\"> aerialway</a>\n",
       "</td>\n",
       "<td><a href=\"/wiki/Tag:aerialway%3Dgondola\" title=\"Tag:aerialway=gondola\"> gondola</a>\n",
       "</td>\n",
       "<td><a href=\"/wiki/Way\" title=\"way\"><img alt=\"way\" decoding=\"async\" height=\"20\" src=\"/w/images/thumb/e/ee/Osm_element_way.svg/20px-Osm_element_way.svg.png\" srcset=\"/w/images/thumb/e/ee/Osm_element_way.svg/30px-Osm_element_way.svg.png 1.5x, /w/images/thumb/e/ee/Osm_element_way.svg/40px-Osm_element_way.svg.png 2x\" width=\"20\"/></a>\n",
       "</td>\n",
       "<td><b><img alt=\"[W]\" decoding=\"async\" height=\"16\" src=\"/w/images/2/24/Wikipedia-16px.png\" title=\"Wikipedia\" width=\"16\"/> <a class=\"extiw\" href=\"http://en.wikipedia.org/wiki/Gondola_lift\" title=\"wikipedia:Gondola lift\">Gondola lift</a></b>. Many cars on a looped cable.\n",
       "</td>\n",
       "<td><div class=\"center\"><div class=\"floatnone\"><a class=\"image\" href=\"/wiki/File:Aerialway_gondola_render.png\"><img alt=\"Aerialway gondola render.png\" decoding=\"async\" height=\"125\" src=\"/w/images/c/c4/Aerialway_gondola_render.png\" width=\"125\"/></a></div></div>\n",
       "</td>\n",
       "<td><div class=\"center\"><div class=\"floatnone\"><a class=\"image\" href=\"/wiki/File:Linbana_kolm%C3%A5rden_cable_car.jpg\"><img alt=\"Linbana kolmården cable car.jpg\" decoding=\"async\" height=\"66\" src=\"https://upload.wikimedia.org/wikipedia/commons/thumb/4/44/Linbana_kolm%C3%A5rden_cable_car.jpg/100px-Linbana_kolm%C3%A5rden_cable_car.jpg\" srcset=\"https://upload.wikimedia.org/wikipedia/commons/thumb/4/44/Linbana_kolm%C3%A5rden_cable_car.jpg/150px-Linbana_kolm%C3%A5rden_cable_car.jpg 1.5x, https://upload.wikimedia.org/wikipedia/commons/thumb/4/44/Linbana_kolm%C3%A5rden_cable_car.jpg/200px-Linbana_kolm%C3%A5rden_cable_car.jpg 2x\" width=\"100\"/></a></div></div>\n",
       "</td></tr>\n",
       "<tr>\n",
       "<td><a href=\"/wiki/Key:aerialway\" title=\"Key:aerialway\"> aerialway</a>\n",
       "</td>\n",
       "<td><a href=\"/wiki/Tag:aerialway%3Dchair_lift\" title=\"Tag:aerialway=chair lift\"> chair_lift</a>\n",
       "</td>\n",
       "<td><a href=\"/wiki/Way\" title=\"way\"><img alt=\"way\" decoding=\"async\" height=\"20\" src=\"/w/images/thumb/e/ee/Osm_element_way.svg/20px-Osm_element_way.svg.png\" srcset=\"/w/images/thumb/e/ee/Osm_element_way.svg/30px-Osm_element_way.svg.png 1.5x, /w/images/thumb/e/ee/Osm_element_way.svg/40px-Osm_element_way.svg.png 2x\" width=\"20\"/></a>\n",
       "</td>\n",
       "<td><b><img alt=\"[W]\" decoding=\"async\" height=\"16\" src=\"/w/images/2/24/Wikipedia-16px.png\" title=\"Wikipedia\" width=\"16\"/> <a class=\"extiw\" href=\"http://en.wikipedia.org/wiki/Chairlift\" title=\"wikipedia:Chairlift\">Chairlift</a></b>. Looped cable with a series of single chairs (typically seating two or four people, but can be more). Exposed to the open air (can have a bubble).<br/> This implies <tt class=\"mw-content-ltr\" dir=\"ltr\" style=\"background:#EEF;font-size:1em;line-height:1.6\"><bdi style=\"white-space:nowrap\"><a href=\"/wiki/Key:oneway\" title=\"Key:oneway\">oneway</a></bdi>=<bdi>yes</bdi></tt> (drawn upward).  Any two-way chairlifts should be tagged <tt class=\"mw-content-ltr\" dir=\"ltr\" style=\"background:#EEF;font-size:1em;line-height:1.6\"><bdi style=\"white-space:nowrap\"><a href=\"/wiki/Key:oneway\" title=\"Key:oneway\">oneway</a></bdi>=<a class=\"mw-redirect\" href=\"/wiki/Tag:oneway%3Dno\" title=\"Tag:oneway=no\"><bdi>no</bdi></a></tt>.\n",
       "</td>\n",
       "<td><div class=\"center\"><div class=\"floatnone\"><a class=\"image\" href=\"/wiki/File:Chair_lift_rendering.png\"><img alt=\"Chair lift rendering.png\" decoding=\"async\" height=\"125\" src=\"/w/images/8/85/Chair_lift_rendering.png\" width=\"125\"/></a></div></div>\n",
       "</td>\n",
       "<td><div class=\"center\"><div class=\"floatnone\"><a class=\"image\" href=\"/wiki/File:Silver_Queen_Chair,_CBMR.jpg\"><img alt=\"Silver Queen Chair, CBMR.jpg\" decoding=\"async\" height=\"66\" src=\"https://upload.wikimedia.org/wikipedia/commons/thumb/2/27/Silver_Queen_Chair%2C_CBMR.jpg/100px-Silver_Queen_Chair%2C_CBMR.jpg\" srcset=\"https://upload.wikimedia.org/wikipedia/commons/thumb/2/27/Silver_Queen_Chair%2C_CBMR.jpg/150px-Silver_Queen_Chair%2C_CBMR.jpg 1.5x, https://upload.wikimedia.org/wikipedia/commons/thumb/2/27/Silver_Queen_Chair%2C_CBMR.jpg/200px-Silver_Queen_Chair%2C_CBMR.jpg 2x\" width=\"100\"/></a></div></div>\n",
       "</td></tr>\n",
       "<tr>\n",
       "<td><a href=\"/wiki/Key:aerialway\" title=\"Key:aerialway\"> aerialway</a>\n",
       "</td>\n",
       "<td><a href=\"/wiki/Tag:aerialway%3Dmixed_lift\" title=\"Tag:aerialway=mixed lift\"> mixed_lift</a>\n",
       "</td>\n",
       "<td><a href=\"/wiki/Way\" title=\"way\"><img alt=\"way\" decoding=\"async\" height=\"20\" src=\"/w/images/thumb/e/ee/Osm_element_way.svg/20px-Osm_element_way.svg.png\" srcset=\"/w/images/thumb/e/ee/Osm_element_way.svg/30px-Osm_element_way.svg.png 1.5x, /w/images/thumb/e/ee/Osm_element_way.svg/40px-Osm_element_way.svg.png 2x\" width=\"20\"/></a>\n",
       "</td>\n",
       "<td><b><img alt=\"[W]\" decoding=\"async\" height=\"16\" src=\"/w/images/2/24/Wikipedia-16px.png\" title=\"Wikipedia\" width=\"16\"/> <a class=\"extiw\" href=\"http://en.wikipedia.org/wiki/Hybrid_lift\" title=\"wikipedia:Hybrid lift\">Mixed lift</a></b> Also known as a <b>hybrid lift</b> is a new type of ski lift that combines the elements of a chairlift and a gondola lift.\n",
       "</td>\n",
       "<td>\n",
       "</td>\n",
       "<td><div class=\"center\"><div class=\"floatnone\"><a class=\"image\" href=\"/wiki/File:Cgd_panoramabahn.jpg\"><img alt=\"Cgd panoramabahn.jpg\" decoding=\"async\" height=\"65\" src=\"https://upload.wikimedia.org/wikipedia/commons/thumb/3/3c/Cgd_panoramabahn.jpg/100px-Cgd_panoramabahn.jpg\" srcset=\"https://upload.wikimedia.org/wikipedia/commons/thumb/3/3c/Cgd_panoramabahn.jpg/150px-Cgd_panoramabahn.jpg 1.5x, https://upload.wikimedia.org/wikipedia/commons/thumb/3/3c/Cgd_panoramabahn.jpg/200px-Cgd_panoramabahn.jpg 2x\" width=\"100\"/></a></div></div>\n",
       "</td></tr>\n",
       "<tr>\n",
       "<td><a href=\"/wiki/Key:aerialway\" title=\"Key:aerialway\"> aerialway</a>\n",
       "</td>\n",
       "<td><a href=\"/wiki/Tag:aerialway%3Ddrag_lift\" title=\"Tag:aerialway=drag lift\"> drag_lift</a>\n",
       "</td>\n",
       "<td><a href=\"/wiki/Way\" title=\"way\"><img alt=\"way\" decoding=\"async\" height=\"20\" src=\"/w/images/thumb/e/ee/Osm_element_way.svg/20px-Osm_element_way.svg.png\" srcset=\"/w/images/thumb/e/ee/Osm_element_way.svg/30px-Osm_element_way.svg.png 1.5x, /w/images/thumb/e/ee/Osm_element_way.svg/40px-Osm_element_way.svg.png 2x\" width=\"20\"/></a>\n",
       "</td>\n",
       "<td><b><img alt=\"[W]\" decoding=\"async\" height=\"16\" src=\"/w/images/2/24/Wikipedia-16px.png\" title=\"Wikipedia\" width=\"16\"/> <a class=\"extiw\" href=\"http://en.wikipedia.org/wiki/Surface_lift\" title=\"wikipedia:Surface lift\">Drag lift or Surface lift</a></b> is an overhead tow-line for skiers and riders. A T-bar lift, button lift, or more simple looped rope drag lifts, or loops of wire with handles to grab. See also <tt class=\"mw-content-ltr\" dir=\"ltr\" style=\"background:#EEF;font-size:1em;line-height:1.6\"><bdi style=\"white-space:nowrap\"><a href=\"/wiki/Key:aerialway\" title=\"Key:aerialway\">aerialway</a></bdi>=<a href=\"/wiki/Tag:aerialway%3Dt-bar\" title=\"Tag:aerialway=t-bar\"><bdi>t-bar</bdi></a></tt>, <tt class=\"mw-content-ltr\" dir=\"ltr\" style=\"background:#EEF;font-size:1em;line-height:1.6\"><bdi style=\"white-space:nowrap\"><a href=\"/wiki/Key:aerialway\" title=\"Key:aerialway\">aerialway</a></bdi>=<a href=\"/wiki/Tag:aerialway%3Dj-bar\" title=\"Tag:aerialway=j-bar\"><bdi>j-bar</bdi></a></tt>, <tt class=\"mw-content-ltr\" dir=\"ltr\" style=\"background:#EEF;font-size:1em;line-height:1.6\"><bdi style=\"white-space:nowrap\"><a href=\"/wiki/Key:aerialway\" title=\"Key:aerialway\">aerialway</a></bdi>=<a href=\"/wiki/Tag:aerialway%3Dplatter\" title=\"Tag:aerialway=platter\"><bdi>platter</bdi></a></tt> and <tt class=\"mw-content-ltr\" dir=\"ltr\" style=\"background:#EEF;font-size:1em;line-height:1.6\"><bdi style=\"white-space:nowrap\"><a href=\"/wiki/Key:aerialway\" title=\"Key:aerialway\">aerialway</a></bdi>=<a href=\"/wiki/Tag:aerialway%3Drope_tow\" title=\"Tag:aerialway=rope tow\"><bdi>rope_tow</bdi></a></tt>.<br/> This automatically implies <tt class=\"mw-content-ltr\" dir=\"ltr\" style=\"background:#EEF;font-size:1em;line-height:1.6\"><bdi style=\"white-space:nowrap\"><a href=\"/wiki/Key:oneway\" title=\"Key:oneway\">oneway</a></bdi>=<bdi>yes</bdi></tt> (drawn upward).\n",
       "</td>\n",
       "<td><div class=\"center\"><div class=\"floatnone\"><a class=\"image\" href=\"/wiki/File:Chair_lift_rendering.png\"><img alt=\"Chair lift rendering.png\" decoding=\"async\" height=\"125\" src=\"/w/images/8/85/Chair_lift_rendering.png\" width=\"125\"/></a></div></div>\n",
       "</td>\n",
       "<td><div class=\"center\"><div class=\"floatnone\"><a class=\"image\" href=\"/wiki/File:T-bar_lift.JPG\"><img alt=\"T-bar lift.JPG\" decoding=\"async\" height=\"67\" src=\"https://upload.wikimedia.org/wikipedia/commons/thumb/d/d8/T-bar_lift.JPG/100px-T-bar_lift.JPG\" srcset=\"https://upload.wikimedia.org/wikipedia/commons/thumb/d/d8/T-bar_lift.JPG/150px-T-bar_lift.JPG 1.5x, https://upload.wikimedia.org/wikipedia/commons/thumb/d/d8/T-bar_lift.JPG/200px-T-bar_lift.JPG 2x\" width=\"100\"/></a></div></div>\n",
       "</td></tr>\n",
       "<tr>\n",
       "<td><a href=\"/wiki/Key:aerialway\" title=\"Key:aerialway\"> aerialway</a>\n",
       "</td>\n",
       "<td><a href=\"/wiki/Tag:aerialway%3Dt-bar\" title=\"Tag:aerialway=t-bar\"> t-bar</a>\n",
       "</td>\n",
       "<td><a href=\"/wiki/Way\" title=\"way\"><img alt=\"way\" decoding=\"async\" height=\"20\" src=\"/w/images/thumb/e/ee/Osm_element_way.svg/20px-Osm_element_way.svg.png\" srcset=\"/w/images/thumb/e/ee/Osm_element_way.svg/30px-Osm_element_way.svg.png 1.5x, /w/images/thumb/e/ee/Osm_element_way.svg/40px-Osm_element_way.svg.png 2x\" width=\"20\"/></a>\n",
       "</td>\n",
       "<td><b><img alt=\"[W]\" decoding=\"async\" height=\"16\" src=\"/w/images/2/24/Wikipedia-16px.png\" title=\"Wikipedia\" width=\"16\"/> <a class=\"extiw\" href=\"http://en.wikipedia.org/wiki/T-bar_lift\" title=\"wikipedia:T-bar lift\">T-bar lift</a></b>.  A type of <tt class=\"mw-content-ltr\" dir=\"ltr\" style=\"background:#EEF;font-size:1em;line-height:1.6\"><bdi style=\"white-space:nowrap\"><a href=\"/wiki/Key:aerialway\" title=\"Key:aerialway\">aerialway</a></bdi>=<a href=\"/wiki/Tag:aerialway%3Ddrag_lift\" title=\"Tag:aerialway=drag lift\"><bdi>drag_lift</bdi></a></tt>.<br/> This automatically implies <tt class=\"mw-content-ltr\" dir=\"ltr\" style=\"background:#EEF;font-size:1em;line-height:1.6\"><bdi style=\"white-space:nowrap\"><a href=\"/wiki/Key:oneway\" title=\"Key:oneway\">oneway</a></bdi>=<bdi>yes</bdi></tt> (drawn upward).\n",
       "</td>\n",
       "<td><div class=\"center\"><div class=\"floatnone\"><a class=\"image\" href=\"/wiki/File:Chair_lift_rendering.png\"><img alt=\"Chair lift rendering.png\" decoding=\"async\" height=\"125\" src=\"/w/images/8/85/Chair_lift_rendering.png\" width=\"125\"/></a></div></div>\n",
       "</td>\n",
       "<td><div class=\"center\"><div class=\"floatnone\"><a class=\"image\" href=\"/wiki/File:Orczyk.jpg\"><img alt=\"Orczyk.jpg\" decoding=\"async\" height=\"122\" src=\"https://upload.wikimedia.org/wikipedia/commons/thumb/f/f8/Orczyk.jpg/100px-Orczyk.jpg\" srcset=\"https://upload.wikimedia.org/wikipedia/commons/thumb/f/f8/Orczyk.jpg/150px-Orczyk.jpg 1.5x, https://upload.wikimedia.org/wikipedia/commons/thumb/f/f8/Orczyk.jpg/200px-Orczyk.jpg 2x\" width=\"100\"/></a></div></div>\n",
       "</td></tr>\n",
       "<tr>\n",
       "<td><a href=\"/wiki/Key:aerialway\" title=\"Key:aerialway\"> aerialway</a>\n",
       "</td>\n",
       "<td><a href=\"/wiki/Tag:aerialway%3Dj-bar\" title=\"Tag:aerialway=j-bar\"> j-bar</a>\n",
       "</td>\n",
       "<td><a href=\"/wiki/Way\" title=\"way\"><img alt=\"way\" decoding=\"async\" height=\"20\" src=\"/w/images/thumb/e/ee/Osm_element_way.svg/20px-Osm_element_way.svg.png\" srcset=\"/w/images/thumb/e/ee/Osm_element_way.svg/30px-Osm_element_way.svg.png 1.5x, /w/images/thumb/e/ee/Osm_element_way.svg/40px-Osm_element_way.svg.png 2x\" width=\"20\"/></a>\n",
       "</td>\n",
       "<td><b><img alt=\"[W]\" decoding=\"async\" height=\"16\" src=\"/w/images/2/24/Wikipedia-16px.png\" title=\"Wikipedia\" width=\"16\"/> <a class=\"extiw\" href=\"http://en.wikipedia.org/wiki/J-bar_lift\" title=\"wikipedia:J-bar lift\">J-bar lift</a></b>. A type of <tt class=\"mw-content-ltr\" dir=\"ltr\" style=\"background:#EEF;font-size:1em;line-height:1.6\"><bdi style=\"white-space:nowrap\"><a href=\"/wiki/Key:aerialway\" title=\"Key:aerialway\">aerialway</a></bdi>=<a href=\"/wiki/Tag:aerialway%3Ddrag_lift\" title=\"Tag:aerialway=drag lift\"><bdi>drag_lift</bdi></a></tt>. Like t-bar but just on one side.<br/> This automatically implies <tt class=\"mw-content-ltr\" dir=\"ltr\" style=\"background:#EEF;font-size:1em;line-height:1.6\"><bdi style=\"white-space:nowrap\"><a href=\"/wiki/Key:oneway\" title=\"Key:oneway\">oneway</a></bdi>=<bdi>yes</bdi></tt> (drawn upward).\n",
       "</td>\n",
       "<td><div class=\"center\"><div class=\"floatnone\"><a class=\"image\" href=\"/wiki/File:Chair_lift_rendering.png\"><img alt=\"Chair lift rendering.png\" decoding=\"async\" height=\"125\" src=\"/w/images/8/85/Chair_lift_rendering.png\" width=\"125\"/></a></div></div>\n",
       "</td>\n",
       "<td><div class=\"center\"><div class=\"floatnone\"><a class=\"image\" href=\"/wiki/File:Coldspgs_j_bar_lift.jpg\"><img alt=\"Coldspgs j bar lift.jpg\" decoding=\"async\" height=\"136\" src=\"https://upload.wikimedia.org/wikipedia/commons/thumb/d/d6/Coldspgs_j_bar_lift.jpg/100px-Coldspgs_j_bar_lift.jpg\" srcset=\"https://upload.wikimedia.org/wikipedia/commons/thumb/d/d6/Coldspgs_j_bar_lift.jpg/150px-Coldspgs_j_bar_lift.jpg 1.5x, https://upload.wikimedia.org/wikipedia/commons/thumb/d/d6/Coldspgs_j_bar_lift.jpg/200px-Coldspgs_j_bar_lift.jpg 2x\" width=\"100\"/></a></div></div>\n",
       "</td></tr>\n",
       "<tr>\n",
       "<td><a href=\"/wiki/Key:aerialway\" title=\"Key:aerialway\"> aerialway</a>\n",
       "</td>\n",
       "<td><a href=\"/wiki/Tag:aerialway%3Dplatter\" title=\"Tag:aerialway=platter\"> platter</a>\n",
       "</td>\n",
       "<td><a href=\"/wiki/Way\" title=\"way\"><img alt=\"way\" decoding=\"async\" height=\"20\" src=\"/w/images/thumb/e/ee/Osm_element_way.svg/20px-Osm_element_way.svg.png\" srcset=\"/w/images/thumb/e/ee/Osm_element_way.svg/30px-Osm_element_way.svg.png 1.5x, /w/images/thumb/e/ee/Osm_element_way.svg/40px-Osm_element_way.svg.png 2x\" width=\"20\"/></a>\n",
       "</td>\n",
       "<td><b><img alt=\"[W]\" decoding=\"async\" height=\"16\" src=\"/w/images/2/24/Wikipedia-16px.png\" title=\"Wikipedia\" width=\"16\"/> <a class=\"extiw\" href=\"http://en.wikipedia.org/wiki/Platter_lift\" title=\"wikipedia:Platter lift\">Platter lift</a></b>. A type of <tt class=\"mw-content-ltr\" dir=\"ltr\" style=\"background:#EEF;font-size:1em;line-height:1.6\"><bdi style=\"white-space:nowrap\"><a href=\"/wiki/Key:aerialway\" title=\"Key:aerialway\">aerialway</a></bdi>=<a href=\"/wiki/Tag:aerialway%3Ddrag_lift\" title=\"Tag:aerialway=drag lift\"><bdi>drag_lift</bdi></a></tt>. Similar to a t-bar, but with a disc instead of a bar. Single-person only.<br/> This automatically implies <tt class=\"mw-content-ltr\" dir=\"ltr\" style=\"background:#EEF;font-size:1em;line-height:1.6\"><bdi style=\"white-space:nowrap\"><a href=\"/wiki/Key:oneway\" title=\"Key:oneway\">oneway</a></bdi>=<bdi>yes</bdi></tt> (drawn upward).\n",
       "</td>\n",
       "<td><div class=\"center\"><div class=\"floatnone\"><a class=\"image\" href=\"/wiki/File:Chair_lift_rendering.png\"><img alt=\"Chair lift rendering.png\" decoding=\"async\" height=\"125\" src=\"/w/images/8/85/Chair_lift_rendering.png\" width=\"125\"/></a></div></div>\n",
       "</td>\n",
       "<td><div class=\"center\"><div class=\"floatnone\"><a class=\"image\" href=\"/wiki/File:Tellerliftb%C3%BCgel.jpg\"><img alt=\"Tellerliftbügel.jpg\" decoding=\"async\" height=\"149\" src=\"https://upload.wikimedia.org/wikipedia/commons/thumb/a/aa/Tellerliftb%C3%BCgel.jpg/100px-Tellerliftb%C3%BCgel.jpg\" srcset=\"https://upload.wikimedia.org/wikipedia/commons/thumb/a/aa/Tellerliftb%C3%BCgel.jpg/150px-Tellerliftb%C3%BCgel.jpg 1.5x, https://upload.wikimedia.org/wikipedia/commons/thumb/a/aa/Tellerliftb%C3%BCgel.jpg/200px-Tellerliftb%C3%BCgel.jpg 2x\" width=\"100\"/></a></div></div>\n",
       "</td></tr>\n",
       "<tr>\n",
       "<td><a href=\"/wiki/Key:aerialway\" title=\"Key:aerialway\"> aerialway</a>\n",
       "</td>\n",
       "<td><a href=\"/wiki/Tag:aerialway%3Drope_tow\" title=\"Tag:aerialway=rope tow\"> rope_tow</a>\n",
       "</td>\n",
       "<td><a href=\"/wiki/Way\" title=\"way\"><img alt=\"way\" decoding=\"async\" height=\"20\" src=\"/w/images/thumb/e/ee/Osm_element_way.svg/20px-Osm_element_way.svg.png\" srcset=\"/w/images/thumb/e/ee/Osm_element_way.svg/30px-Osm_element_way.svg.png 1.5x, /w/images/thumb/e/ee/Osm_element_way.svg/40px-Osm_element_way.svg.png 2x\" width=\"20\"/></a>\n",
       "</td>\n",
       "<td><b><img alt=\"[W]\" decoding=\"async\" height=\"16\" src=\"/w/images/2/24/Wikipedia-16px.png\" title=\"Wikipedia\" width=\"16\"/> <a class=\"extiw\" href=\"http://en.wikipedia.org/wiki/Ski_tow\" title=\"wikipedia:Ski tow\">Rope tow</a></b>. A type of <tt class=\"mw-content-ltr\" dir=\"ltr\" style=\"background:#EEF;font-size:1em;line-height:1.6\"><bdi style=\"white-space:nowrap\"><a href=\"/wiki/Key:aerialway\" title=\"Key:aerialway\">aerialway</a></bdi>=<a href=\"/wiki/Tag:aerialway%3Ddrag_lift\" title=\"Tag:aerialway=drag lift\"><bdi>drag_lift</bdi></a></tt>.<br/> This automatically implies <tt class=\"mw-content-ltr\" dir=\"ltr\" style=\"background:#EEF;font-size:1em;line-height:1.6\"><bdi style=\"white-space:nowrap\"><a href=\"/wiki/Key:oneway\" title=\"Key:oneway\">oneway</a></bdi>=<bdi>yes</bdi></tt> (drawn upward).\n",
       "</td>\n",
       "<td><div class=\"center\"><div class=\"floatnone\"><a class=\"image\" href=\"/wiki/File:Chair_lift_rendering.png\"><img alt=\"Chair lift rendering.png\" decoding=\"async\" height=\"125\" src=\"/w/images/8/85/Chair_lift_rendering.png\" width=\"125\"/></a></div></div>\n",
       "</td>\n",
       "<td><div class=\"center\"><div class=\"floatnone\"><a class=\"image\" href=\"/wiki/File:Rope_tow_overview.jpeg\"><img alt=\"Rope tow overview.jpeg\" decoding=\"async\" height=\"75\" src=\"https://upload.wikimedia.org/wikipedia/commons/thumb/6/67/Rope_tow_overview.jpeg/100px-Rope_tow_overview.jpeg\" srcset=\"https://upload.wikimedia.org/wikipedia/commons/thumb/6/67/Rope_tow_overview.jpeg/150px-Rope_tow_overview.jpeg 1.5x, https://upload.wikimedia.org/wikipedia/commons/thumb/6/67/Rope_tow_overview.jpeg/200px-Rope_tow_overview.jpeg 2x\" width=\"100\"/></a></div></div>\n",
       "</td></tr>\n",
       "<tr>\n",
       "<td><a href=\"/wiki/Key:aerialway\" title=\"Key:aerialway\"> aerialway</a>\n",
       "</td>\n",
       "<td><a href=\"/wiki/Tag:aerialway%3Dmagic_carpet\" title=\"Tag:aerialway=magic carpet\"> magic_carpet</a>\n",
       "</td>\n",
       "<td><a href=\"/wiki/Way\" title=\"way\"><img alt=\"way\" decoding=\"async\" height=\"20\" src=\"/w/images/thumb/e/ee/Osm_element_way.svg/20px-Osm_element_way.svg.png\" srcset=\"/w/images/thumb/e/ee/Osm_element_way.svg/30px-Osm_element_way.svg.png 1.5x, /w/images/thumb/e/ee/Osm_element_way.svg/40px-Osm_element_way.svg.png 2x\" width=\"20\"/></a>\n",
       "</td>\n",
       "<td><b><img alt=\"[W]\" decoding=\"async\" height=\"16\" src=\"/w/images/2/24/Wikipedia-16px.png\" title=\"Wikipedia\" width=\"16\"/> <a class=\"extiw\" href=\"http://en.wikipedia.org/wiki/Magic_carpet_(ski_lift)\" title=\"wikipedia:Magic carpet (ski lift)\">Magic carpet</a></b>. A type of ski lift.<br/> This automatically implies <tt class=\"mw-content-ltr\" dir=\"ltr\" style=\"background:#EEF;font-size:1em;line-height:1.6\"><bdi style=\"white-space:nowrap\"><a href=\"/wiki/Key:oneway\" title=\"Key:oneway\">oneway</a></bdi>=<bdi>yes</bdi></tt> (drawn upward).\n",
       "</td>\n",
       "<td>\n",
       "</td>\n",
       "<td><div class=\"center\"><div class=\"floatnone\"><a class=\"image\" href=\"/wiki/File:Magic_carpet_uphill_loaded_P1437.jpeg\"><img alt=\"Magic carpet uphill loaded P1437.jpeg\" decoding=\"async\" height=\"133\" src=\"https://upload.wikimedia.org/wikipedia/commons/thumb/7/7b/Magic_carpet_uphill_loaded_P1437.jpeg/100px-Magic_carpet_uphill_loaded_P1437.jpeg\" srcset=\"https://upload.wikimedia.org/wikipedia/commons/thumb/7/7b/Magic_carpet_uphill_loaded_P1437.jpeg/150px-Magic_carpet_uphill_loaded_P1437.jpeg 1.5x, https://upload.wikimedia.org/wikipedia/commons/thumb/7/7b/Magic_carpet_uphill_loaded_P1437.jpeg/200px-Magic_carpet_uphill_loaded_P1437.jpeg 2x\" width=\"100\"/></a></div></div>\n",
       "</td></tr>\n",
       "<tr>\n",
       "<td><a href=\"/wiki/Key:aerialway\" title=\"Key:aerialway\"> aerialway</a>\n",
       "</td>\n",
       "<td><a href=\"/wiki/Tag:aerialway%3Dzip_line\" title=\"Tag:aerialway=zip line\"> zip_line</a>\n",
       "</td>\n",
       "<td><a href=\"/wiki/Way\" title=\"way\"><img alt=\"way\" decoding=\"async\" height=\"20\" src=\"/w/images/thumb/e/ee/Osm_element_way.svg/20px-Osm_element_way.svg.png\" srcset=\"/w/images/thumb/e/ee/Osm_element_way.svg/30px-Osm_element_way.svg.png 1.5x, /w/images/thumb/e/ee/Osm_element_way.svg/40px-Osm_element_way.svg.png 2x\" width=\"20\"/></a>\n",
       "</td>\n",
       "<td><b><img alt=\"[W]\" decoding=\"async\" height=\"16\" src=\"/w/images/2/24/Wikipedia-16px.png\" title=\"Wikipedia\" width=\"16\"/> <a class=\"extiw\" href=\"http://en.wikipedia.org/wiki/Zip_line\" title=\"wikipedia:Zip line\">Zip line</a></b>. Simple aerial rope slides.<br/> This automatically implies <tt class=\"mw-content-ltr\" dir=\"ltr\" style=\"background:#EEF;font-size:1em;line-height:1.6\"><bdi style=\"white-space:nowrap\"><a href=\"/wiki/Key:oneway\" title=\"Key:oneway\">oneway</a></bdi>=<bdi>yes</bdi></tt> (drawn downward).\n",
       "</td>\n",
       "<td><div class=\"center\"><div class=\"floatnone\"><a class=\"image\" href=\"/wiki/File:Chair_lift_rendering.png\"><img alt=\"Chair lift rendering.png\" decoding=\"async\" height=\"125\" src=\"/w/images/8/85/Chair_lift_rendering.png\" width=\"125\"/></a></div></div>\n",
       "</td>\n",
       "<td><div class=\"center\"><div class=\"floatnone\"><a class=\"image\" href=\"/wiki/File:Zip_line_arival_SuperFly_Whistler,_BC,_Canada.JPG\"><img alt=\"Zip line arival SuperFly Whistler, BC, Canada.JPG\" decoding=\"async\" height=\"75\" src=\"https://upload.wikimedia.org/wikipedia/commons/thumb/a/a0/Zip_line_arival_SuperFly_Whistler%2C_BC%2C_Canada.JPG/100px-Zip_line_arival_SuperFly_Whistler%2C_BC%2C_Canada.JPG\" srcset=\"https://upload.wikimedia.org/wikipedia/commons/thumb/a/a0/Zip_line_arival_SuperFly_Whistler%2C_BC%2C_Canada.JPG/150px-Zip_line_arival_SuperFly_Whistler%2C_BC%2C_Canada.JPG 1.5x, https://upload.wikimedia.org/wikipedia/commons/thumb/a/a0/Zip_line_arival_SuperFly_Whistler%2C_BC%2C_Canada.JPG/200px-Zip_line_arival_SuperFly_Whistler%2C_BC%2C_Canada.JPG 2x\" width=\"100\"/></a></div></div>\n",
       "</td></tr>\n",
       "<tr>\n",
       "<th colspan=\"6\">Equipments\n",
       "</th></tr>\n",
       "<tr>\n",
       "<td><a href=\"/wiki/Key:aerialway\" title=\"Key:aerialway\"> aerialway</a>\n",
       "</td>\n",
       "<td><a href=\"/wiki/Tag:aerialway%3Dpylon\" title=\"Tag:aerialway=pylon\"> pylon</a>\n",
       "</td>\n",
       "<td><a href=\"/wiki/Node\" title=\"node\"><img alt=\"node\" decoding=\"async\" height=\"20\" src=\"/w/images/thumb/7/76/Osm_element_node.svg/20px-Osm_element_node.svg.png\" srcset=\"/w/images/thumb/7/76/Osm_element_node.svg/30px-Osm_element_node.svg.png 1.5x, /w/images/thumb/7/76/Osm_element_node.svg/40px-Osm_element_node.svg.png 2x\" width=\"20\"/></a>\n",
       "</td>\n",
       "<td><b><img alt=\"[W]\" decoding=\"async\" height=\"16\" src=\"/w/images/2/24/Wikipedia-16px.png\" title=\"Wikipedia\" width=\"16\"/> <a class=\"extiw\" href=\"http://en.wikipedia.org/wiki/Aerial_lift_pylon\" title=\"wikipedia:Aerial lift pylon\">Aerial lift pylon</a></b> is a pylon supporting the aerialway cable.\n",
       "</td>\n",
       "<td>\n",
       "</td>\n",
       "<td><div class=\"center\"><div class=\"floatnone\"><a class=\"image\" href=\"/wiki/File:09_Sommet_TS.JPG\"><img alt=\"09 Sommet TS.JPG\" decoding=\"async\" height=\"75\" src=\"https://upload.wikimedia.org/wikipedia/commons/thumb/b/be/09_Sommet_TS.JPG/100px-09_Sommet_TS.JPG\" srcset=\"https://upload.wikimedia.org/wikipedia/commons/thumb/b/be/09_Sommet_TS.JPG/150px-09_Sommet_TS.JPG 1.5x, https://upload.wikimedia.org/wikipedia/commons/thumb/b/be/09_Sommet_TS.JPG/200px-09_Sommet_TS.JPG 2x\" width=\"100\"/></a></div></div>\n",
       "</td></tr>\n",
       "<tr>\n",
       "<td><a href=\"/wiki/Key:aerialway\" title=\"Key:aerialway\"> aerialway</a>\n",
       "</td>\n",
       "<td><a href=\"/wiki/Tag:aerialway%3Dstation\" title=\"Tag:aerialway=station\"> station</a>\n",
       "</td>\n",
       "<td><a href=\"/wiki/Node\" title=\"node\"><img alt=\"node\" decoding=\"async\" height=\"20\" src=\"/w/images/thumb/7/76/Osm_element_node.svg/20px-Osm_element_node.svg.png\" srcset=\"/w/images/thumb/7/76/Osm_element_node.svg/30px-Osm_element_node.svg.png 1.5x, /w/images/thumb/7/76/Osm_element_node.svg/40px-Osm_element_node.svg.png 2x\" width=\"20\"/></a><a href=\"/wiki/Area\" title=\"area\"><img alt=\"area\" decoding=\"async\" height=\"20\" src=\"/w/images/thumb/e/e6/Osm_element_area.svg/20px-Osm_element_area.svg.png\" srcset=\"/w/images/thumb/e/e6/Osm_element_area.svg/30px-Osm_element_area.svg.png 1.5x, /w/images/thumb/e/e6/Osm_element_area.svg/40px-Osm_element_area.svg.png 2x\" width=\"20\"/></a>\n",
       "</td>\n",
       "<td>A station, where passengers can enter and/or leave the aerialway.\n",
       "</td>\n",
       "<td><a href=\"https://www.openstreetmap.org/?lat=47.02085&amp;lon=8.7032&amp;zoom=17\" title=\"See this map on OpenStreetMap.org\"><img border=\"0\" height=\"100\" src=\"https://maps.wikimedia.org/img/osm-intl,17,47.02085,8.7032,100x100.png\" width=\"100\"/></a>\n",
       "</td>\n",
       "<td><div class=\"center\"><div class=\"floatnone\"><a class=\"image\" href=\"/wiki/File:WinterArmenia3.JPG\"><img alt=\"WinterArmenia3.JPG\" decoding=\"async\" height=\"75\" src=\"https://upload.wikimedia.org/wikipedia/commons/thumb/4/49/WinterArmenia3.JPG/100px-WinterArmenia3.JPG\" srcset=\"https://upload.wikimedia.org/wikipedia/commons/thumb/4/49/WinterArmenia3.JPG/150px-WinterArmenia3.JPG 1.5x, https://upload.wikimedia.org/wikipedia/commons/thumb/4/49/WinterArmenia3.JPG/200px-WinterArmenia3.JPG 2x\" width=\"100\"/></a></div></div>\n",
       "</td></tr>\n",
       "<tr>\n",
       "<th colspan=\"6\">Others\n",
       "</th></tr>\n",
       "<tr>\n",
       "<td><a href=\"/wiki/Key:aerialway\" title=\"Key:aerialway\"> aerialway</a>\n",
       "</td>\n",
       "<td><a href=\"/wiki/Tag:aerialway%3Dcanopy\" title=\"Tag:aerialway=canopy\"> canopy</a>\n",
       "</td>\n",
       "<td><a href=\"/wiki/Way\" title=\"way\"><img alt=\"way\" decoding=\"async\" height=\"20\" src=\"/w/images/thumb/e/ee/Osm_element_way.svg/20px-Osm_element_way.svg.png\" srcset=\"/w/images/thumb/e/ee/Osm_element_way.svg/30px-Osm_element_way.svg.png 1.5x, /w/images/thumb/e/ee/Osm_element_way.svg/40px-Osm_element_way.svg.png 2x\" width=\"20\"/></a>\n",
       "</td>\n",
       "<td>Obsolete, please use <tt class=\"mw-content-ltr\" dir=\"ltr\" style=\"background:#EEF;font-size:1em;line-height:1.6\"><bdi style=\"white-space:nowrap\"><a href=\"/wiki/Key:aerialway\" title=\"Key:aerialway\">aerialway</a></bdi>=<a href=\"/wiki/Tag:aerialway%3Dzip_line\" title=\"Tag:aerialway=zip line\"><bdi>zip_line</bdi></a></tt> instead.<br/> This automatically implies <tt class=\"mw-content-ltr\" dir=\"ltr\" style=\"background:#EEF;font-size:1em;line-height:1.6\"><bdi style=\"white-space:nowrap\"><a href=\"/wiki/Key:oneway\" title=\"Key:oneway\">oneway</a></bdi>=<bdi>yes</bdi></tt> (drawn downward).\n",
       "</td>\n",
       "<td>\n",
       "</td>\n",
       "<td><div class=\"center\"><div class=\"floatnone\"><a class=\"image\" href=\"/wiki/File:Canopy-action.jpg\"><img alt=\"Canopy-action.jpg\" decoding=\"async\" height=\"75\" src=\"/w/images/thumb/4/43/Canopy-action.jpg/100px-Canopy-action.jpg\" srcset=\"/w/images/thumb/4/43/Canopy-action.jpg/150px-Canopy-action.jpg 1.5x, /w/images/thumb/4/43/Canopy-action.jpg/200px-Canopy-action.jpg 2x\" width=\"100\"/></a></div></div>\n",
       "</td></tr>\n",
       "<tr>\n",
       "<td><a href=\"/wiki/Key:aerialway\" title=\"Key:aerialway\"> aerialway</a>\n",
       "</td>\n",
       "<td><a href=\"/wiki/Tag:aerialway%3Dgoods\" title=\"Tag:aerialway=goods\"> goods</a>\n",
       "</td>\n",
       "<td><a href=\"/wiki/Way\" title=\"way\"><img alt=\"way\" decoding=\"async\" height=\"20\" src=\"/w/images/thumb/e/ee/Osm_element_way.svg/20px-Osm_element_way.svg.png\" srcset=\"/w/images/thumb/e/ee/Osm_element_way.svg/30px-Osm_element_way.svg.png 1.5x, /w/images/thumb/e/ee/Osm_element_way.svg/40px-Osm_element_way.svg.png 2x\" width=\"20\"/></a>\n",
       "</td>\n",
       "<td>Controversial, consider other <tt class=\"mw-content-ltr\" dir=\"ltr\" style=\"background:#EEF;font-size:1em;line-height:1.6\"><bdi style=\"white-space:nowrap\"><a href=\"/wiki/Key:aerialway\" title=\"Key:aerialway\">aerialway</a></bdi>=*</tt> values in combination with <tt class=\"mw-content-ltr\" dir=\"ltr\" style=\"background:#EEF;font-size:1em;line-height:1.6\"><bdi style=\"white-space:nowrap\"><a href=\"/wiki/Key:foot\" title=\"Key:foot\">foot</a></bdi>=<a class=\"mw-redirect\" href=\"/wiki/Tag:foot%3Dno\" title=\"Tag:foot=no\"><bdi>no</bdi></a></tt> and/or a <tt class=\"mw-content-ltr\" dir=\"ltr\" style=\"background:#EEF;font-size:1em;line-height:1.6\"><bdi style=\"white-space:nowrap\"><a href=\"/wiki/Key:usage\" title=\"Key:usage\">usage</a></bdi>=*</tt> key instead of this.\n",
       "</td>\n",
       "<td><div class=\"center\"><div class=\"floatnone\"><a class=\"image\" href=\"/wiki/File:Aerialway_goods.png\"><img alt=\"Aerialway goods.png\" decoding=\"async\" height=\"125\" src=\"/w/images/c/cb/Aerialway_goods.png\" width=\"125\"/></a></div></div>\n",
       "</td>\n",
       "<td><div class=\"center\"><div class=\"floatnone\"><a class=\"image\" href=\"/wiki/File:Materialseilbahn.jpg\"><img alt=\"Materialseilbahn.jpg\" decoding=\"async\" height=\"75\" src=\"https://upload.wikimedia.org/wikipedia/commons/thumb/8/89/Materialseilbahn.jpg/100px-Materialseilbahn.jpg\" srcset=\"https://upload.wikimedia.org/wikipedia/commons/thumb/8/89/Materialseilbahn.jpg/150px-Materialseilbahn.jpg 1.5x, https://upload.wikimedia.org/wikipedia/commons/thumb/8/89/Materialseilbahn.jpg/200px-Materialseilbahn.jpg 2x\" width=\"100\"/></a></div></div>\n",
       "</td></tr>\n",
       "<tr>\n",
       "<td><a href=\"/wiki/Key:aerialway\" title=\"Key:aerialway\"> aerialway</a>\n",
       "</td>\n",
       "<td><a class=\"mw-redirect\" href=\"/wiki/Proposed_features\" title=\"Proposed features\"> user defined</a>\n",
       "</td>\n",
       "<td><a href=\"/wiki/Node\" title=\"node\"><img alt=\"node\" decoding=\"async\" height=\"20\" src=\"/w/images/thumb/7/76/Osm_element_node.svg/20px-Osm_element_node.svg.png\" srcset=\"/w/images/thumb/7/76/Osm_element_node.svg/30px-Osm_element_node.svg.png 1.5x, /w/images/thumb/7/76/Osm_element_node.svg/40px-Osm_element_node.svg.png 2x\" width=\"20\"/></a> <a href=\"/wiki/Way\" title=\"way\"><img alt=\"way\" decoding=\"async\" height=\"20\" src=\"/w/images/thumb/e/ee/Osm_element_way.svg/20px-Osm_element_way.svg.png\" srcset=\"/w/images/thumb/e/ee/Osm_element_way.svg/30px-Osm_element_way.svg.png 1.5x, /w/images/thumb/e/ee/Osm_element_way.svg/40px-Osm_element_way.svg.png 2x\" width=\"20\"/></a>\n",
       "</td>\n",
       "<td><i><a class=\"external text\" href=\"//taginfo.openstreetmap.org/keys/aerialway#values\">All commonly used values</a> according to <a href=\"/wiki/Taginfo\" title=\"Taginfo\">Taginfo</a></i>\n",
       "</td>\n",
       "<td>\n",
       "</td>\n",
       "<td>\n",
       "</td></tr></tbody></table>"
      ]
     },
     "execution_count": 98,
     "metadata": {},
     "output_type": "execute_result"
    }
   ],
   "source": [
    "table[0]"
   ]
  },
  {
   "cell_type": "code",
   "execution_count": null,
   "metadata": {},
   "outputs": [],
   "source": []
  }
 ],
 "metadata": {
  "kernelspec": {
   "display_name": "inaturalist",
   "language": "python",
   "name": "inaturalist"
  },
  "language_info": {
   "codemirror_mode": {
    "name": "ipython",
    "version": 3
   },
   "file_extension": ".py",
   "mimetype": "text/x-python",
   "name": "python",
   "nbconvert_exporter": "python",
   "pygments_lexer": "ipython3",
   "version": "3.7.4"
  }
 },
 "nbformat": 4,
 "nbformat_minor": 4
}

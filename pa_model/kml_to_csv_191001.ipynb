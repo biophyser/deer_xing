{
 "cells": [
  {
   "cell_type": "code",
   "execution_count": 24,
   "metadata": {},
   "outputs": [],
   "source": [
    "from bs4 import BeautifulSoup\n",
    "import csv\n",
    "import os\n",
    "import matplotlib.pyplot as plt\n",
    "import pandas as pd\n",
    "import numpy as np\n",
    "from shapely.geometry import LineString\n",
    "import utilities"
   ]
  },
  {
   "cell_type": "code",
   "execution_count": 2,
   "metadata": {},
   "outputs": [],
   "source": [
    "def process_coord_string(coord_string):\n",
    "    \"\"\"\n",
    "    Take a coord string and spit out long/lat floats\n",
    "    \"\"\"\n",
    "    space_splits = coord_string.split(' ')\n",
    "    path_points = list()\n",
    "    for split in space_splits:\n",
    "        comma_split = split.split(',')\n",
    "        lat = float(comma_split[1]) # lat\n",
    "        lon = float(comma_split[0]) # long\n",
    "        path_points.append(tuple([lon, lat]))\n",
    "    return path_points\n",
    "\n",
    "def process_place(placemark):\n",
    "    \"\"\"Process placemark data from a KML file\"\"\"\n",
    "    place_dict = dict()\n",
    "    for i in placemark.find_all('SimpleData'):\n",
    "        place_dict[i['name']] = i.text\n",
    "        \n",
    "    try:\n",
    "        place_dict['lat_lon_list'] = process_coord_string(placemark.find('coordinates').string)\n",
    "        place_dict['line'] = LineString(place_dict['lat_lon_list'])\n",
    "        place_dict['mid_point'] = place_dict['line'].interpolate(0.5, normalized = True)\n",
    "        place_dict['length'] = place_dict['line'].length\n",
    "    except:\n",
    "        place_dict['lat_lon_list'] = np.nan\n",
    "        place_dict['line'] = np.nan\n",
    "        place_dict['mid_point'] = np.nan\n",
    "        place_dict['length'] = np.nan\n",
    "\n",
    "    return place_dict"
   ]
  },
  {
   "cell_type": "markdown",
   "metadata": {},
   "source": [
    "# PA Traffic"
   ]
  },
  {
   "cell_type": "code",
   "execution_count": 3,
   "metadata": {},
   "outputs": [],
   "source": [
    "with  open('RMSTRAFFIC_Traffic_Volumes.kml', encoding='utf8') as f:\n",
    "    centerline_soup = BeautifulSoup(f, 'xml')"
   ]
  },
  {
   "cell_type": "code",
   "execution_count": 4,
   "metadata": {},
   "outputs": [],
   "source": [
    "placemarks = centerline_soup.find_all('Placemark')\n",
    "place_list = [process_place(i) for i in placemarks]\n",
    "df_traffic = pd.DataFrame(place_list)"
   ]
  },
  {
   "cell_type": "code",
   "execution_count": 9,
   "metadata": {},
   "outputs": [],
   "source": [
    "del centerline_soup, place_list, placemarks"
   ]
  },
  {
   "cell_type": "code",
   "execution_count": 6,
   "metadata": {},
   "outputs": [
    {
     "data": {
      "text/plain": [
       "(50443, 52)"
      ]
     },
     "execution_count": 6,
     "metadata": {},
     "output_type": "execute_result"
    }
   ],
   "source": [
    "df_traffic.shape"
   ]
  },
  {
   "cell_type": "code",
   "execution_count": 8,
   "metadata": {},
   "outputs": [
    {
     "data": {
      "text/html": [
       "<div>\n",
       "<style scoped>\n",
       "    .dataframe tbody tr th:only-of-type {\n",
       "        vertical-align: middle;\n",
       "    }\n",
       "\n",
       "    .dataframe tbody tr th {\n",
       "        vertical-align: top;\n",
       "    }\n",
       "\n",
       "    .dataframe thead th {\n",
       "        text-align: right;\n",
       "    }\n",
       "</style>\n",
       "<table border=\"1\" class=\"dataframe\">\n",
       "  <thead>\n",
       "    <tr style=\"text-align: right;\">\n",
       "      <th></th>\n",
       "      <th>RMSTRAFFIC_LRS_KEY</th>\n",
       "      <th>ST_RT_NO</th>\n",
       "      <th>CTY_CODE</th>\n",
       "      <th>DISTRICT_NO</th>\n",
       "      <th>JURIS</th>\n",
       "      <th>SEG_BGN</th>\n",
       "      <th>OFFSET_BGN</th>\n",
       "      <th>SEG_END</th>\n",
       "      <th>OFFSET_END</th>\n",
       "      <th>SEG_PT_BGN</th>\n",
       "      <th>...</th>\n",
       "      <th>NLF_CNTL_BGN</th>\n",
       "      <th>NLF_CNTL_END</th>\n",
       "      <th>CUM_OFFSET_BGN_T1</th>\n",
       "      <th>CUM_OFFSET_END_T1</th>\n",
       "      <th>RECORD_UPDATE</th>\n",
       "      <th>GEOMETRYLEN</th>\n",
       "      <th>lat_lon_list</th>\n",
       "      <th>line</th>\n",
       "      <th>mid_point</th>\n",
       "      <th>length</th>\n",
       "    </tr>\n",
       "  </thead>\n",
       "  <tbody>\n",
       "    <tr>\n",
       "      <td>0</td>\n",
       "      <td>01004800100000003004225</td>\n",
       "      <td>0048</td>\n",
       "      <td>01</td>\n",
       "      <td>08</td>\n",
       "      <td>5</td>\n",
       "      <td>0010</td>\n",
       "      <td>0</td>\n",
       "      <td>0030</td>\n",
       "      <td>422</td>\n",
       "      <td>00100000</td>\n",
       "      <td>...</td>\n",
       "      <td>0</td>\n",
       "      <td>2797</td>\n",
       "      <td>0</td>\n",
       "      <td>2797</td>\n",
       "      <td>20190217</td>\n",
       "      <td>0</td>\n",
       "      <td>[(-77.23110324422287, 39.82972373398385), (-77...</td>\n",
       "      <td>LINESTRING (-77.23110324422287 39.829723733983...</td>\n",
       "      <td>POINT (-77.2299963918253 39.82972222817695)</td>\n",
       "      <td>0.002214</td>\n",
       "    </tr>\n",
       "    <tr>\n",
       "      <td>1</td>\n",
       "      <td>02028H00100000004006865</td>\n",
       "      <td>028H</td>\n",
       "      <td>02</td>\n",
       "      <td>11</td>\n",
       "      <td>5</td>\n",
       "      <td>0010</td>\n",
       "      <td>0</td>\n",
       "      <td>0040</td>\n",
       "      <td>686</td>\n",
       "      <td>00100000</td>\n",
       "      <td>...</td>\n",
       "      <td>0</td>\n",
       "      <td>4751</td>\n",
       "      <td>0</td>\n",
       "      <td>4751</td>\n",
       "      <td>20190217</td>\n",
       "      <td>0</td>\n",
       "      <td>[(-79.98862809120706, 40.43003878956188), (-79...</td>\n",
       "      <td>LINESTRING (-79.98862809120706 40.430038789561...</td>\n",
       "      <td>POINT (-79.98526276314594 40.43010513612506)</td>\n",
       "      <td>0.006732</td>\n",
       "    </tr>\n",
       "    <tr>\n",
       "      <td>2</td>\n",
       "      <td>02064400100000001076565</td>\n",
       "      <td>0644</td>\n",
       "      <td>02</td>\n",
       "      <td>11</td>\n",
       "      <td>5</td>\n",
       "      <td>0010</td>\n",
       "      <td>0</td>\n",
       "      <td>0010</td>\n",
       "      <td>7656</td>\n",
       "      <td>00100000</td>\n",
       "      <td>...</td>\n",
       "      <td>0</td>\n",
       "      <td>7656</td>\n",
       "      <td>0</td>\n",
       "      <td>7656</td>\n",
       "      <td>20190908</td>\n",
       "      <td>0</td>\n",
       "      <td>[(-79.8815921856011, 40.630976124424535), (-79...</td>\n",
       "      <td>LINESTRING (-79.88159218560109 40.630976124424...</td>\n",
       "      <td>POINT (-79.86976417452328 40.63349257754408)</td>\n",
       "      <td>0.024917</td>\n",
       "    </tr>\n",
       "    <tr>\n",
       "      <td>3</td>\n",
       "      <td>02065100100000002000005</td>\n",
       "      <td>0651</td>\n",
       "      <td>02</td>\n",
       "      <td>11</td>\n",
       "      <td>5</td>\n",
       "      <td>0010</td>\n",
       "      <td>0</td>\n",
       "      <td>0020</td>\n",
       "      <td>0</td>\n",
       "      <td>00100000</td>\n",
       "      <td>...</td>\n",
       "      <td>0</td>\n",
       "      <td>4065</td>\n",
       "      <td>0</td>\n",
       "      <td>4065</td>\n",
       "      <td>20180211</td>\n",
       "      <td>0</td>\n",
       "      <td>[(-79.90853573333078, 40.21860659169417), (-79...</td>\n",
       "      <td>LINESTRING (-79.90853573333078 40.218606591694...</td>\n",
       "      <td>POINT (-79.90442238098508 40.22356933075688)</td>\n",
       "      <td>0.013079</td>\n",
       "    </tr>\n",
       "    <tr>\n",
       "      <td>4</td>\n",
       "      <td>02065100200000002065475</td>\n",
       "      <td>0651</td>\n",
       "      <td>02</td>\n",
       "      <td>11</td>\n",
       "      <td>5</td>\n",
       "      <td>0020</td>\n",
       "      <td>0</td>\n",
       "      <td>0020</td>\n",
       "      <td>6547</td>\n",
       "      <td>00200000</td>\n",
       "      <td>...</td>\n",
       "      <td>4065</td>\n",
       "      <td>10612</td>\n",
       "      <td>4065</td>\n",
       "      <td>10612</td>\n",
       "      <td>20190825</td>\n",
       "      <td>0</td>\n",
       "      <td>[(-79.89861846554105, 40.2253894122988), (-79....</td>\n",
       "      <td>LINESTRING (-79.89861846554105 40.225389412298...</td>\n",
       "      <td>POINT (-79.89789183920182 40.234340476428)</td>\n",
       "      <td>0.018416</td>\n",
       "    </tr>\n",
       "  </tbody>\n",
       "</table>\n",
       "<p>5 rows × 52 columns</p>\n",
       "</div>"
      ],
      "text/plain": [
       "        RMSTRAFFIC_LRS_KEY ST_RT_NO CTY_CODE DISTRICT_NO JURIS SEG_BGN  \\\n",
       "0  01004800100000003004225     0048       01          08     5    0010   \n",
       "1  02028H00100000004006865     028H       02          11     5    0010   \n",
       "2  02064400100000001076565     0644       02          11     5    0010   \n",
       "3  02065100100000002000005     0651       02          11     5    0010   \n",
       "4  02065100200000002065475     0651       02          11     5    0020   \n",
       "\n",
       "  OFFSET_BGN SEG_END OFFSET_END SEG_PT_BGN  ... NLF_CNTL_BGN NLF_CNTL_END  \\\n",
       "0          0    0030        422   00100000  ...            0         2797   \n",
       "1          0    0040        686   00100000  ...            0         4751   \n",
       "2          0    0010       7656   00100000  ...            0         7656   \n",
       "3          0    0020          0   00100000  ...            0         4065   \n",
       "4          0    0020       6547   00200000  ...         4065        10612   \n",
       "\n",
       "  CUM_OFFSET_BGN_T1 CUM_OFFSET_END_T1 RECORD_UPDATE GEOMETRYLEN  \\\n",
       "0                 0              2797      20190217           0   \n",
       "1                 0              4751      20190217           0   \n",
       "2                 0              7656      20190908           0   \n",
       "3                 0              4065      20180211           0   \n",
       "4              4065             10612      20190825           0   \n",
       "\n",
       "                                        lat_lon_list  \\\n",
       "0  [(-77.23110324422287, 39.82972373398385), (-77...   \n",
       "1  [(-79.98862809120706, 40.43003878956188), (-79...   \n",
       "2  [(-79.8815921856011, 40.630976124424535), (-79...   \n",
       "3  [(-79.90853573333078, 40.21860659169417), (-79...   \n",
       "4  [(-79.89861846554105, 40.2253894122988), (-79....   \n",
       "\n",
       "                                                line  \\\n",
       "0  LINESTRING (-77.23110324422287 39.829723733983...   \n",
       "1  LINESTRING (-79.98862809120706 40.430038789561...   \n",
       "2  LINESTRING (-79.88159218560109 40.630976124424...   \n",
       "3  LINESTRING (-79.90853573333078 40.218606591694...   \n",
       "4  LINESTRING (-79.89861846554105 40.225389412298...   \n",
       "\n",
       "                                      mid_point    length  \n",
       "0   POINT (-77.2299963918253 39.82972222817695)  0.002214  \n",
       "1  POINT (-79.98526276314594 40.43010513612506)  0.006732  \n",
       "2  POINT (-79.86976417452328 40.63349257754408)  0.024917  \n",
       "3  POINT (-79.90442238098508 40.22356933075688)  0.013079  \n",
       "4    POINT (-79.89789183920182 40.234340476428)  0.018416  \n",
       "\n",
       "[5 rows x 52 columns]"
      ]
     },
     "execution_count": 8,
     "metadata": {},
     "output_type": "execute_result"
    }
   ],
   "source": [
    "df_traffic.head()"
   ]
  },
  {
   "cell_type": "code",
   "execution_count": 11,
   "metadata": {},
   "outputs": [
    {
     "data": {
      "text/plain": [
       "Index(['RMSTRAFFIC_LRS_KEY', 'ST_RT_NO', 'CTY_CODE', 'DISTRICT_NO', 'JURIS',\n",
       "       'SEG_BGN', 'OFFSET_BGN', 'SEG_END', 'OFFSET_END', 'SEG_PT_BGN',\n",
       "       'SEG_PT_END', 'SEG_LNGTH_FEET', 'SEQ_NO', 'CUR_AADT', 'ADTT_CUR',\n",
       "       'TRK_PCT', 'WKDY_TRK_CUR', 'ADLR_TRK_CUR', 'ADLF_TRK_CUR',\n",
       "       'BASE_YR_CLS_CNT', 'BASE_ADT', 'ADTT_BASE', 'WKDY_TRK_BASE',\n",
       "       'ADLR_TRK_BASE', 'ADLF_TRK_BASE', 'BASE_ADT_YR', 'DLY_VMT',\n",
       "       'DLY_TRK_VMT', 'K_FACTOR', 'D_FACTOR', 'T_FACTOR', 'VOL_CNT_KEY',\n",
       "       'VOL_CNT_DATE', 'RAW_CNT_HIST_DATE', 'TRAFF_PATT_GRP', 'DUR_CLS_CNT',\n",
       "       'TYPE_OF_CNT', 'DIR_IND', 'MSLINK', 'MAPID', 'NLF_ID', 'SIDE_IND',\n",
       "       'NLF_CNTL_BGN', 'NLF_CNTL_END', 'CUM_OFFSET_BGN_T1',\n",
       "       'CUM_OFFSET_END_T1', 'RECORD_UPDATE', 'GEOMETRYLEN', 'lat_lon_list',\n",
       "       'line', 'mid_point', 'length'],\n",
       "      dtype='object')"
      ]
     },
     "execution_count": 11,
     "metadata": {},
     "output_type": "execute_result"
    }
   ],
   "source": [
    "df_traffic.columns"
   ]
  },
  {
   "cell_type": "code",
   "execution_count": 12,
   "metadata": {},
   "outputs": [
    {
     "data": {
      "text/plain": [
       "RMSTRAFFIC_LRS_KEY                              01004800100000003004225\n",
       "ST_RT_NO                                                           0048\n",
       "CTY_CODE                                                             01\n",
       "DISTRICT_NO                                                          08\n",
       "JURIS                                                                 5\n",
       "SEG_BGN                                                            0010\n",
       "OFFSET_BGN                                                            0\n",
       "SEG_END                                                            0030\n",
       "OFFSET_END                                                          422\n",
       "SEG_PT_BGN                                                     00100000\n",
       "SEG_PT_END                                                     00300422\n",
       "SEG_LNGTH_FEET                                                     2797\n",
       "SEQ_NO                                                                1\n",
       "CUR_AADT                                                           4625\n",
       "ADTT_CUR                                                             46\n",
       "TRK_PCT                                                               1\n",
       "WKDY_TRK_CUR                                                         59\n",
       "ADLR_TRK_CUR                                                         26\n",
       "ADLF_TRK_CUR                                                         76\n",
       "BASE_YR_CLS_CNT                                                    2017\n",
       "BASE_ADT                                                           4599\n",
       "ADTT_BASE                                                            46\n",
       "WKDY_TRK_BASE                                                        59\n",
       "ADLR_TRK_BASE                                                        26\n",
       "ADLF_TRK_BASE                                                        20\n",
       "BASE_ADT_YR                                                        2017\n",
       "DLY_VMT                                                            2451\n",
       "DLY_TRK_VMT                                                          24\n",
       "K_FACTOR                                                             10\n",
       "D_FACTOR                                                             55\n",
       "T_FACTOR                                                              1\n",
       "VOL_CNT_KEY                                              01004800200001\n",
       "VOL_CNT_DATE                                                   20171101\n",
       "RAW_CNT_HIST_DATE                                               2017321\n",
       "TRAFF_PATT_GRP                                                       05\n",
       "DUR_CLS_CNT                                                          24\n",
       "TYPE_OF_CNT                                                           3\n",
       "DIR_IND                                                               B\n",
       "MSLINK                                                               71\n",
       "MAPID                                                            102278\n",
       "NLF_ID                                                            11365\n",
       "SIDE_IND                                                              1\n",
       "NLF_CNTL_BGN                                                          0\n",
       "NLF_CNTL_END                                                       2797\n",
       "CUM_OFFSET_BGN_T1                                                     0\n",
       "CUM_OFFSET_END_T1                                                  2797\n",
       "RECORD_UPDATE                                                  20190217\n",
       "GEOMETRYLEN                                                           0\n",
       "lat_lon_list          [(-77.23110324422287, 39.82972373398385), (-77...\n",
       "line                  LINESTRING (-77.23110324422287 39.829723733983...\n",
       "mid_point                   POINT (-77.2299963918253 39.82972222817695)\n",
       "length                                                       0.00221371\n",
       "Name: 0, dtype: object"
      ]
     },
     "execution_count": 12,
     "metadata": {},
     "output_type": "execute_result"
    }
   ],
   "source": [
    "df_traffic.iloc[0,:]"
   ]
  },
  {
   "cell_type": "code",
   "execution_count": 10,
   "metadata": {},
   "outputs": [
    {
     "name": "stdout",
     "output_type": "stream",
     "text": [
      "done\n"
     ]
    }
   ],
   "source": [
    "print('done')"
   ]
  },
  {
   "cell_type": "code",
   "execution_count": 13,
   "metadata": {},
   "outputs": [
    {
     "data": {
      "text/html": [
       "<div>\n",
       "<style scoped>\n",
       "    .dataframe tbody tr th:only-of-type {\n",
       "        vertical-align: middle;\n",
       "    }\n",
       "\n",
       "    .dataframe tbody tr th {\n",
       "        vertical-align: top;\n",
       "    }\n",
       "\n",
       "    .dataframe thead th {\n",
       "        text-align: right;\n",
       "    }\n",
       "</style>\n",
       "<table border=\"1\" class=\"dataframe\">\n",
       "  <thead>\n",
       "    <tr style=\"text-align: right;\">\n",
       "      <th></th>\n",
       "      <th>line</th>\n",
       "      <th>CUR_AADT</th>\n",
       "    </tr>\n",
       "  </thead>\n",
       "  <tbody>\n",
       "    <tr>\n",
       "      <td>0</td>\n",
       "      <td>LINESTRING (-77.23110324422287 39.829723733983...</td>\n",
       "      <td>4625</td>\n",
       "    </tr>\n",
       "    <tr>\n",
       "      <td>1</td>\n",
       "      <td>LINESTRING (-79.98862809120706 40.430038789561...</td>\n",
       "      <td>5195</td>\n",
       "    </tr>\n",
       "    <tr>\n",
       "      <td>2</td>\n",
       "      <td>LINESTRING (-79.88159218560109 40.630976124424...</td>\n",
       "      <td>4984</td>\n",
       "    </tr>\n",
       "    <tr>\n",
       "      <td>3</td>\n",
       "      <td>LINESTRING (-79.90853573333078 40.218606591694...</td>\n",
       "      <td>694</td>\n",
       "    </tr>\n",
       "    <tr>\n",
       "      <td>4</td>\n",
       "      <td>LINESTRING (-79.89861846554105 40.225389412298...</td>\n",
       "      <td>637</td>\n",
       "    </tr>\n",
       "  </tbody>\n",
       "</table>\n",
       "</div>"
      ],
      "text/plain": [
       "                                                line CUR_AADT\n",
       "0  LINESTRING (-77.23110324422287 39.829723733983...     4625\n",
       "1  LINESTRING (-79.98862809120706 40.430038789561...     5195\n",
       "2  LINESTRING (-79.88159218560109 40.630976124424...     4984\n",
       "3  LINESTRING (-79.90853573333078 40.218606591694...      694\n",
       "4  LINESTRING (-79.89861846554105 40.225389412298...      637"
      ]
     },
     "execution_count": 13,
     "metadata": {},
     "output_type": "execute_result"
    }
   ],
   "source": [
    "df_traffic[['line', 'CUR_AADT']].head()"
   ]
  },
  {
   "cell_type": "code",
   "execution_count": 15,
   "metadata": {},
   "outputs": [],
   "source": [
    "import geopandas\n",
    "geopandas.GeoDataFrame(df_traffic[['line', 'CUR_AADT']].dropna(), geometry='line').to_file('traffic_long_raw_AADT_geometries.shp', driver='ESRI Shapefile')"
   ]
  },
  {
   "cell_type": "code",
   "execution_count": 19,
   "metadata": {},
   "outputs": [
    {
     "data": {
      "text/plain": [
       "(50443, 52)"
      ]
     },
     "execution_count": 19,
     "metadata": {},
     "output_type": "execute_result"
    }
   ],
   "source": [
    "df_traffic.shape"
   ]
  },
  {
   "cell_type": "code",
   "execution_count": 17,
   "metadata": {},
   "outputs": [],
   "source": [
    "test = geopandas.read_file('traffic_long_raw_AADT_geometries.shp')"
   ]
  },
  {
   "cell_type": "code",
   "execution_count": 18,
   "metadata": {},
   "outputs": [
    {
     "data": {
      "text/plain": [
       "(43226, 2)"
      ]
     },
     "execution_count": 18,
     "metadata": {},
     "output_type": "execute_result"
    }
   ],
   "source": [
    "test.shape"
   ]
  },
  {
   "cell_type": "code",
   "execution_count": 20,
   "metadata": {},
   "outputs": [
    {
     "data": {
      "text/html": [
       "<div>\n",
       "<style scoped>\n",
       "    .dataframe tbody tr th:only-of-type {\n",
       "        vertical-align: middle;\n",
       "    }\n",
       "\n",
       "    .dataframe tbody tr th {\n",
       "        vertical-align: top;\n",
       "    }\n",
       "\n",
       "    .dataframe thead th {\n",
       "        text-align: right;\n",
       "    }\n",
       "</style>\n",
       "<table border=\"1\" class=\"dataframe\">\n",
       "  <thead>\n",
       "    <tr style=\"text-align: right;\">\n",
       "      <th></th>\n",
       "      <th>CUR_AADT</th>\n",
       "      <th>geometry</th>\n",
       "    </tr>\n",
       "  </thead>\n",
       "  <tbody>\n",
       "    <tr>\n",
       "      <td>0</td>\n",
       "      <td>4625</td>\n",
       "      <td>LINESTRING (-77.23110324422287 39.829723733983...</td>\n",
       "    </tr>\n",
       "    <tr>\n",
       "      <td>1</td>\n",
       "      <td>5195</td>\n",
       "      <td>LINESTRING (-79.98862809120706 40.430038789561...</td>\n",
       "    </tr>\n",
       "    <tr>\n",
       "      <td>2</td>\n",
       "      <td>4984</td>\n",
       "      <td>LINESTRING (-79.88159218560109 40.630976124424...</td>\n",
       "    </tr>\n",
       "    <tr>\n",
       "      <td>3</td>\n",
       "      <td>694</td>\n",
       "      <td>LINESTRING (-79.90853573333078 40.218606591694...</td>\n",
       "    </tr>\n",
       "    <tr>\n",
       "      <td>4</td>\n",
       "      <td>637</td>\n",
       "      <td>LINESTRING (-79.89861846554105 40.225389412298...</td>\n",
       "    </tr>\n",
       "  </tbody>\n",
       "</table>\n",
       "</div>"
      ],
      "text/plain": [
       "  CUR_AADT                                           geometry\n",
       "0     4625  LINESTRING (-77.23110324422287 39.829723733983...\n",
       "1     5195  LINESTRING (-79.98862809120706 40.430038789561...\n",
       "2     4984  LINESTRING (-79.88159218560109 40.630976124424...\n",
       "3      694  LINESTRING (-79.90853573333078 40.218606591694...\n",
       "4      637  LINESTRING (-79.89861846554105 40.225389412298..."
      ]
     },
     "execution_count": 20,
     "metadata": {},
     "output_type": "execute_result"
    }
   ],
   "source": [
    "test.head()"
   ]
  }
 ],
 "metadata": {
  "kernelspec": {
   "display_name": "inaturalist",
   "language": "python",
   "name": "inaturalist"
  },
  "language_info": {
   "codemirror_mode": {
    "name": "ipython",
    "version": 3
   },
   "file_extension": ".py",
   "mimetype": "text/x-python",
   "name": "python",
   "nbconvert_exporter": "python",
   "pygments_lexer": "ipython3",
   "version": "3.7.4"
  }
 },
 "nbformat": 4,
 "nbformat_minor": 4
}
